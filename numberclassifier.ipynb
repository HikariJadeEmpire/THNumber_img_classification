{
 "cells": [
  {
   "attachments": {},
   "cell_type": "markdown",
   "metadata": {},
   "source": [
    "<a href=\"https://colab.research.google.com/github/HikariJadeEmpire/THNumber_img_classification/blob/main/numberclassifier.ipynb\">\n",
    "  <img src=\"https://colab.research.google.com/assets/colab-badge.svg\" alt=\"Open In Colab\"/>\n",
    "</a>"
   ]
  },
  {
   "cell_type": "code",
   "execution_count": 1,
   "metadata": {},
   "outputs": [],
   "source": [
    "#pip install opencv-python\n",
    "\n",
    "# Choose one (for Cross Validation)\n",
    "#pip install pycaret\n",
    "#pip install tune-sklearn ray[tune]"
   ]
  },
  {
   "attachments": {},
   "cell_type": "markdown",
   "metadata": {},
   "source": [
    "# STEP 1 : Importing"
   ]
  },
  {
   "cell_type": "code",
   "execution_count": 2,
   "metadata": {},
   "outputs": [],
   "source": [
    "import numpy as np\n",
    "import pandas as pd\n",
    "\n",
    "import seaborn as sns\n",
    "import matplotlib.pyplot as plt\n",
    "%matplotlib inline\n",
    "\n",
    "#Importing OpenCV - the computer vision library\n",
    "import cv2\n",
    "\n",
    "# import the modules - Directory management\n",
    "import glob\n",
    "import os\n",
    "\n",
    "# SkLearn\n",
    "\n",
    "from sklearn.model_selection import train_test_split\n",
    "from sklearn import preprocessing\n",
    "\n",
    "from sklearn.pipeline import Pipeline\n",
    "from sklearn.preprocessing import MinMaxScaler\n",
    "from sklearn.ensemble import RandomForestClassifier\n",
    "from sklearn.linear_model import LogisticRegression\n",
    "from sklearn.ensemble import ExtraTreesClassifier\n",
    "\n",
    "from sklearn.metrics import classification_report "
   ]
  },
  {
   "attachments": {},
   "cell_type": "markdown",
   "metadata": {},
   "source": [
    "# STEP 1.1 : SET an important Variables"
   ]
  },
  {
   "cell_type": "code",
   "execution_count": 5,
   "metadata": {},
   "outputs": [],
   "source": [
    "main_dir = \"./Thainumber\""
   ]
  },
  {
   "cell_type": "code",
   "execution_count": 6,
   "metadata": {},
   "outputs": [],
   "source": [
    "def moveup(img):\n",
    "    while True:\n",
    "        if np.all(img[0] >= 240):\n",
    "            img = img[1:]\n",
    "        else:\n",
    "            break\n",
    "    return img\n",
    "\n",
    "def movedown(img):\n",
    "    while True:\n",
    "        if np.all(img[-1] >= 240):\n",
    "            img = img[:-1]\n",
    "        else:\n",
    "            break\n",
    "    return img\n",
    "\n",
    "def moveleft(img):\n",
    "    while True:\n",
    "        if np.all(img[:, 0] >= 240):\n",
    "            img = img[:, 1:]\n",
    "        else:\n",
    "            break\n",
    "    return img\n",
    "\n",
    "def moveright(img):\n",
    "    while True:\n",
    "        if np.all(img[:, -1] >= 240):\n",
    "            img = img[:, :-1]\n",
    "        else:\n",
    "            break\n",
    "    return img\n",
    "\n",
    "def rescale(img):\n",
    "    img = moveup(img)\n",
    "    img = movedown(img)\n",
    "    img = moveleft(img)\n",
    "    img = moveright(img)\n",
    "    return img"
   ]
  },
  {
   "attachments": {},
   "cell_type": "markdown",
   "metadata": {},
   "source": [
    "# STEP 2 : Preparing & inspection"
   ]
  },
  {
   "attachments": {},
   "cell_type": "markdown",
   "metadata": {},
   "source": [
    "Prepare for inspections"
   ]
  },
  {
   "cell_type": "code",
   "execution_count": 7,
   "metadata": {},
   "outputs": [],
   "source": [
    "file_path_all = list( glob.glob( main_dir + '/**/*.png' ) )"
   ]
  },
  {
   "cell_type": "code",
   "execution_count": 8,
   "metadata": {},
   "outputs": [
    {
     "data": {
      "text/html": [
       "<div>\n",
       "<style scoped>\n",
       "    .dataframe tbody tr th:only-of-type {\n",
       "        vertical-align: middle;\n",
       "    }\n",
       "\n",
       "    .dataframe tbody tr th {\n",
       "        vertical-align: top;\n",
       "    }\n",
       "\n",
       "    .dataframe thead th {\n",
       "        text-align: right;\n",
       "    }\n",
       "</style>\n",
       "<table border=\"1\" class=\"dataframe\">\n",
       "  <thead>\n",
       "    <tr style=\"text-align: right;\">\n",
       "      <th></th>\n",
       "      <th>Filepath</th>\n",
       "      <th>Label</th>\n",
       "    </tr>\n",
       "  </thead>\n",
       "  <tbody>\n",
       "    <tr>\n",
       "      <th>0</th>\n",
       "      <td>./Thainumber\\2\\2-7.png</td>\n",
       "      <td>2</td>\n",
       "    </tr>\n",
       "    <tr>\n",
       "      <th>1</th>\n",
       "      <td>./Thainumber\\7\\7-37.png</td>\n",
       "      <td>7</td>\n",
       "    </tr>\n",
       "    <tr>\n",
       "      <th>2</th>\n",
       "      <td>./Thainumber\\2\\2-12.png</td>\n",
       "      <td>2</td>\n",
       "    </tr>\n",
       "    <tr>\n",
       "      <th>3</th>\n",
       "      <td>./Thainumber\\1\\1-15.png</td>\n",
       "      <td>1</td>\n",
       "    </tr>\n",
       "    <tr>\n",
       "      <th>4</th>\n",
       "      <td>./Thainumber\\4\\4-22.png</td>\n",
       "      <td>4</td>\n",
       "    </tr>\n",
       "    <tr>\n",
       "      <th>...</th>\n",
       "      <td>...</td>\n",
       "      <td>...</td>\n",
       "    </tr>\n",
       "    <tr>\n",
       "      <th>695</th>\n",
       "      <td>./Thainumber\\7\\seven5.png</td>\n",
       "      <td>7</td>\n",
       "    </tr>\n",
       "    <tr>\n",
       "      <th>696</th>\n",
       "      <td>./Thainumber\\9\\9-21.png</td>\n",
       "      <td>9</td>\n",
       "    </tr>\n",
       "    <tr>\n",
       "      <th>697</th>\n",
       "      <td>./Thainumber\\2\\2-16.png</td>\n",
       "      <td>2</td>\n",
       "    </tr>\n",
       "    <tr>\n",
       "      <th>698</th>\n",
       "      <td>./Thainumber\\1\\1-7.png</td>\n",
       "      <td>1</td>\n",
       "    </tr>\n",
       "    <tr>\n",
       "      <th>699</th>\n",
       "      <td>./Thainumber\\9\\9-10.png</td>\n",
       "      <td>9</td>\n",
       "    </tr>\n",
       "  </tbody>\n",
       "</table>\n",
       "<p>700 rows × 2 columns</p>\n",
       "</div>"
      ],
      "text/plain": [
       "                      Filepath Label\n",
       "0       ./Thainumber\\2\\2-7.png     2\n",
       "1      ./Thainumber\\7\\7-37.png     7\n",
       "2      ./Thainumber\\2\\2-12.png     2\n",
       "3      ./Thainumber\\1\\1-15.png     1\n",
       "4      ./Thainumber\\4\\4-22.png     4\n",
       "..                         ...   ...\n",
       "695  ./Thainumber\\7\\seven5.png     7\n",
       "696    ./Thainumber\\9\\9-21.png     9\n",
       "697    ./Thainumber\\2\\2-16.png     2\n",
       "698     ./Thainumber\\1\\1-7.png     1\n",
       "699    ./Thainumber\\9\\9-10.png     9\n",
       "\n",
       "[700 rows x 2 columns]"
      ]
     },
     "execution_count": 8,
     "metadata": {},
     "output_type": "execute_result"
    }
   ],
   "source": [
    "labels = list( map(lambda x: os.path.split( os.path.split(x)[0] )[1] , file_path_all) )\n",
    "\n",
    "filepath = pd.Series(file_path_all, name='Filepath').astype(str)\n",
    "labels = pd.Series(labels, name='Label')\n",
    "\n",
    "data = pd.concat([filepath, labels], axis=1)\n",
    "\n",
    "data = data.sample(frac=1).reset_index(drop=True)   # Return a random sample of items from an axis of object.\n",
    "data"
   ]
  },
  {
   "cell_type": "code",
   "execution_count": 9,
   "metadata": {},
   "outputs": [
    {
     "data": {
      "text/plain": [
       "(700, 2)"
      ]
     },
     "execution_count": 9,
     "metadata": {},
     "output_type": "execute_result"
    }
   ],
   "source": [
    "data.shape"
   ]
  },
  {
   "cell_type": "code",
   "execution_count": 49,
   "metadata": {},
   "outputs": [
    {
     "data": {
      "image/png": "[encoded data removed]",
      "text/plain": [
       "<Figure size 600x400 with 15 Axes>"
      ]
     },
     "metadata": {},
     "output_type": "display_data"
    }
   ],
   "source": [
    "fig, axes = plt.subplots(nrows=3, ncols=5, figsize=(6,4), subplot_kw = {'xticks':[],'yticks':[]} )\n",
    "\n",
    "for i,ax in enumerate(axes.flat):\n",
    "    ax.imshow(plt.imread(data.Filepath[i]))\n",
    "    ax.set_title(data.Label[i])\n",
    "    \n",
    "fig.suptitle(\"Overall\")\n",
    "fig.tight_layout()\n",
    "plt.show()"
   ]
  },
  {
   "cell_type": "code",
   "execution_count": 50,
   "metadata": {},
   "outputs": [
    {
     "data": {
      "image/png": "[encoded data removed]",
      "text/plain": [
       "<Figure size 600x400 with 6 Axes>"
      ]
     },
     "metadata": {},
     "output_type": "display_data"
    },
    {
     "data": {
      "image/png": "[encoded data removed]",
      "text/plain": [
       "<Figure size 600x400 with 6 Axes>"
      ]
     },
     "metadata": {},
     "output_type": "display_data"
    }
   ],
   "source": [
    "fig1, axes1 = plt.subplots(nrows=2, ncols=3, figsize=(6,4), subplot_kw = {'xticks':[],'yticks':[]} )\n",
    "fig2, axes2 = plt.subplots(nrows=2, ncols=3, figsize=(6,4), subplot_kw = {'xticks':[],'yticks':[]} )\n",
    "\n",
    "for i in range(6): # 6 is from nrows*ncolumns in each fig\n",
    "    \n",
    "    axes1.flat[i].imshow(plt.imread(data.Filepath[i]))\n",
    "    axes1.flat[i].set_title(data.Label[i])\n",
    "\n",
    "    im = cv2.imread(data.Filepath[i])\n",
    "    #im = cv2.cvtColor(im, cv2.COLOR_BGR2GRAY)\n",
    "    im = rescale(im)\n",
    "\n",
    "    axes2.flat[i].imshow(im)\n",
    "    axes2.flat[i].set_title(data.Label[i])\n",
    "\n",
    "fig1.suptitle(\"Before re-scale\")\n",
    "fig1.tight_layout()\n",
    "#fig1.show()\n",
    "\n",
    "fig2.suptitle(\"After re-scale\")\n",
    "fig2.tight_layout()\n",
    "#fig2.show()"
   ]
  },
  {
   "cell_type": "code",
   "execution_count": 34,
   "metadata": {},
   "outputs": [
    {
     "data": {
      "text/plain": [
       "Text(0, 0.5, 'Counts')"
      ]
     },
     "execution_count": 34,
     "metadata": {},
     "output_type": "execute_result"
    },
    {
     "data": {
      "image/png": "[encoded data removed]",
      "text/plain": [
       "<Figure size 640x480 with 1 Axes>"
      ]
     },
     "metadata": {},
     "output_type": "display_data"
    }
   ],
   "source": [
    "counts = data['Label'].value_counts()\n",
    "sns.barplot(x=counts.index, y=counts)\n",
    "plt.ylabel('Counts')"
   ]
  },
  {
   "attachments": {},
   "cell_type": "markdown",
   "metadata": {},
   "source": [
    "Prepare for Training"
   ]
  },
  {
   "cell_type": "code",
   "execution_count": 12,
   "metadata": {},
   "outputs": [],
   "source": [
    "# Prepare X and Y\n",
    "\n",
    "Before_x = data['Filepath']\n",
    "y = data['Label']\n",
    "\n",
    "# To work with X, we need to flatten the images first.\n",
    "read_x = []\n",
    "\n",
    "for i in Before_x :\n",
    "    img = cv2.imread(i)\n",
    "    img = cv2.cvtColor(img, cv2.COLOR_BGR2GRAY)\n",
    "    img = rescale(img)\n",
    "    img = cv2.resize(img, (28, 28))\n",
    "    img = img.flatten()\n",
    " \n",
    "    read_x.append(img)\n",
    "\n",
    "x = np.asarray(read_x)\n",
    "\n",
    "x = pd.DataFrame(x)\n",
    "y = pd.DataFrame(y)"
   ]
  },
  {
   "cell_type": "code",
   "execution_count": 14,
   "metadata": {},
   "outputs": [
    {
     "data": {
      "text/html": [
       "<div>\n",
       "<style scoped>\n",
       "    .dataframe tbody tr th:only-of-type {\n",
       "        vertical-align: middle;\n",
       "    }\n",
       "\n",
       "    .dataframe tbody tr th {\n",
       "        vertical-align: top;\n",
       "    }\n",
       "\n",
       "    .dataframe thead th {\n",
       "        text-align: right;\n",
       "    }\n",
       "</style>\n",
       "<table border=\"1\" class=\"dataframe\">\n",
       "  <thead>\n",
       "    <tr style=\"text-align: right;\">\n",
       "      <th></th>\n",
       "      <th>0</th>\n",
       "      <th>1</th>\n",
       "      <th>2</th>\n",
       "      <th>3</th>\n",
       "      <th>4</th>\n",
       "      <th>5</th>\n",
       "      <th>6</th>\n",
       "      <th>7</th>\n",
       "      <th>8</th>\n",
       "      <th>9</th>\n",
       "      <th>...</th>\n",
       "      <th>775</th>\n",
       "      <th>776</th>\n",
       "      <th>777</th>\n",
       "      <th>778</th>\n",
       "      <th>779</th>\n",
       "      <th>780</th>\n",
       "      <th>781</th>\n",
       "      <th>782</th>\n",
       "      <th>783</th>\n",
       "      <th>Label</th>\n",
       "    </tr>\n",
       "  </thead>\n",
       "  <tbody>\n",
       "    <tr>\n",
       "      <th>0</th>\n",
       "      <td>255</td>\n",
       "      <td>255</td>\n",
       "      <td>255</td>\n",
       "      <td>255</td>\n",
       "      <td>255</td>\n",
       "      <td>255</td>\n",
       "      <td>255</td>\n",
       "      <td>255</td>\n",
       "      <td>255</td>\n",
       "      <td>255</td>\n",
       "      <td>...</td>\n",
       "      <td>255</td>\n",
       "      <td>255</td>\n",
       "      <td>255</td>\n",
       "      <td>255</td>\n",
       "      <td>255</td>\n",
       "      <td>255</td>\n",
       "      <td>255</td>\n",
       "      <td>255</td>\n",
       "      <td>255</td>\n",
       "      <td>7</td>\n",
       "    </tr>\n",
       "    <tr>\n",
       "      <th>1</th>\n",
       "      <td>255</td>\n",
       "      <td>255</td>\n",
       "      <td>255</td>\n",
       "      <td>255</td>\n",
       "      <td>255</td>\n",
       "      <td>255</td>\n",
       "      <td>255</td>\n",
       "      <td>255</td>\n",
       "      <td>255</td>\n",
       "      <td>100</td>\n",
       "      <td>...</td>\n",
       "      <td>255</td>\n",
       "      <td>255</td>\n",
       "      <td>255</td>\n",
       "      <td>255</td>\n",
       "      <td>255</td>\n",
       "      <td>255</td>\n",
       "      <td>255</td>\n",
       "      <td>255</td>\n",
       "      <td>255</td>\n",
       "      <td>1</td>\n",
       "    </tr>\n",
       "    <tr>\n",
       "      <th>2</th>\n",
       "      <td>255</td>\n",
       "      <td>255</td>\n",
       "      <td>255</td>\n",
       "      <td>255</td>\n",
       "      <td>255</td>\n",
       "      <td>166</td>\n",
       "      <td>41</td>\n",
       "      <td>7</td>\n",
       "      <td>27</td>\n",
       "      <td>107</td>\n",
       "      <td>...</td>\n",
       "      <td>255</td>\n",
       "      <td>255</td>\n",
       "      <td>255</td>\n",
       "      <td>255</td>\n",
       "      <td>255</td>\n",
       "      <td>255</td>\n",
       "      <td>255</td>\n",
       "      <td>255</td>\n",
       "      <td>255</td>\n",
       "      <td>3</td>\n",
       "    </tr>\n",
       "    <tr>\n",
       "      <th>3</th>\n",
       "      <td>255</td>\n",
       "      <td>255</td>\n",
       "      <td>255</td>\n",
       "      <td>255</td>\n",
       "      <td>255</td>\n",
       "      <td>255</td>\n",
       "      <td>255</td>\n",
       "      <td>255</td>\n",
       "      <td>255</td>\n",
       "      <td>255</td>\n",
       "      <td>...</td>\n",
       "      <td>255</td>\n",
       "      <td>254</td>\n",
       "      <td>254</td>\n",
       "      <td>255</td>\n",
       "      <td>255</td>\n",
       "      <td>255</td>\n",
       "      <td>253</td>\n",
       "      <td>254</td>\n",
       "      <td>255</td>\n",
       "      <td>8</td>\n",
       "    </tr>\n",
       "    <tr>\n",
       "      <th>4</th>\n",
       "      <td>255</td>\n",
       "      <td>255</td>\n",
       "      <td>255</td>\n",
       "      <td>255</td>\n",
       "      <td>255</td>\n",
       "      <td>255</td>\n",
       "      <td>255</td>\n",
       "      <td>255</td>\n",
       "      <td>255</td>\n",
       "      <td>255</td>\n",
       "      <td>...</td>\n",
       "      <td>255</td>\n",
       "      <td>255</td>\n",
       "      <td>255</td>\n",
       "      <td>255</td>\n",
       "      <td>255</td>\n",
       "      <td>255</td>\n",
       "      <td>255</td>\n",
       "      <td>255</td>\n",
       "      <td>255</td>\n",
       "      <td>9</td>\n",
       "    </tr>\n",
       "  </tbody>\n",
       "</table>\n",
       "<p>5 rows × 785 columns</p>\n",
       "</div>"
      ],
      "text/plain": [
       "     0    1    2    3    4    5    6    7    8    9  ...  775  776  777  778  \\\n",
       "0  255  255  255  255  255  255  255  255  255  255  ...  255  255  255  255   \n",
       "1  255  255  255  255  255  255  255  255  255  100  ...  255  255  255  255   \n",
       "2  255  255  255  255  255  166   41    7   27  107  ...  255  255  255  255   \n",
       "3  255  255  255  255  255  255  255  255  255  255  ...  255  254  254  255   \n",
       "4  255  255  255  255  255  255  255  255  255  255  ...  255  255  255  255   \n",
       "\n",
       "   779  780  781  782  783  Label  \n",
       "0  255  255  255  255  255      7  \n",
       "1  255  255  255  255  255      1  \n",
       "2  255  255  255  255  255      3  \n",
       "3  255  255  253  254  255      8  \n",
       "4  255  255  255  255  255      9  \n",
       "\n",
       "[5 rows x 785 columns]"
      ]
     },
     "execution_count": 14,
     "metadata": {},
     "output_type": "execute_result"
    }
   ],
   "source": [
    "df = pd.concat([x,y] , axis=1)\n",
    "#df.to_csv('image_df.csv')\n",
    "df.head()"
   ]
  },
  {
   "cell_type": "code",
   "execution_count": 15,
   "metadata": {},
   "outputs": [],
   "source": [
    "# Binarize the output\n",
    "\n",
    "#y = preprocessing.label_binarize( y , classes = ['0', '1', '2', '3', '4', '5', '6', '7', '8', '9'] )\n",
    "#print(y)"
   ]
  },
  {
   "cell_type": "code",
   "execution_count": 16,
   "metadata": {},
   "outputs": [],
   "source": [
    "X_train, X_test, y_train, y_test = train_test_split( x, y, test_size = 0.30, random_state = 42, stratify = y )"
   ]
  },
  {
   "attachments": {},
   "cell_type": "markdown",
   "metadata": {},
   "source": [
    "# STEP 3 : Train "
   ]
  },
  {
   "attachments": {},
   "cell_type": "markdown",
   "metadata": {},
   "source": [
    "<h4>Cross Validation : AutoML </h4>\n",
    "By : Pycaret"
   ]
  },
  {
   "cell_type": "code",
   "execution_count": 17,
   "metadata": {},
   "outputs": [
    {
     "data": {
      "text/html": [
       "<style type=\"text/css\">\n",
       "#T_2aada_row9_col1 {\n",
       "  background-color: lightgreen;\n",
       "}\n",
       "</style>\n",
       "<table id=\"T_2aada\">\n",
       "  <thead>\n",
       "    <tr>\n",
       "      <th class=\"blank level0\" >&nbsp;</th>\n",
       "      <th id=\"T_2aada_level0_col0\" class=\"col_heading level0 col0\" >Description</th>\n",
       "      <th id=\"T_2aada_level0_col1\" class=\"col_heading level0 col1\" >Value</th>\n",
       "    </tr>\n",
       "  </thead>\n",
       "  <tbody>\n",
       "    <tr>\n",
       "      <th id=\"T_2aada_level0_row0\" class=\"row_heading level0 row0\" >0</th>\n",
       "      <td id=\"T_2aada_row0_col0\" class=\"data row0 col0\" >Session id</td>\n",
       "      <td id=\"T_2aada_row0_col1\" class=\"data row0 col1\" >123</td>\n",
       "    </tr>\n",
       "    <tr>\n",
       "      <th id=\"T_2aada_level0_row1\" class=\"row_heading level0 row1\" >1</th>\n",
       "      <td id=\"T_2aada_row1_col0\" class=\"data row1 col0\" >Target</td>\n",
       "      <td id=\"T_2aada_row1_col1\" class=\"data row1 col1\" >Label</td>\n",
       "    </tr>\n",
       "    <tr>\n",
       "      <th id=\"T_2aada_level0_row2\" class=\"row_heading level0 row2\" >2</th>\n",
       "      <td id=\"T_2aada_row2_col0\" class=\"data row2 col0\" >Target type</td>\n",
       "      <td id=\"T_2aada_row2_col1\" class=\"data row2 col1\" >Multiclass</td>\n",
       "    </tr>\n",
       "    <tr>\n",
       "      <th id=\"T_2aada_level0_row3\" class=\"row_heading level0 row3\" >3</th>\n",
       "      <td id=\"T_2aada_row3_col0\" class=\"data row3 col0\" >Target mapping</td>\n",
       "      <td id=\"T_2aada_row3_col1\" class=\"data row3 col1\" >0: 0, 1: 1, 2: 2, 3: 3, 4: 4, 5: 5, 6: 6, 7: 7, 8: 8, 9: 9</td>\n",
       "    </tr>\n",
       "    <tr>\n",
       "      <th id=\"T_2aada_level0_row4\" class=\"row_heading level0 row4\" >4</th>\n",
       "      <td id=\"T_2aada_row4_col0\" class=\"data row4 col0\" >Original data shape</td>\n",
       "      <td id=\"T_2aada_row4_col1\" class=\"data row4 col1\" >(700, 785)</td>\n",
       "    </tr>\n",
       "    <tr>\n",
       "      <th id=\"T_2aada_level0_row5\" class=\"row_heading level0 row5\" >5</th>\n",
       "      <td id=\"T_2aada_row5_col0\" class=\"data row5 col0\" >Transformed data shape</td>\n",
       "      <td id=\"T_2aada_row5_col1\" class=\"data row5 col1\" >(700, 785)</td>\n",
       "    </tr>\n",
       "    <tr>\n",
       "      <th id=\"T_2aada_level0_row6\" class=\"row_heading level0 row6\" >6</th>\n",
       "      <td id=\"T_2aada_row6_col0\" class=\"data row6 col0\" >Transformed train set shape</td>\n",
       "      <td id=\"T_2aada_row6_col1\" class=\"data row6 col1\" >(489, 785)</td>\n",
       "    </tr>\n",
       "    <tr>\n",
       "      <th id=\"T_2aada_level0_row7\" class=\"row_heading level0 row7\" >7</th>\n",
       "      <td id=\"T_2aada_row7_col0\" class=\"data row7 col0\" >Transformed test set shape</td>\n",
       "      <td id=\"T_2aada_row7_col1\" class=\"data row7 col1\" >(211, 785)</td>\n",
       "    </tr>\n",
       "    <tr>\n",
       "      <th id=\"T_2aada_level0_row8\" class=\"row_heading level0 row8\" >8</th>\n",
       "      <td id=\"T_2aada_row8_col0\" class=\"data row8 col0\" >Numeric features</td>\n",
       "      <td id=\"T_2aada_row8_col1\" class=\"data row8 col1\" >784</td>\n",
       "    </tr>\n",
       "    <tr>\n",
       "      <th id=\"T_2aada_level0_row9\" class=\"row_heading level0 row9\" >9</th>\n",
       "      <td id=\"T_2aada_row9_col0\" class=\"data row9 col0\" >Preprocess</td>\n",
       "      <td id=\"T_2aada_row9_col1\" class=\"data row9 col1\" >True</td>\n",
       "    </tr>\n",
       "    <tr>\n",
       "      <th id=\"T_2aada_level0_row10\" class=\"row_heading level0 row10\" >10</th>\n",
       "      <td id=\"T_2aada_row10_col0\" class=\"data row10 col0\" >Imputation type</td>\n",
       "      <td id=\"T_2aada_row10_col1\" class=\"data row10 col1\" >simple</td>\n",
       "    </tr>\n",
       "    <tr>\n",
       "      <th id=\"T_2aada_level0_row11\" class=\"row_heading level0 row11\" >11</th>\n",
       "      <td id=\"T_2aada_row11_col0\" class=\"data row11 col0\" >Numeric imputation</td>\n",
       "      <td id=\"T_2aada_row11_col1\" class=\"data row11 col1\" >mean</td>\n",
       "    </tr>\n",
       "    <tr>\n",
       "      <th id=\"T_2aada_level0_row12\" class=\"row_heading level0 row12\" >12</th>\n",
       "      <td id=\"T_2aada_row12_col0\" class=\"data row12 col0\" >Categorical imputation</td>\n",
       "      <td id=\"T_2aada_row12_col1\" class=\"data row12 col1\" >mode</td>\n",
       "    </tr>\n",
       "    <tr>\n",
       "      <th id=\"T_2aada_level0_row13\" class=\"row_heading level0 row13\" >13</th>\n",
       "      <td id=\"T_2aada_row13_col0\" class=\"data row13 col0\" >Fold Generator</td>\n",
       "      <td id=\"T_2aada_row13_col1\" class=\"data row13 col1\" >StratifiedKFold</td>\n",
       "    </tr>\n",
       "    <tr>\n",
       "      <th id=\"T_2aada_level0_row14\" class=\"row_heading level0 row14\" >14</th>\n",
       "      <td id=\"T_2aada_row14_col0\" class=\"data row14 col0\" >Fold Number</td>\n",
       "      <td id=\"T_2aada_row14_col1\" class=\"data row14 col1\" >10</td>\n",
       "    </tr>\n",
       "    <tr>\n",
       "      <th id=\"T_2aada_level0_row15\" class=\"row_heading level0 row15\" >15</th>\n",
       "      <td id=\"T_2aada_row15_col0\" class=\"data row15 col0\" >CPU Jobs</td>\n",
       "      <td id=\"T_2aada_row15_col1\" class=\"data row15 col1\" >-1</td>\n",
       "    </tr>\n",
       "    <tr>\n",
       "      <th id=\"T_2aada_level0_row16\" class=\"row_heading level0 row16\" >16</th>\n",
       "      <td id=\"T_2aada_row16_col0\" class=\"data row16 col0\" >Use GPU</td>\n",
       "      <td id=\"T_2aada_row16_col1\" class=\"data row16 col1\" >False</td>\n",
       "    </tr>\n",
       "    <tr>\n",
       "      <th id=\"T_2aada_level0_row17\" class=\"row_heading level0 row17\" >17</th>\n",
       "      <td id=\"T_2aada_row17_col0\" class=\"data row17 col0\" >Log Experiment</td>\n",
       "      <td id=\"T_2aada_row17_col1\" class=\"data row17 col1\" >False</td>\n",
       "    </tr>\n",
       "    <tr>\n",
       "      <th id=\"T_2aada_level0_row18\" class=\"row_heading level0 row18\" >18</th>\n",
       "      <td id=\"T_2aada_row18_col0\" class=\"data row18 col0\" >Experiment Name</td>\n",
       "      <td id=\"T_2aada_row18_col1\" class=\"data row18 col1\" >clf-default-name</td>\n",
       "    </tr>\n",
       "    <tr>\n",
       "      <th id=\"T_2aada_level0_row19\" class=\"row_heading level0 row19\" >19</th>\n",
       "      <td id=\"T_2aada_row19_col0\" class=\"data row19 col0\" >USI</td>\n",
       "      <td id=\"T_2aada_row19_col1\" class=\"data row19 col1\" >61b2</td>\n",
       "    </tr>\n",
       "  </tbody>\n",
       "</table>\n"
      ],
      "text/plain": [
       "<pandas.io.formats.style.Styler at 0x1cb3c6a0be0>"
      ]
     },
     "metadata": {},
     "output_type": "display_data"
    }
   ],
   "source": [
    "from pycaret.classification import *\n",
    "\n",
    "s = setup( df, target = 'Label', session_id = 123, train_size = 0.7  )"
   ]
  },
  {
   "cell_type": "code",
   "execution_count": 18,
   "metadata": {},
   "outputs": [
    {
     "data": {
      "text/html": [],
      "text/plain": [
       "<IPython.core.display.HTML object>"
      ]
     },
     "metadata": {},
     "output_type": "display_data"
    },
    {
     "data": {
      "text/html": [],
      "text/plain": [
       "<IPython.core.display.HTML object>"
      ]
     },
     "metadata": {},
     "output_type": "display_data"
    },
    {
     "data": {
      "text/html": [],
      "text/plain": [
       "<IPython.core.display.HTML object>"
      ]
     },
     "metadata": {},
     "output_type": "display_data"
    },
    {
     "data": {
      "text/html": [
       "<div>\n",
       "<style scoped>\n",
       "    .dataframe tbody tr th:only-of-type {\n",
       "        vertical-align: middle;\n",
       "    }\n",
       "\n",
       "    .dataframe tbody tr th {\n",
       "        vertical-align: top;\n",
       "    }\n",
       "\n",
       "    .dataframe thead th {\n",
       "        text-align: right;\n",
       "    }\n",
       "</style>\n",
       "<table border=\"1\" class=\"dataframe\">\n",
       "  <thead>\n",
       "    <tr style=\"text-align: right;\">\n",
       "      <th></th>\n",
       "      <th>Model</th>\n",
       "      <th>Accuracy</th>\n",
       "      <th>AUC</th>\n",
       "      <th>Recall</th>\n",
       "      <th>Prec.</th>\n",
       "      <th>F1</th>\n",
       "      <th>Kappa</th>\n",
       "      <th>MCC</th>\n",
       "      <th>TT (Sec)</th>\n",
       "    </tr>\n",
       "  </thead>\n",
       "  <tbody>\n",
       "    <tr>\n",
       "      <th>et</th>\n",
       "      <td>Extra Trees Classifier</td>\n",
       "      <td>0.9509</td>\n",
       "      <td>0.9984</td>\n",
       "      <td>0.9509</td>\n",
       "      <td>0.9581</td>\n",
       "      <td>0.9508</td>\n",
       "      <td>0.9455</td>\n",
       "      <td>0.9464</td>\n",
       "      <td>2.468</td>\n",
       "    </tr>\n",
       "    <tr>\n",
       "      <th>rf</th>\n",
       "      <td>Random Forest Classifier</td>\n",
       "      <td>0.9367</td>\n",
       "      <td>0.9972</td>\n",
       "      <td>0.9367</td>\n",
       "      <td>0.9476</td>\n",
       "      <td>0.9334</td>\n",
       "      <td>0.9296</td>\n",
       "      <td>0.9313</td>\n",
       "      <td>2.504</td>\n",
       "    </tr>\n",
       "    <tr>\n",
       "      <th>lightgbm</th>\n",
       "      <td>Light Gradient Boosting Machine</td>\n",
       "      <td>0.9285</td>\n",
       "      <td>0.9954</td>\n",
       "      <td>0.9285</td>\n",
       "      <td>0.9386</td>\n",
       "      <td>0.9274</td>\n",
       "      <td>0.9205</td>\n",
       "      <td>0.9218</td>\n",
       "      <td>3.660</td>\n",
       "    </tr>\n",
       "    <tr>\n",
       "      <th>lr</th>\n",
       "      <td>Logistic Regression</td>\n",
       "      <td>0.9182</td>\n",
       "      <td>0.9957</td>\n",
       "      <td>0.9182</td>\n",
       "      <td>0.9334</td>\n",
       "      <td>0.9139</td>\n",
       "      <td>0.9091</td>\n",
       "      <td>0.9115</td>\n",
       "      <td>3.330</td>\n",
       "    </tr>\n",
       "    <tr>\n",
       "      <th>svm</th>\n",
       "      <td>SVM - Linear Kernel</td>\n",
       "      <td>0.8937</td>\n",
       "      <td>0.0000</td>\n",
       "      <td>0.8937</td>\n",
       "      <td>0.9115</td>\n",
       "      <td>0.8949</td>\n",
       "      <td>0.8819</td>\n",
       "      <td>0.8841</td>\n",
       "      <td>2.348</td>\n",
       "    </tr>\n",
       "    <tr>\n",
       "      <th>knn</th>\n",
       "      <td>K Neighbors Classifier</td>\n",
       "      <td>0.8835</td>\n",
       "      <td>0.9874</td>\n",
       "      <td>0.8835</td>\n",
       "      <td>0.8972</td>\n",
       "      <td>0.8832</td>\n",
       "      <td>0.8705</td>\n",
       "      <td>0.8722</td>\n",
       "      <td>2.844</td>\n",
       "    </tr>\n",
       "    <tr>\n",
       "      <th>gbc</th>\n",
       "      <td>Gradient Boosting Classifier</td>\n",
       "      <td>0.8528</td>\n",
       "      <td>0.9841</td>\n",
       "      <td>0.8528</td>\n",
       "      <td>0.8747</td>\n",
       "      <td>0.8525</td>\n",
       "      <td>0.8364</td>\n",
       "      <td>0.8395</td>\n",
       "      <td>13.706</td>\n",
       "    </tr>\n",
       "    <tr>\n",
       "      <th>lda</th>\n",
       "      <td>Linear Discriminant Analysis</td>\n",
       "      <td>0.8160</td>\n",
       "      <td>0.9731</td>\n",
       "      <td>0.8160</td>\n",
       "      <td>0.8268</td>\n",
       "      <td>0.8128</td>\n",
       "      <td>0.7955</td>\n",
       "      <td>0.7981</td>\n",
       "      <td>2.402</td>\n",
       "    </tr>\n",
       "    <tr>\n",
       "      <th>nb</th>\n",
       "      <td>Naive Bayes</td>\n",
       "      <td>0.7729</td>\n",
       "      <td>0.8974</td>\n",
       "      <td>0.7729</td>\n",
       "      <td>0.8160</td>\n",
       "      <td>0.7711</td>\n",
       "      <td>0.7477</td>\n",
       "      <td>0.7528</td>\n",
       "      <td>2.358</td>\n",
       "    </tr>\n",
       "    <tr>\n",
       "      <th>dt</th>\n",
       "      <td>Decision Tree Classifier</td>\n",
       "      <td>0.7546</td>\n",
       "      <td>0.8636</td>\n",
       "      <td>0.7546</td>\n",
       "      <td>0.7687</td>\n",
       "      <td>0.7518</td>\n",
       "      <td>0.7273</td>\n",
       "      <td>0.7296</td>\n",
       "      <td>2.348</td>\n",
       "    </tr>\n",
       "    <tr>\n",
       "      <th>ridge</th>\n",
       "      <td>Ridge Classifier</td>\n",
       "      <td>0.6994</td>\n",
       "      <td>0.0000</td>\n",
       "      <td>0.6994</td>\n",
       "      <td>0.7234</td>\n",
       "      <td>0.6994</td>\n",
       "      <td>0.6659</td>\n",
       "      <td>0.6690</td>\n",
       "      <td>2.284</td>\n",
       "    </tr>\n",
       "    <tr>\n",
       "      <th>ada</th>\n",
       "      <td>Ada Boost Classifier</td>\n",
       "      <td>0.2375</td>\n",
       "      <td>0.7332</td>\n",
       "      <td>0.2375</td>\n",
       "      <td>0.1304</td>\n",
       "      <td>0.1424</td>\n",
       "      <td>0.1549</td>\n",
       "      <td>0.1717</td>\n",
       "      <td>2.654</td>\n",
       "    </tr>\n",
       "    <tr>\n",
       "      <th>qda</th>\n",
       "      <td>Quadratic Discriminant Analysis</td>\n",
       "      <td>0.1964</td>\n",
       "      <td>0.5536</td>\n",
       "      <td>0.1964</td>\n",
       "      <td>0.1963</td>\n",
       "      <td>0.1912</td>\n",
       "      <td>0.1071</td>\n",
       "      <td>0.1078</td>\n",
       "      <td>2.370</td>\n",
       "    </tr>\n",
       "    <tr>\n",
       "      <th>dummy</th>\n",
       "      <td>Dummy Classifier</td>\n",
       "      <td>0.0920</td>\n",
       "      <td>0.5000</td>\n",
       "      <td>0.0920</td>\n",
       "      <td>0.0085</td>\n",
       "      <td>0.0155</td>\n",
       "      <td>0.0000</td>\n",
       "      <td>0.0000</td>\n",
       "      <td>2.326</td>\n",
       "    </tr>\n",
       "  </tbody>\n",
       "</table>\n",
       "</div>"
      ],
      "text/plain": [
       "                                    Model  Accuracy     AUC  Recall   Prec.  \\\n",
       "et                 Extra Trees Classifier    0.9509  0.9984  0.9509  0.9581   \n",
       "rf               Random Forest Classifier    0.9367  0.9972  0.9367  0.9476   \n",
       "lightgbm  Light Gradient Boosting Machine    0.9285  0.9954  0.9285  0.9386   \n",
       "lr                    Logistic Regression    0.9182  0.9957  0.9182  0.9334   \n",
       "svm                   SVM - Linear Kernel    0.8937  0.0000  0.8937  0.9115   \n",
       "knn                K Neighbors Classifier    0.8835  0.9874  0.8835  0.8972   \n",
       "gbc          Gradient Boosting Classifier    0.8528  0.9841  0.8528  0.8747   \n",
       "lda          Linear Discriminant Analysis    0.8160  0.9731  0.8160  0.8268   \n",
       "nb                            Naive Bayes    0.7729  0.8974  0.7729  0.8160   \n",
       "dt               Decision Tree Classifier    0.7546  0.8636  0.7546  0.7687   \n",
       "ridge                    Ridge Classifier    0.6994  0.0000  0.6994  0.7234   \n",
       "ada                  Ada Boost Classifier    0.2375  0.7332  0.2375  0.1304   \n",
       "qda       Quadratic Discriminant Analysis    0.1964  0.5536  0.1964  0.1963   \n",
       "dummy                    Dummy Classifier    0.0920  0.5000  0.0920  0.0085   \n",
       "\n",
       "              F1   Kappa     MCC  TT (Sec)  \n",
       "et        0.9508  0.9455  0.9464     2.468  \n",
       "rf        0.9334  0.9296  0.9313     2.504  \n",
       "lightgbm  0.9274  0.9205  0.9218     3.660  \n",
       "lr        0.9139  0.9091  0.9115     3.330  \n",
       "svm       0.8949  0.8819  0.8841     2.348  \n",
       "knn       0.8832  0.8705  0.8722     2.844  \n",
       "gbc       0.8525  0.8364  0.8395    13.706  \n",
       "lda       0.8128  0.7955  0.7981     2.402  \n",
       "nb        0.7711  0.7477  0.7528     2.358  \n",
       "dt        0.7518  0.7273  0.7296     2.348  \n",
       "ridge     0.6994  0.6659  0.6690     2.284  \n",
       "ada       0.1424  0.1549  0.1717     2.654  \n",
       "qda       0.1912  0.1071  0.1078     2.370  \n",
       "dummy     0.0155  0.0000  0.0000     2.326  "
      ]
     },
     "execution_count": 18,
     "metadata": {},
     "output_type": "execute_result"
    }
   ],
   "source": [
    "best = s.compare_models( sort = 'Accuracy', fold = 5, n_select = 5 )\n",
    "pull()"
   ]
  },
  {
   "cell_type": "code",
   "execution_count": 19,
   "metadata": {},
   "outputs": [
    {
     "data": {
      "text/plain": [
       "[ExtraTreesClassifier(bootstrap=False, ccp_alpha=0.0, class_weight=None,\n",
       "                      criterion='gini', max_depth=None, max_features='sqrt',\n",
       "                      max_leaf_nodes=None, max_samples=None,\n",
       "                      min_impurity_decrease=0.0, min_samples_leaf=1,\n",
       "                      min_samples_split=2, min_weight_fraction_leaf=0.0,\n",
       "                      n_estimators=100, n_jobs=-1, oob_score=False,\n",
       "                      random_state=123, verbose=0, warm_start=False),\n",
       " RandomForestClassifier(bootstrap=True, ccp_alpha=0.0, class_weight=None,\n",
       "                        criterion='gini', max_depth=None, max_features='sqrt',\n",
       "                        max_leaf_nodes=None, max_samples=None,\n",
       "                        min_impurity_decrease=0.0, min_samples_leaf=1,\n",
       "                        min_samples_split=2, min_weight_fraction_leaf=0.0,\n",
       "                        n_estimators=100, n_jobs=-1, oob_score=False,\n",
       "                        random_state=123, verbose=0, warm_start=False),\n",
       " LGBMClassifier(boosting_type='gbdt', class_weight=None, colsample_bytree=1.0,\n",
       "                importance_type='split', learning_rate=0.1, max_depth=-1,\n",
       "                min_child_samples=20, min_child_weight=0.001, min_split_gain=0.0,\n",
       "                n_estimators=100, n_jobs=-1, num_leaves=31, objective=None,\n",
       "                random_state=123, reg_alpha=0.0, reg_lambda=0.0, silent='warn',\n",
       "                subsample=1.0, subsample_for_bin=200000, subsample_freq=0),\n",
       " LogisticRegression(C=1.0, class_weight=None, dual=False, fit_intercept=True,\n",
       "                    intercept_scaling=1, l1_ratio=None, max_iter=1000,\n",
       "                    multi_class='auto', n_jobs=None, penalty='l2',\n",
       "                    random_state=123, solver='lbfgs', tol=0.0001, verbose=0,\n",
       "                    warm_start=False),\n",
       " SGDClassifier(alpha=0.0001, average=False, class_weight=None,\n",
       "               early_stopping=False, epsilon=0.1, eta0=0.001, fit_intercept=True,\n",
       "               l1_ratio=0.15, learning_rate='optimal', loss='hinge',\n",
       "               max_iter=1000, n_iter_no_change=5, n_jobs=-1, penalty='l2',\n",
       "               power_t=0.5, random_state=123, shuffle=True, tol=0.001,\n",
       "               validation_fraction=0.1, verbose=0, warm_start=False)]"
      ]
     },
     "metadata": {},
     "output_type": "display_data"
    }
   ],
   "source": [
    "display(best)"
   ]
  },
  {
   "cell_type": "code",
   "execution_count": 20,
   "metadata": {},
   "outputs": [
    {
     "data": {
      "text/html": [],
      "text/plain": [
       "<IPython.core.display.HTML object>"
      ]
     },
     "metadata": {},
     "output_type": "display_data"
    },
    {
     "data": {
      "text/html": [
       "<style type=\"text/css\">\n",
       "#T_515a6_row10_col0, #T_515a6_row10_col1, #T_515a6_row10_col2, #T_515a6_row10_col3, #T_515a6_row10_col4, #T_515a6_row10_col5, #T_515a6_row10_col6 {\n",
       "  background: yellow;\n",
       "}\n",
       "</style>\n",
       "<table id=\"T_515a6\">\n",
       "  <thead>\n",
       "    <tr>\n",
       "      <th class=\"blank level0\" >&nbsp;</th>\n",
       "      <th id=\"T_515a6_level0_col0\" class=\"col_heading level0 col0\" >Accuracy</th>\n",
       "      <th id=\"T_515a6_level0_col1\" class=\"col_heading level0 col1\" >AUC</th>\n",
       "      <th id=\"T_515a6_level0_col2\" class=\"col_heading level0 col2\" >Recall</th>\n",
       "      <th id=\"T_515a6_level0_col3\" class=\"col_heading level0 col3\" >Prec.</th>\n",
       "      <th id=\"T_515a6_level0_col4\" class=\"col_heading level0 col4\" >F1</th>\n",
       "      <th id=\"T_515a6_level0_col5\" class=\"col_heading level0 col5\" >Kappa</th>\n",
       "      <th id=\"T_515a6_level0_col6\" class=\"col_heading level0 col6\" >MCC</th>\n",
       "    </tr>\n",
       "    <tr>\n",
       "      <th class=\"index_name level0\" >Fold</th>\n",
       "      <th class=\"blank col0\" >&nbsp;</th>\n",
       "      <th class=\"blank col1\" >&nbsp;</th>\n",
       "      <th class=\"blank col2\" >&nbsp;</th>\n",
       "      <th class=\"blank col3\" >&nbsp;</th>\n",
       "      <th class=\"blank col4\" >&nbsp;</th>\n",
       "      <th class=\"blank col5\" >&nbsp;</th>\n",
       "      <th class=\"blank col6\" >&nbsp;</th>\n",
       "    </tr>\n",
       "  </thead>\n",
       "  <tbody>\n",
       "    <tr>\n",
       "      <th id=\"T_515a6_level0_row0\" class=\"row_heading level0 row0\" >0</th>\n",
       "      <td id=\"T_515a6_row0_col0\" class=\"data row0 col0\" >0.9388</td>\n",
       "      <td id=\"T_515a6_row0_col1\" class=\"data row0 col1\" >0.9970</td>\n",
       "      <td id=\"T_515a6_row0_col2\" class=\"data row0 col2\" >0.9388</td>\n",
       "      <td id=\"T_515a6_row0_col3\" class=\"data row0 col3\" >0.9538</td>\n",
       "      <td id=\"T_515a6_row0_col4\" class=\"data row0 col4\" >0.9369</td>\n",
       "      <td id=\"T_515a6_row0_col5\" class=\"data row0 col5\" >0.9319</td>\n",
       "      <td id=\"T_515a6_row0_col6\" class=\"data row0 col6\" >0.9341</td>\n",
       "    </tr>\n",
       "    <tr>\n",
       "      <th id=\"T_515a6_level0_row1\" class=\"row_heading level0 row1\" >1</th>\n",
       "      <td id=\"T_515a6_row1_col0\" class=\"data row1 col0\" >0.9184</td>\n",
       "      <td id=\"T_515a6_row1_col1\" class=\"data row1 col1\" >0.9935</td>\n",
       "      <td id=\"T_515a6_row1_col2\" class=\"data row1 col2\" >0.9184</td>\n",
       "      <td id=\"T_515a6_row1_col3\" class=\"data row1 col3\" >0.9286</td>\n",
       "      <td id=\"T_515a6_row1_col4\" class=\"data row1 col4\" >0.9174</td>\n",
       "      <td id=\"T_515a6_row1_col5\" class=\"data row1 col5\" >0.9092</td>\n",
       "      <td id=\"T_515a6_row1_col6\" class=\"data row1 col6\" >0.9105</td>\n",
       "    </tr>\n",
       "    <tr>\n",
       "      <th id=\"T_515a6_level0_row2\" class=\"row_heading level0 row2\" >2</th>\n",
       "      <td id=\"T_515a6_row2_col0\" class=\"data row2 col0\" >0.9796</td>\n",
       "      <td id=\"T_515a6_row2_col1\" class=\"data row2 col1\" >1.0000</td>\n",
       "      <td id=\"T_515a6_row2_col2\" class=\"data row2 col2\" >0.9796</td>\n",
       "      <td id=\"T_515a6_row2_col3\" class=\"data row2 col3\" >0.9830</td>\n",
       "      <td id=\"T_515a6_row2_col4\" class=\"data row2 col4\" >0.9794</td>\n",
       "      <td id=\"T_515a6_row2_col5\" class=\"data row2 col5\" >0.9773</td>\n",
       "      <td id=\"T_515a6_row2_col6\" class=\"data row2 col6\" >0.9778</td>\n",
       "    </tr>\n",
       "    <tr>\n",
       "      <th id=\"T_515a6_level0_row3\" class=\"row_heading level0 row3\" >3</th>\n",
       "      <td id=\"T_515a6_row3_col0\" class=\"data row3 col0\" >0.9796</td>\n",
       "      <td id=\"T_515a6_row3_col1\" class=\"data row3 col1\" >0.9993</td>\n",
       "      <td id=\"T_515a6_row3_col2\" class=\"data row3 col2\" >0.9796</td>\n",
       "      <td id=\"T_515a6_row3_col3\" class=\"data row3 col3\" >0.9830</td>\n",
       "      <td id=\"T_515a6_row3_col4\" class=\"data row3 col4\" >0.9794</td>\n",
       "      <td id=\"T_515a6_row3_col5\" class=\"data row3 col5\" >0.9773</td>\n",
       "      <td id=\"T_515a6_row3_col6\" class=\"data row3 col6\" >0.9778</td>\n",
       "    </tr>\n",
       "    <tr>\n",
       "      <th id=\"T_515a6_level0_row4\" class=\"row_heading level0 row4\" >4</th>\n",
       "      <td id=\"T_515a6_row4_col0\" class=\"data row4 col0\" >1.0000</td>\n",
       "      <td id=\"T_515a6_row4_col1\" class=\"data row4 col1\" >1.0000</td>\n",
       "      <td id=\"T_515a6_row4_col2\" class=\"data row4 col2\" >1.0000</td>\n",
       "      <td id=\"T_515a6_row4_col3\" class=\"data row4 col3\" >1.0000</td>\n",
       "      <td id=\"T_515a6_row4_col4\" class=\"data row4 col4\" >1.0000</td>\n",
       "      <td id=\"T_515a6_row4_col5\" class=\"data row4 col5\" >1.0000</td>\n",
       "      <td id=\"T_515a6_row4_col6\" class=\"data row4 col6\" >1.0000</td>\n",
       "    </tr>\n",
       "    <tr>\n",
       "      <th id=\"T_515a6_level0_row5\" class=\"row_heading level0 row5\" >5</th>\n",
       "      <td id=\"T_515a6_row5_col0\" class=\"data row5 col0\" >0.9592</td>\n",
       "      <td id=\"T_515a6_row5_col1\" class=\"data row5 col1\" >0.9986</td>\n",
       "      <td id=\"T_515a6_row5_col2\" class=\"data row5 col2\" >0.9592</td>\n",
       "      <td id=\"T_515a6_row5_col3\" class=\"data row5 col3\" >0.9660</td>\n",
       "      <td id=\"T_515a6_row5_col4\" class=\"data row5 col4\" >0.9588</td>\n",
       "      <td id=\"T_515a6_row5_col5\" class=\"data row5 col5\" >0.9546</td>\n",
       "      <td id=\"T_515a6_row5_col6\" class=\"data row5 col6\" >0.9555</td>\n",
       "    </tr>\n",
       "    <tr>\n",
       "      <th id=\"T_515a6_level0_row6\" class=\"row_heading level0 row6\" >6</th>\n",
       "      <td id=\"T_515a6_row6_col0\" class=\"data row6 col0\" >1.0000</td>\n",
       "      <td id=\"T_515a6_row6_col1\" class=\"data row6 col1\" >0.9995</td>\n",
       "      <td id=\"T_515a6_row6_col2\" class=\"data row6 col2\" >1.0000</td>\n",
       "      <td id=\"T_515a6_row6_col3\" class=\"data row6 col3\" >1.0000</td>\n",
       "      <td id=\"T_515a6_row6_col4\" class=\"data row6 col4\" >1.0000</td>\n",
       "      <td id=\"T_515a6_row6_col5\" class=\"data row6 col5\" >1.0000</td>\n",
       "      <td id=\"T_515a6_row6_col6\" class=\"data row6 col6\" >1.0000</td>\n",
       "    </tr>\n",
       "    <tr>\n",
       "      <th id=\"T_515a6_level0_row7\" class=\"row_heading level0 row7\" >7</th>\n",
       "      <td id=\"T_515a6_row7_col0\" class=\"data row7 col0\" >0.9184</td>\n",
       "      <td id=\"T_515a6_row7_col1\" class=\"data row7 col1\" >0.9965</td>\n",
       "      <td id=\"T_515a6_row7_col2\" class=\"data row7 col2\" >0.9184</td>\n",
       "      <td id=\"T_515a6_row7_col3\" class=\"data row7 col3\" >0.9354</td>\n",
       "      <td id=\"T_515a6_row7_col4\" class=\"data row7 col4\" >0.9171</td>\n",
       "      <td id=\"T_515a6_row7_col5\" class=\"data row7 col5\" >0.9093</td>\n",
       "      <td id=\"T_515a6_row7_col6\" class=\"data row7 col6\" >0.9115</td>\n",
       "    </tr>\n",
       "    <tr>\n",
       "      <th id=\"T_515a6_level0_row8\" class=\"row_heading level0 row8\" >8</th>\n",
       "      <td id=\"T_515a6_row8_col0\" class=\"data row8 col0\" >0.9796</td>\n",
       "      <td id=\"T_515a6_row8_col1\" class=\"data row8 col1\" >0.9991</td>\n",
       "      <td id=\"T_515a6_row8_col2\" class=\"data row8 col2\" >0.9796</td>\n",
       "      <td id=\"T_515a6_row8_col3\" class=\"data row8 col3\" >0.9830</td>\n",
       "      <td id=\"T_515a6_row8_col4\" class=\"data row8 col4\" >0.9794</td>\n",
       "      <td id=\"T_515a6_row8_col5\" class=\"data row8 col5\" >0.9773</td>\n",
       "      <td id=\"T_515a6_row8_col6\" class=\"data row8 col6\" >0.9778</td>\n",
       "    </tr>\n",
       "    <tr>\n",
       "      <th id=\"T_515a6_level0_row9\" class=\"row_heading level0 row9\" >9</th>\n",
       "      <td id=\"T_515a6_row9_col0\" class=\"data row9 col0\" >0.9375</td>\n",
       "      <td id=\"T_515a6_row9_col1\" class=\"data row9 col1\" >0.9974</td>\n",
       "      <td id=\"T_515a6_row9_col2\" class=\"data row9 col2\" >0.9375</td>\n",
       "      <td id=\"T_515a6_row9_col3\" class=\"data row9 col3\" >0.9529</td>\n",
       "      <td id=\"T_515a6_row9_col4\" class=\"data row9 col4\" >0.9352</td>\n",
       "      <td id=\"T_515a6_row9_col5\" class=\"data row9 col5\" >0.9305</td>\n",
       "      <td id=\"T_515a6_row9_col6\" class=\"data row9 col6\" >0.9327</td>\n",
       "    </tr>\n",
       "    <tr>\n",
       "      <th id=\"T_515a6_level0_row10\" class=\"row_heading level0 row10\" >Mean</th>\n",
       "      <td id=\"T_515a6_row10_col0\" class=\"data row10 col0\" >0.9611</td>\n",
       "      <td id=\"T_515a6_row10_col1\" class=\"data row10 col1\" >0.9981</td>\n",
       "      <td id=\"T_515a6_row10_col2\" class=\"data row10 col2\" >0.9611</td>\n",
       "      <td id=\"T_515a6_row10_col3\" class=\"data row10 col3\" >0.9686</td>\n",
       "      <td id=\"T_515a6_row10_col4\" class=\"data row10 col4\" >0.9604</td>\n",
       "      <td id=\"T_515a6_row10_col5\" class=\"data row10 col5\" >0.9568</td>\n",
       "      <td id=\"T_515a6_row10_col6\" class=\"data row10 col6\" >0.9578</td>\n",
       "    </tr>\n",
       "    <tr>\n",
       "      <th id=\"T_515a6_level0_row11\" class=\"row_heading level0 row11\" >Std</th>\n",
       "      <td id=\"T_515a6_row11_col0\" class=\"data row11 col0\" >0.0296</td>\n",
       "      <td id=\"T_515a6_row11_col1\" class=\"data row11 col1\" >0.0019</td>\n",
       "      <td id=\"T_515a6_row11_col2\" class=\"data row11 col2\" >0.0296</td>\n",
       "      <td id=\"T_515a6_row11_col3\" class=\"data row11 col3\" >0.0240</td>\n",
       "      <td id=\"T_515a6_row11_col4\" class=\"data row11 col4\" >0.0302</td>\n",
       "      <td id=\"T_515a6_row11_col5\" class=\"data row11 col5\" >0.0329</td>\n",
       "      <td id=\"T_515a6_row11_col6\" class=\"data row11 col6\" >0.0322</td>\n",
       "    </tr>\n",
       "  </tbody>\n",
       "</table>\n"
      ],
      "text/plain": [
       "<pandas.io.formats.style.Styler at 0x1cb36aae400>"
      ]
     },
     "metadata": {},
     "output_type": "display_data"
    },
    {
     "data": {
      "text/html": [],
      "text/plain": [
       "<IPython.core.display.HTML object>"
      ]
     },
     "metadata": {},
     "output_type": "display_data"
    }
   ],
   "source": [
    "model = create_model('et')"
   ]
  },
  {
   "cell_type": "code",
   "execution_count": 21,
   "metadata": {},
   "outputs": [
    {
     "data": {
      "text/html": [],
      "text/plain": [
       "<IPython.core.display.HTML object>"
      ]
     },
     "metadata": {},
     "output_type": "display_data"
    },
    {
     "data": {
      "image/png": "[encoded data removed]",
      "text/plain": [
       "<Figure size 800x550 with 1 Axes>"
      ]
     },
     "metadata": {},
     "output_type": "display_data"
    }
   ],
   "source": [
    "plot_model(model, plot = 'auc')"
   ]
  },
  {
   "cell_type": "code",
   "execution_count": 22,
   "metadata": {},
   "outputs": [
    {
     "data": {
      "text/html": [],
      "text/plain": [
       "<IPython.core.display.HTML object>"
      ]
     },
     "metadata": {},
     "output_type": "display_data"
    },
    {
     "data": {
      "image/png": "[encoded data removed]",
      "text/plain": [
       "<Figure size 800x550 with 1 Axes>"
      ]
     },
     "metadata": {},
     "output_type": "display_data"
    }
   ],
   "source": [
    "plot_model(model, 'confusion_matrix')"
   ]
  },
  {
   "attachments": {},
   "cell_type": "markdown",
   "metadata": {},
   "source": [
    "<h4>Pipeline</h4>"
   ]
  },
  {
   "cell_type": "code",
   "execution_count": 26,
   "metadata": {},
   "outputs": [],
   "source": [
    "steps = [\n",
    "    ('scalar', MinMaxScaler()),\n",
    "    ('ExtraTreesClassifier',ExtraTreesClassifier(bootstrap=False, ccp_alpha=0.0, class_weight=None,\n",
    "                      criterion='gini', max_depth=None, max_features='sqrt',\n",
    "                      max_leaf_nodes=None, max_samples=None,\n",
    "                      min_impurity_decrease=0.0, min_samples_leaf=1,\n",
    "                      min_samples_split=2, min_weight_fraction_leaf=0.0,\n",
    "                      n_estimators=100, n_jobs=-1, oob_score=False,\n",
    "                      random_state=123, verbose=0, warm_start=False))\n",
    "]\n",
    "\n",
    "pipeline = Pipeline(steps)"
   ]
  },
  {
   "cell_type": "code",
   "execution_count": 27,
   "metadata": {},
   "outputs": [
    {
     "name": "stdout",
     "output_type": "stream",
     "text": [
      "Training score: 1.0\n"
     ]
    }
   ],
   "source": [
    "pr = pipeline.fit(X_train, y_train)\n",
    "\n",
    "print('Training score: {}'.format(pipeline.score(X_train, y_train)))"
   ]
  },
  {
   "attachments": {},
   "cell_type": "markdown",
   "metadata": {},
   "source": [
    "# STEP 4 : Test"
   ]
  },
  {
   "cell_type": "code",
   "execution_count": 28,
   "metadata": {},
   "outputs": [
    {
     "name": "stdout",
     "output_type": "stream",
     "text": [
      "              precision    recall  f1-score   support\n",
      "\n",
      "           0       1.00      1.00      1.00        21\n",
      "           1       1.00      1.00      1.00        21\n",
      "           2       1.00      0.95      0.98        21\n",
      "           3       1.00      1.00      1.00        21\n",
      "           4       0.86      0.86      0.86        21\n",
      "           5       0.88      1.00      0.93        21\n",
      "           6       0.95      1.00      0.98        21\n",
      "           7       1.00      1.00      1.00        21\n",
      "           8       1.00      0.81      0.89        21\n",
      "           9       0.95      1.00      0.98        21\n",
      "\n",
      "    accuracy                           0.96       210\n",
      "   macro avg       0.96      0.96      0.96       210\n",
      "weighted avg       0.96      0.96      0.96       210\n",
      "\n"
     ]
    }
   ],
   "source": [
    "y_pred = pr.predict(X_test)\n",
    "\n",
    "print(classification_report(y_test, y_pred)) "
   ]
  },
  {
   "attachments": {},
   "cell_type": "markdown",
   "metadata": {},
   "source": [
    "<h4>Evaluations</h4>"
   ]
  },
  {
   "cell_type": "code",
   "execution_count": null,
   "metadata": {},
   "outputs": [],
   "source": []
  }
 ],
 "metadata": {
  "kernelspec": {
   "display_name": "Python 3",
   "language": "python",
   "name": "python3"
  },
  "language_info": {
   "codemirror_mode": {
    "name": "ipython",
    "version": 3
   },
   "file_extension": ".py",
   "mimetype": "text/x-python",
   "name": "python",
   "nbconvert_exporter": "python",
   "pygments_lexer": "ipython3",
   "version": "3.8.16"
  },
  "orig_nbformat": 4
 },
 "nbformat": 4,
 "nbformat_minor": 2
}
