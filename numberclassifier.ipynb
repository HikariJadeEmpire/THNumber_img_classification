{
 "cells": [
  {
   "attachments": {},
   "cell_type": "markdown",
   "metadata": {},
   "source": [
    "STEP 1 : Importing"
   ]
  },
  {
   "cell_type": "code",
   "execution_count": 1,
   "metadata": {},
   "outputs": [],
   "source": [
    "\n",
    "import numpy as np\n",
    "import pandas as pd\n"
   ]
  },
  {
   "cell_type": "code",
   "execution_count": 2,
   "metadata": {},
   "outputs": [],
   "source": [
    "#Importing OpenCV - the computer vision library\n",
    "import cv2\n",
    "\n",
    "# import the modules\n",
    "import glob\n",
    "import os\n",
    "from os import listdir\n",
    "\n",
    "import seaborn as sns\n",
    "import matplotlib.pyplot as plt\n",
    "%matplotlib inline"
   ]
  },
  {
   "attachments": {},
   "cell_type": "markdown",
   "metadata": {},
   "source": [
    "STEP 1.1 : Just Note"
   ]
  },
  {
   "cell_type": "code",
   "execution_count": null,
   "metadata": {},
   "outputs": [],
   "source": [
    "# get the path/directory\n",
    "Zero_dir = \"D:/DATA_Science/DATASET/Thainumber/Zero\"\n",
    "One_dir = \"D:/DATA_Science/DATASET/Thainumber/One\"\n",
    "Two_dir = \"D:/DATA_Science/DATASET/Thainumber/Two\"\n",
    "Three_dir = \"D:/DATA_Science/DATASET/Thainumber/Three\"\n",
    "Four_dir = \"D:/DATA_Science/DATASET/Thainumber/Four\"\n",
    "\n",
    "Five_dir = \"D:/DATA_Science/DATASET/Thainumber/Five\"\n",
    "Six_dir = \"D:/DATA_Science/DATASET/Thainumber/Six\"\n",
    "Seven_dir = \"D:/DATA_Science/DATASET/Thainumber/Seven\"\n",
    "Eight_dir = \"D:/DATA_Science/DATASET/Thainumber/Eight\"\n",
    "Nine_dir = \"D:/DATA_Science/DATASET/Thainumber/Nine\"\n",
    "\n",
    "for images in os.listdir(One_dir):\n",
    " \n",
    "    # check if the image ends with png\n",
    "    if (images.endswith(\".png\")):\n",
    "        print(images)"
   ]
  },
  {
   "cell_type": "code",
   "execution_count": 32,
   "metadata": {},
   "outputs": [
    {
     "name": "stdout",
     "output_type": "stream",
     "text": [
      "Original Image Shape (28, 28, 3)\n"
     ]
    },
    {
     "data": {
      "image/png": "[encoded data removed]",
      "text/plain": [
       "<Figure size 640x480 with 1 Axes>"
      ]
     },
     "metadata": {},
     "output_type": "display_data"
    }
   ],
   "source": [
    "#To read the image \n",
    "bgrimg = cv2.imread(str(Zero_dir+'/0-1.png'))\n",
    "\n",
    "plt.imshow(bgrimg)\n",
    "\n",
    "#To get rid of the x-ticks and y-ticks on the image axis\n",
    "#plt.xticks([])\n",
    "#plt.yticks([])\n",
    "\n",
    "print('Original Image Shape',bgrimg.shape)"
   ]
  },
  {
   "attachments": {},
   "cell_type": "markdown",
   "metadata": {},
   "source": [
    "STEP 2 : Preparing"
   ]
  },
  {
   "cell_type": "code",
   "execution_count": 3,
   "metadata": {},
   "outputs": [],
   "source": [
    "train = 'D:/DATA_Science/DATASET/Thainumber'\n",
    "file_path_all = list( glob.glob( train + '/**/*.png' ) )"
   ]
  },
  {
   "cell_type": "code",
   "execution_count": 12,
   "metadata": {},
   "outputs": [
    {
     "data": {
      "text/html": [
       "<div>\n",
       "<style scoped>\n",
       "    .dataframe tbody tr th:only-of-type {\n",
       "        vertical-align: middle;\n",
       "    }\n",
       "\n",
       "    .dataframe tbody tr th {\n",
       "        vertical-align: top;\n",
       "    }\n",
       "\n",
       "    .dataframe thead th {\n",
       "        text-align: right;\n",
       "    }\n",
       "</style>\n",
       "<table border=\"1\" class=\"dataframe\">\n",
       "  <thead>\n",
       "    <tr style=\"text-align: right;\">\n",
       "      <th></th>\n",
       "      <th>Filepath</th>\n",
       "      <th>Label</th>\n",
       "    </tr>\n",
       "  </thead>\n",
       "  <tbody>\n",
       "    <tr>\n",
       "      <th>0</th>\n",
       "      <td>D:/DATA_Science/DATASET/Thainumber\\Two\\two.png</td>\n",
       "      <td>Two</td>\n",
       "    </tr>\n",
       "    <tr>\n",
       "      <th>1</th>\n",
       "      <td>D:/DATA_Science/DATASET/Thainumber\\Two\\IMG_088...</td>\n",
       "      <td>Two</td>\n",
       "    </tr>\n",
       "    <tr>\n",
       "      <th>2</th>\n",
       "      <td>D:/DATA_Science/DATASET/Thainumber\\Eight\\8-05.png</td>\n",
       "      <td>Eight</td>\n",
       "    </tr>\n",
       "    <tr>\n",
       "      <th>3</th>\n",
       "      <td>D:/DATA_Science/DATASET/Thainumber\\Six\\IMG_092...</td>\n",
       "      <td>Six</td>\n",
       "    </tr>\n",
       "    <tr>\n",
       "      <th>4</th>\n",
       "      <td>D:/DATA_Science/DATASET/Thainumber\\One\\1.2.png</td>\n",
       "      <td>One</td>\n",
       "    </tr>\n",
       "    <tr>\n",
       "      <th>...</th>\n",
       "      <td>...</td>\n",
       "      <td>...</td>\n",
       "    </tr>\n",
       "    <tr>\n",
       "      <th>295</th>\n",
       "      <td>D:/DATA_Science/DATASET/Thainumber\\Five\\5-21.png</td>\n",
       "      <td>Five</td>\n",
       "    </tr>\n",
       "    <tr>\n",
       "      <th>296</th>\n",
       "      <td>D:/DATA_Science/DATASET/Thainumber\\Four\\IMG_08...</td>\n",
       "      <td>Four</td>\n",
       "    </tr>\n",
       "    <tr>\n",
       "      <th>297</th>\n",
       "      <td>D:/DATA_Science/DATASET/Thainumber\\Three\\three...</td>\n",
       "      <td>Three</td>\n",
       "    </tr>\n",
       "    <tr>\n",
       "      <th>298</th>\n",
       "      <td>D:/DATA_Science/DATASET/Thainumber\\Six\\six2.png</td>\n",
       "      <td>Six</td>\n",
       "    </tr>\n",
       "    <tr>\n",
       "      <th>299</th>\n",
       "      <td>D:/DATA_Science/DATASET/Thainumber\\Four\\4-3.png</td>\n",
       "      <td>Four</td>\n",
       "    </tr>\n",
       "  </tbody>\n",
       "</table>\n",
       "<p>300 rows × 2 columns</p>\n",
       "</div>"
      ],
      "text/plain": [
       "                                              Filepath  Label\n",
       "0       D:/DATA_Science/DATASET/Thainumber\\Two\\two.png    Two\n",
       "1    D:/DATA_Science/DATASET/Thainumber\\Two\\IMG_088...    Two\n",
       "2    D:/DATA_Science/DATASET/Thainumber\\Eight\\8-05.png  Eight\n",
       "3    D:/DATA_Science/DATASET/Thainumber\\Six\\IMG_092...    Six\n",
       "4       D:/DATA_Science/DATASET/Thainumber\\One\\1.2.png    One\n",
       "..                                                 ...    ...\n",
       "295   D:/DATA_Science/DATASET/Thainumber\\Five\\5-21.png   Five\n",
       "296  D:/DATA_Science/DATASET/Thainumber\\Four\\IMG_08...   Four\n",
       "297  D:/DATA_Science/DATASET/Thainumber\\Three\\three...  Three\n",
       "298    D:/DATA_Science/DATASET/Thainumber\\Six\\six2.png    Six\n",
       "299    D:/DATA_Science/DATASET/Thainumber\\Four\\4-3.png   Four\n",
       "\n",
       "[300 rows x 2 columns]"
      ]
     },
     "execution_count": 12,
     "metadata": {},
     "output_type": "execute_result"
    }
   ],
   "source": [
    "labels = list( map(lambda x: os.path.split( os.path.split(x)[0] )[1], file_path_all) )\n",
    "\n",
    "filepath = pd.Series(file_path_all, name='Filepath').astype(str)\n",
    "labels = pd.Series(labels, name='Label')\n",
    "\n",
    "data = pd.concat([filepath, labels], axis=1)\n",
    "\n",
    "data = data.sample(frac=1).reset_index(drop=True) # Return a random sample of items from an axis of object.\n",
    "data"
   ]
  },
  {
   "cell_type": "code",
   "execution_count": 16,
   "metadata": {},
   "outputs": [
    {
     "data": {
      "text/plain": [
       "(300, 2)"
      ]
     },
     "execution_count": 16,
     "metadata": {},
     "output_type": "execute_result"
    }
   ],
   "source": [
    "data.shape"
   ]
  },
  {
   "cell_type": "code",
   "execution_count": 20,
   "metadata": {},
   "outputs": [
    {
     "data": {
      "image/png": "[encoded data removed]",
      "text/plain": [
       "<Figure size 1000x600 with 20 Axes>"
      ]
     },
     "metadata": {},
     "output_type": "display_data"
    }
   ],
   "source": [
    "fig, axes = plt.subplots(nrows=4, ncols=5, figsize=(10,6), subplot_kw = {'xticks':[],'yticks':[]} )\n",
    "\n",
    "for i, ax in enumerate(axes.flat):\n",
    "    ax.imshow(plt.imread(data.Filepath[i]))\n",
    "    ax.set_title(data.Label[i])\n",
    "plt.tight_layout()\n",
    "plt.show()"
   ]
  }
 ],
 "metadata": {
  "kernelspec": {
   "display_name": "base",
   "language": "python",
   "name": "python3"
  },
  "language_info": {
   "codemirror_mode": {
    "name": "ipython",
    "version": 3
   },
   "file_extension": ".py",
   "mimetype": "text/x-python",
   "name": "python",
   "nbconvert_exporter": "python",
   "pygments_lexer": "ipython3",
   "version": "3.10.9"
  },
  "orig_nbformat": 4
 },
 "nbformat": 4,
 "nbformat_minor": 2
}
