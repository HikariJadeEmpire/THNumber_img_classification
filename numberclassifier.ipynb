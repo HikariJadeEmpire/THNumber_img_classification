{
 "cells": [
  {
   "attachments": {},
   "cell_type": "markdown",
   "metadata": {},
   "source": [
    "<a href=\"https://colab.research.google.com/github/HikariJadeEmpire/THNumber_img_classification/blob/main/numberclassifier.ipynb\">\n",
    "  <img src=\"https://colab.research.google.com/assets/colab-badge.svg\" alt=\"Open In Colab\"/>\n",
    "</a>"
   ]
  },
  {
   "cell_type": "code",
   "execution_count": 1,
   "metadata": {},
   "outputs": [],
   "source": [
    "#pip install opencv-python\n",
    "\n",
    "# Choose one (for Cross Validation)\n",
    "#pip install pycaret\n",
    "#pip install tune-sklearn ray[tune]"
   ]
  },
  {
   "attachments": {},
   "cell_type": "markdown",
   "metadata": {},
   "source": [
    "# STEP 1 : Importing"
   ]
  },
  {
   "cell_type": "code",
   "execution_count": 2,
   "metadata": {},
   "outputs": [],
   "source": [
    "\n",
    "import numpy as np\n",
    "import pandas as pd\n",
    "\n",
    "import seaborn as sns\n",
    "import matplotlib.pyplot as plt\n",
    "%matplotlib inline"
   ]
  },
  {
   "cell_type": "code",
   "execution_count": 3,
   "metadata": {},
   "outputs": [],
   "source": [
    "#Importing OpenCV - the computer vision library\n",
    "import cv2\n",
    "\n",
    "# import the modules - Directory management\n",
    "import glob\n",
    "import os"
   ]
  },
  {
   "cell_type": "code",
   "execution_count": 4,
   "metadata": {},
   "outputs": [],
   "source": [
    "from sklearn.model_selection import train_test_split\n",
    "from sklearn import preprocessing\n",
    "\n",
    "from sklearn.pipeline import Pipeline\n",
    "from sklearn.preprocessing import MinMaxScaler\n",
    "from sklearn.ensemble import RandomForestClassifier\n",
    "from sklearn.linear_model import LogisticRegression\n",
    "from sklearn.ensemble import ExtraTreesClassifier\n",
    "\n",
    "from sklearn.metrics import classification_report "
   ]
  },
  {
   "attachments": {},
   "cell_type": "markdown",
   "metadata": {},
   "source": [
    "# STEP 1.1 : SET an important Variables"
   ]
  },
  {
   "cell_type": "code",
   "execution_count": 5,
   "metadata": {},
   "outputs": [],
   "source": [
    "main_dir = \"./Thainumber\""
   ]
  },
  {
   "cell_type": "code",
   "execution_count": 6,
   "metadata": {},
   "outputs": [],
   "source": [
    "def moveup(img):\n",
    "    while True:\n",
    "        if np.all(img[0] >= 240):\n",
    "            img = img[1:]\n",
    "        else:\n",
    "            break\n",
    "    return img\n",
    "\n",
    "def movedown(img):\n",
    "    while True:\n",
    "        if np.all(img[-1] >= 240):\n",
    "            img = img[:-1]\n",
    "        else:\n",
    "            break\n",
    "    return img\n",
    "\n",
    "def moveleft(img):\n",
    "    while True:\n",
    "        if np.all(img[:, 0] >= 240):\n",
    "            img = img[:, 1:]\n",
    "        else:\n",
    "            break\n",
    "    return img\n",
    "\n",
    "def moveright(img):\n",
    "    while True:\n",
    "        if np.all(img[:, -1] >= 240):\n",
    "            img = img[:, :-1]\n",
    "        else:\n",
    "            break\n",
    "    return img\n",
    "\n",
    "def rescale(img):\n",
    "    img = moveup(img)\n",
    "    img = movedown(img)\n",
    "    img = moveleft(img)\n",
    "    img = moveright(img)\n",
    "    return img"
   ]
  },
  {
   "cell_type": "code",
   "execution_count": null,
   "metadata": {},
   "outputs": [],
   "source": []
  },
  {
   "attachments": {},
   "cell_type": "markdown",
   "metadata": {},
   "source": [
    "# STEP 2 : Preparing & inspection"
   ]
  },
  {
   "attachments": {},
   "cell_type": "markdown",
   "metadata": {},
   "source": [
    "Prepare for inspections"
   ]
  },
  {
   "cell_type": "code",
   "execution_count": 7,
   "metadata": {},
   "outputs": [],
   "source": [
    "file_path_all = list( glob.glob( main_dir + '/**/*.png' ) )"
   ]
  },
  {
   "cell_type": "code",
   "execution_count": 8,
   "metadata": {},
   "outputs": [
    {
     "data": {
      "text/html": [
       "<div>\n",
       "<style scoped>\n",
       "    .dataframe tbody tr th:only-of-type {\n",
       "        vertical-align: middle;\n",
       "    }\n",
       "\n",
       "    .dataframe tbody tr th {\n",
       "        vertical-align: top;\n",
       "    }\n",
       "\n",
       "    .dataframe thead th {\n",
       "        text-align: right;\n",
       "    }\n",
       "</style>\n",
       "<table border=\"1\" class=\"dataframe\">\n",
       "  <thead>\n",
       "    <tr style=\"text-align: right;\">\n",
       "      <th></th>\n",
       "      <th>Filepath</th>\n",
       "      <th>Label</th>\n",
       "    </tr>\n",
       "  </thead>\n",
       "  <tbody>\n",
       "    <tr>\n",
       "      <th>0</th>\n",
       "      <td>./Thainumber\\9\\9-6.png</td>\n",
       "      <td>9</td>\n",
       "    </tr>\n",
       "    <tr>\n",
       "      <th>1</th>\n",
       "      <td>./Thainumber\\4\\4-36.png</td>\n",
       "      <td>4</td>\n",
       "    </tr>\n",
       "    <tr>\n",
       "      <th>2</th>\n",
       "      <td>./Thainumber\\6\\6-8.png</td>\n",
       "      <td>6</td>\n",
       "    </tr>\n",
       "    <tr>\n",
       "      <th>3</th>\n",
       "      <td>./Thainumber\\3\\IMG_0885.png</td>\n",
       "      <td>3</td>\n",
       "    </tr>\n",
       "    <tr>\n",
       "      <th>4</th>\n",
       "      <td>./Thainumber\\3\\IMG_0886.png</td>\n",
       "      <td>3</td>\n",
       "    </tr>\n",
       "    <tr>\n",
       "      <th>...</th>\n",
       "      <td>...</td>\n",
       "      <td>...</td>\n",
       "    </tr>\n",
       "    <tr>\n",
       "      <th>695</th>\n",
       "      <td>./Thainumber\\9\\IMG_0951.png</td>\n",
       "      <td>9</td>\n",
       "    </tr>\n",
       "    <tr>\n",
       "      <th>696</th>\n",
       "      <td>./Thainumber\\2\\2-b.png</td>\n",
       "      <td>2</td>\n",
       "    </tr>\n",
       "    <tr>\n",
       "      <th>697</th>\n",
       "      <td>./Thainumber\\9\\IMG_0945.png</td>\n",
       "      <td>9</td>\n",
       "    </tr>\n",
       "    <tr>\n",
       "      <th>698</th>\n",
       "      <td>./Thainumber\\3\\3-10.png</td>\n",
       "      <td>3</td>\n",
       "    </tr>\n",
       "    <tr>\n",
       "      <th>699</th>\n",
       "      <td>./Thainumber\\5\\5-2.png</td>\n",
       "      <td>5</td>\n",
       "    </tr>\n",
       "  </tbody>\n",
       "</table>\n",
       "<p>700 rows × 2 columns</p>\n",
       "</div>"
      ],
      "text/plain": [
       "                        Filepath Label\n",
       "0         ./Thainumber\\9\\9-6.png     9\n",
       "1        ./Thainumber\\4\\4-36.png     4\n",
       "2         ./Thainumber\\6\\6-8.png     6\n",
       "3    ./Thainumber\\3\\IMG_0885.png     3\n",
       "4    ./Thainumber\\3\\IMG_0886.png     3\n",
       "..                           ...   ...\n",
       "695  ./Thainumber\\9\\IMG_0951.png     9\n",
       "696       ./Thainumber\\2\\2-b.png     2\n",
       "697  ./Thainumber\\9\\IMG_0945.png     9\n",
       "698      ./Thainumber\\3\\3-10.png     3\n",
       "699       ./Thainumber\\5\\5-2.png     5\n",
       "\n",
       "[700 rows x 2 columns]"
      ]
     },
     "execution_count": 8,
     "metadata": {},
     "output_type": "execute_result"
    }
   ],
   "source": [
    "labels = list( map(lambda x: os.path.split( os.path.split(x)[0] )[1] , file_path_all) )\n",
    "\n",
    "filepath = pd.Series(file_path_all, name='Filepath').astype(str)\n",
    "labels = pd.Series(labels, name='Label')\n",
    "\n",
    "data = pd.concat([filepath, labels], axis=1)\n",
    "\n",
    "data = data.sample(frac=1).reset_index(drop=True)   # Return a random sample of items from an axis of object.\n",
    "data"
   ]
  },
  {
   "cell_type": "code",
   "execution_count": 9,
   "metadata": {},
   "outputs": [
    {
     "data": {
      "text/plain": [
       "(700, 2)"
      ]
     },
     "execution_count": 9,
     "metadata": {},
     "output_type": "execute_result"
    }
   ],
   "source": [
    "data.shape"
   ]
  },
  {
   "cell_type": "code",
   "execution_count": 10,
   "metadata": {},
   "outputs": [
    {
     "data": {
      "image/png": "[encoded data removed]",
      "text/plain": [
       "<Figure size 1000x600 with 20 Axes>"
      ]
     },
     "metadata": {},
     "output_type": "display_data"
    }
   ],
   "source": [
    "fig, axes = plt.subplots(nrows=4, ncols=5, figsize=(10,6), subplot_kw = {'xticks':[],'yticks':[]} )\n",
    "\n",
    "for i, ax in enumerate(axes.flat):\n",
    "    ax.imshow(plt.imread(data.Filepath[i]))\n",
    "    ax.set_title(data.Label[i])\n",
    "plt.tight_layout()\n",
    "plt.show()"
   ]
  },
  {
   "cell_type": "code",
   "execution_count": 11,
   "metadata": {},
   "outputs": [
    {
     "data": {
      "text/plain": [
       "Text(0, 0.5, 'Counts')"
      ]
     },
     "execution_count": 11,
     "metadata": {},
     "output_type": "execute_result"
    },
    {
     "data": {
      "image/png": "[encoded data removed]",
      "text/plain": [
       "<Figure size 640x480 with 1 Axes>"
      ]
     },
     "metadata": {},
     "output_type": "display_data"
    }
   ],
   "source": [
    "counts = data.Label.value_counts()\n",
    "sns.barplot(x=counts.index, y=counts)\n",
    "plt.ylabel('Counts')"
   ]
  },
  {
   "attachments": {},
   "cell_type": "markdown",
   "metadata": {},
   "source": [
    "Prepare for Training"
   ]
  },
  {
   "cell_type": "code",
   "execution_count": 12,
   "metadata": {},
   "outputs": [],
   "source": [
    "# Prepare X and Y\n",
    "\n",
    "Before_x = data['Filepath']\n",
    "y = data['Label']\n",
    "\n",
    "# To work with X, we need to flatten the images first.\n",
    "read_x = []\n",
    "\n",
    "for i in Before_x :\n",
    "    img = cv2.imread(i)\n",
    "    img = cv2.cvtColor(img, cv2.COLOR_BGR2GRAY)\n",
    "    img = rescale(img)\n",
    "    img = cv2.resize(img, (28, 28))\n",
    "    img = img.flatten()\n",
    " \n",
    "    read_x.append(img)\n",
    "\n",
    "x = np.asarray(read_x)"
   ]
  },
  {
   "cell_type": "code",
   "execution_count": 13,
   "metadata": {},
   "outputs": [],
   "source": [
    "x = pd.DataFrame(x)\n",
    "y = pd.DataFrame(y)"
   ]
  },
  {
   "cell_type": "code",
   "execution_count": 14,
   "metadata": {},
   "outputs": [
    {
     "data": {
      "text/html": [
       "<div>\n",
       "<style scoped>\n",
       "    .dataframe tbody tr th:only-of-type {\n",
       "        vertical-align: middle;\n",
       "    }\n",
       "\n",
       "    .dataframe tbody tr th {\n",
       "        vertical-align: top;\n",
       "    }\n",
       "\n",
       "    .dataframe thead th {\n",
       "        text-align: right;\n",
       "    }\n",
       "</style>\n",
       "<table border=\"1\" class=\"dataframe\">\n",
       "  <thead>\n",
       "    <tr style=\"text-align: right;\">\n",
       "      <th></th>\n",
       "      <th>0</th>\n",
       "      <th>1</th>\n",
       "      <th>2</th>\n",
       "      <th>3</th>\n",
       "      <th>4</th>\n",
       "      <th>5</th>\n",
       "      <th>6</th>\n",
       "      <th>7</th>\n",
       "      <th>8</th>\n",
       "      <th>9</th>\n",
       "      <th>...</th>\n",
       "      <th>775</th>\n",
       "      <th>776</th>\n",
       "      <th>777</th>\n",
       "      <th>778</th>\n",
       "      <th>779</th>\n",
       "      <th>780</th>\n",
       "      <th>781</th>\n",
       "      <th>782</th>\n",
       "      <th>783</th>\n",
       "      <th>Label</th>\n",
       "    </tr>\n",
       "  </thead>\n",
       "  <tbody>\n",
       "    <tr>\n",
       "      <th>0</th>\n",
       "      <td>255</td>\n",
       "      <td>255</td>\n",
       "      <td>255</td>\n",
       "      <td>255</td>\n",
       "      <td>255</td>\n",
       "      <td>255</td>\n",
       "      <td>255</td>\n",
       "      <td>255</td>\n",
       "      <td>255</td>\n",
       "      <td>255</td>\n",
       "      <td>...</td>\n",
       "      <td>255</td>\n",
       "      <td>255</td>\n",
       "      <td>255</td>\n",
       "      <td>255</td>\n",
       "      <td>255</td>\n",
       "      <td>255</td>\n",
       "      <td>255</td>\n",
       "      <td>255</td>\n",
       "      <td>255</td>\n",
       "      <td>9</td>\n",
       "    </tr>\n",
       "    <tr>\n",
       "      <th>1</th>\n",
       "      <td>255</td>\n",
       "      <td>255</td>\n",
       "      <td>255</td>\n",
       "      <td>255</td>\n",
       "      <td>255</td>\n",
       "      <td>255</td>\n",
       "      <td>255</td>\n",
       "      <td>255</td>\n",
       "      <td>255</td>\n",
       "      <td>255</td>\n",
       "      <td>...</td>\n",
       "      <td>252</td>\n",
       "      <td>245</td>\n",
       "      <td>232</td>\n",
       "      <td>213</td>\n",
       "      <td>200</td>\n",
       "      <td>195</td>\n",
       "      <td>207</td>\n",
       "      <td>238</td>\n",
       "      <td>253</td>\n",
       "      <td>4</td>\n",
       "    </tr>\n",
       "    <tr>\n",
       "      <th>2</th>\n",
       "      <td>96</td>\n",
       "      <td>153</td>\n",
       "      <td>244</td>\n",
       "      <td>255</td>\n",
       "      <td>255</td>\n",
       "      <td>255</td>\n",
       "      <td>255</td>\n",
       "      <td>255</td>\n",
       "      <td>255</td>\n",
       "      <td>255</td>\n",
       "      <td>...</td>\n",
       "      <td>101</td>\n",
       "      <td>16</td>\n",
       "      <td>16</td>\n",
       "      <td>101</td>\n",
       "      <td>238</td>\n",
       "      <td>255</td>\n",
       "      <td>255</td>\n",
       "      <td>255</td>\n",
       "      <td>255</td>\n",
       "      <td>6</td>\n",
       "    </tr>\n",
       "    <tr>\n",
       "      <th>3</th>\n",
       "      <td>255</td>\n",
       "      <td>255</td>\n",
       "      <td>255</td>\n",
       "      <td>255</td>\n",
       "      <td>255</td>\n",
       "      <td>254</td>\n",
       "      <td>253</td>\n",
       "      <td>250</td>\n",
       "      <td>246</td>\n",
       "      <td>242</td>\n",
       "      <td>...</td>\n",
       "      <td>255</td>\n",
       "      <td>255</td>\n",
       "      <td>255</td>\n",
       "      <td>255</td>\n",
       "      <td>255</td>\n",
       "      <td>255</td>\n",
       "      <td>254</td>\n",
       "      <td>254</td>\n",
       "      <td>254</td>\n",
       "      <td>3</td>\n",
       "    </tr>\n",
       "    <tr>\n",
       "      <th>4</th>\n",
       "      <td>255</td>\n",
       "      <td>255</td>\n",
       "      <td>255</td>\n",
       "      <td>255</td>\n",
       "      <td>255</td>\n",
       "      <td>255</td>\n",
       "      <td>253</td>\n",
       "      <td>251</td>\n",
       "      <td>237</td>\n",
       "      <td>222</td>\n",
       "      <td>...</td>\n",
       "      <td>255</td>\n",
       "      <td>255</td>\n",
       "      <td>254</td>\n",
       "      <td>254</td>\n",
       "      <td>254</td>\n",
       "      <td>255</td>\n",
       "      <td>255</td>\n",
       "      <td>255</td>\n",
       "      <td>255</td>\n",
       "      <td>3</td>\n",
       "    </tr>\n",
       "  </tbody>\n",
       "</table>\n",
       "<p>5 rows × 785 columns</p>\n",
       "</div>"
      ],
      "text/plain": [
       "     0    1    2    3    4    5    6    7    8    9  ...  775  776  777  778  \\\n",
       "0  255  255  255  255  255  255  255  255  255  255  ...  255  255  255  255   \n",
       "1  255  255  255  255  255  255  255  255  255  255  ...  252  245  232  213   \n",
       "2   96  153  244  255  255  255  255  255  255  255  ...  101   16   16  101   \n",
       "3  255  255  255  255  255  254  253  250  246  242  ...  255  255  255  255   \n",
       "4  255  255  255  255  255  255  253  251  237  222  ...  255  255  254  254   \n",
       "\n",
       "   779  780  781  782  783  Label  \n",
       "0  255  255  255  255  255      9  \n",
       "1  200  195  207  238  253      4  \n",
       "2  238  255  255  255  255      6  \n",
       "3  255  255  254  254  254      3  \n",
       "4  254  255  255  255  255      3  \n",
       "\n",
       "[5 rows x 785 columns]"
      ]
     },
     "execution_count": 14,
     "metadata": {},
     "output_type": "execute_result"
    }
   ],
   "source": [
    "df = pd.concat([x,y] , axis=1)\n",
    "#df.to_csv('image_df.csv')\n",
    "df.head()"
   ]
  },
  {
   "cell_type": "code",
   "execution_count": 15,
   "metadata": {},
   "outputs": [],
   "source": [
    "# Binarize the output\n",
    "\n",
    "#y = preprocessing.label_binarize( y , classes = ['0', '1', '2', '3', '4', '5', '6', '7', '8', '9'] )\n",
    "#print(y)"
   ]
  },
  {
   "cell_type": "code",
   "execution_count": 16,
   "metadata": {},
   "outputs": [],
   "source": [
    "X_train, X_test, y_train, y_test = train_test_split( x, y, test_size = 0.30, random_state = 42, stratify = y )"
   ]
  },
  {
   "attachments": {},
   "cell_type": "markdown",
   "metadata": {},
   "source": [
    "# STEP 3 : Train "
   ]
  },
  {
   "attachments": {},
   "cell_type": "markdown",
   "metadata": {},
   "source": [
    "<h4>Cross Validation : AutoML </h4>\n",
    "By : Pycaret"
   ]
  },
  {
   "cell_type": "code",
   "execution_count": 17,
   "metadata": {},
   "outputs": [
    {
     "data": {
      "text/html": [
       "<style type=\"text/css\">\n",
       "#T_60eda_row9_col1 {\n",
       "  background-color: lightgreen;\n",
       "}\n",
       "</style>\n",
       "<table id=\"T_60eda\">\n",
       "  <thead>\n",
       "    <tr>\n",
       "      <th class=\"blank level0\" >&nbsp;</th>\n",
       "      <th id=\"T_60eda_level0_col0\" class=\"col_heading level0 col0\" >Description</th>\n",
       "      <th id=\"T_60eda_level0_col1\" class=\"col_heading level0 col1\" >Value</th>\n",
       "    </tr>\n",
       "  </thead>\n",
       "  <tbody>\n",
       "    <tr>\n",
       "      <th id=\"T_60eda_level0_row0\" class=\"row_heading level0 row0\" >0</th>\n",
       "      <td id=\"T_60eda_row0_col0\" class=\"data row0 col0\" >Session id</td>\n",
       "      <td id=\"T_60eda_row0_col1\" class=\"data row0 col1\" >123</td>\n",
       "    </tr>\n",
       "    <tr>\n",
       "      <th id=\"T_60eda_level0_row1\" class=\"row_heading level0 row1\" >1</th>\n",
       "      <td id=\"T_60eda_row1_col0\" class=\"data row1 col0\" >Target</td>\n",
       "      <td id=\"T_60eda_row1_col1\" class=\"data row1 col1\" >Label</td>\n",
       "    </tr>\n",
       "    <tr>\n",
       "      <th id=\"T_60eda_level0_row2\" class=\"row_heading level0 row2\" >2</th>\n",
       "      <td id=\"T_60eda_row2_col0\" class=\"data row2 col0\" >Target type</td>\n",
       "      <td id=\"T_60eda_row2_col1\" class=\"data row2 col1\" >Multiclass</td>\n",
       "    </tr>\n",
       "    <tr>\n",
       "      <th id=\"T_60eda_level0_row3\" class=\"row_heading level0 row3\" >3</th>\n",
       "      <td id=\"T_60eda_row3_col0\" class=\"data row3 col0\" >Target mapping</td>\n",
       "      <td id=\"T_60eda_row3_col1\" class=\"data row3 col1\" >0: 0, 1: 1, 2: 2, 3: 3, 4: 4, 5: 5, 6: 6, 7: 7, 8: 8, 9: 9</td>\n",
       "    </tr>\n",
       "    <tr>\n",
       "      <th id=\"T_60eda_level0_row4\" class=\"row_heading level0 row4\" >4</th>\n",
       "      <td id=\"T_60eda_row4_col0\" class=\"data row4 col0\" >Original data shape</td>\n",
       "      <td id=\"T_60eda_row4_col1\" class=\"data row4 col1\" >(700, 785)</td>\n",
       "    </tr>\n",
       "    <tr>\n",
       "      <th id=\"T_60eda_level0_row5\" class=\"row_heading level0 row5\" >5</th>\n",
       "      <td id=\"T_60eda_row5_col0\" class=\"data row5 col0\" >Transformed data shape</td>\n",
       "      <td id=\"T_60eda_row5_col1\" class=\"data row5 col1\" >(700, 785)</td>\n",
       "    </tr>\n",
       "    <tr>\n",
       "      <th id=\"T_60eda_level0_row6\" class=\"row_heading level0 row6\" >6</th>\n",
       "      <td id=\"T_60eda_row6_col0\" class=\"data row6 col0\" >Transformed train set shape</td>\n",
       "      <td id=\"T_60eda_row6_col1\" class=\"data row6 col1\" >(489, 785)</td>\n",
       "    </tr>\n",
       "    <tr>\n",
       "      <th id=\"T_60eda_level0_row7\" class=\"row_heading level0 row7\" >7</th>\n",
       "      <td id=\"T_60eda_row7_col0\" class=\"data row7 col0\" >Transformed test set shape</td>\n",
       "      <td id=\"T_60eda_row7_col1\" class=\"data row7 col1\" >(211, 785)</td>\n",
       "    </tr>\n",
       "    <tr>\n",
       "      <th id=\"T_60eda_level0_row8\" class=\"row_heading level0 row8\" >8</th>\n",
       "      <td id=\"T_60eda_row8_col0\" class=\"data row8 col0\" >Numeric features</td>\n",
       "      <td id=\"T_60eda_row8_col1\" class=\"data row8 col1\" >784</td>\n",
       "    </tr>\n",
       "    <tr>\n",
       "      <th id=\"T_60eda_level0_row9\" class=\"row_heading level0 row9\" >9</th>\n",
       "      <td id=\"T_60eda_row9_col0\" class=\"data row9 col0\" >Preprocess</td>\n",
       "      <td id=\"T_60eda_row9_col1\" class=\"data row9 col1\" >True</td>\n",
       "    </tr>\n",
       "    <tr>\n",
       "      <th id=\"T_60eda_level0_row10\" class=\"row_heading level0 row10\" >10</th>\n",
       "      <td id=\"T_60eda_row10_col0\" class=\"data row10 col0\" >Imputation type</td>\n",
       "      <td id=\"T_60eda_row10_col1\" class=\"data row10 col1\" >simple</td>\n",
       "    </tr>\n",
       "    <tr>\n",
       "      <th id=\"T_60eda_level0_row11\" class=\"row_heading level0 row11\" >11</th>\n",
       "      <td id=\"T_60eda_row11_col0\" class=\"data row11 col0\" >Numeric imputation</td>\n",
       "      <td id=\"T_60eda_row11_col1\" class=\"data row11 col1\" >mean</td>\n",
       "    </tr>\n",
       "    <tr>\n",
       "      <th id=\"T_60eda_level0_row12\" class=\"row_heading level0 row12\" >12</th>\n",
       "      <td id=\"T_60eda_row12_col0\" class=\"data row12 col0\" >Categorical imputation</td>\n",
       "      <td id=\"T_60eda_row12_col1\" class=\"data row12 col1\" >mode</td>\n",
       "    </tr>\n",
       "    <tr>\n",
       "      <th id=\"T_60eda_level0_row13\" class=\"row_heading level0 row13\" >13</th>\n",
       "      <td id=\"T_60eda_row13_col0\" class=\"data row13 col0\" >Fold Generator</td>\n",
       "      <td id=\"T_60eda_row13_col1\" class=\"data row13 col1\" >StratifiedKFold</td>\n",
       "    </tr>\n",
       "    <tr>\n",
       "      <th id=\"T_60eda_level0_row14\" class=\"row_heading level0 row14\" >14</th>\n",
       "      <td id=\"T_60eda_row14_col0\" class=\"data row14 col0\" >Fold Number</td>\n",
       "      <td id=\"T_60eda_row14_col1\" class=\"data row14 col1\" >10</td>\n",
       "    </tr>\n",
       "    <tr>\n",
       "      <th id=\"T_60eda_level0_row15\" class=\"row_heading level0 row15\" >15</th>\n",
       "      <td id=\"T_60eda_row15_col0\" class=\"data row15 col0\" >CPU Jobs</td>\n",
       "      <td id=\"T_60eda_row15_col1\" class=\"data row15 col1\" >-1</td>\n",
       "    </tr>\n",
       "    <tr>\n",
       "      <th id=\"T_60eda_level0_row16\" class=\"row_heading level0 row16\" >16</th>\n",
       "      <td id=\"T_60eda_row16_col0\" class=\"data row16 col0\" >Use GPU</td>\n",
       "      <td id=\"T_60eda_row16_col1\" class=\"data row16 col1\" >False</td>\n",
       "    </tr>\n",
       "    <tr>\n",
       "      <th id=\"T_60eda_level0_row17\" class=\"row_heading level0 row17\" >17</th>\n",
       "      <td id=\"T_60eda_row17_col0\" class=\"data row17 col0\" >Log Experiment</td>\n",
       "      <td id=\"T_60eda_row17_col1\" class=\"data row17 col1\" >False</td>\n",
       "    </tr>\n",
       "    <tr>\n",
       "      <th id=\"T_60eda_level0_row18\" class=\"row_heading level0 row18\" >18</th>\n",
       "      <td id=\"T_60eda_row18_col0\" class=\"data row18 col0\" >Experiment Name</td>\n",
       "      <td id=\"T_60eda_row18_col1\" class=\"data row18 col1\" >clf-default-name</td>\n",
       "    </tr>\n",
       "    <tr>\n",
       "      <th id=\"T_60eda_level0_row19\" class=\"row_heading level0 row19\" >19</th>\n",
       "      <td id=\"T_60eda_row19_col0\" class=\"data row19 col0\" >USI</td>\n",
       "      <td id=\"T_60eda_row19_col1\" class=\"data row19 col1\" >e636</td>\n",
       "    </tr>\n",
       "  </tbody>\n",
       "</table>\n"
      ],
      "text/plain": [
       "<pandas.io.formats.style.Styler at 0x23d908c1e20>"
      ]
     },
     "metadata": {},
     "output_type": "display_data"
    }
   ],
   "source": [
    "from pycaret.classification import *\n",
    "\n",
    "s = setup( df, target = 'Label', session_id = 123, train_size = 0.7  )"
   ]
  },
  {
   "cell_type": "code",
   "execution_count": 18,
   "metadata": {},
   "outputs": [
    {
     "data": {
      "text/html": [],
      "text/plain": [
       "<IPython.core.display.HTML object>"
      ]
     },
     "metadata": {},
     "output_type": "display_data"
    },
    {
     "data": {
      "text/html": [],
      "text/plain": [
       "<IPython.core.display.HTML object>"
      ]
     },
     "metadata": {},
     "output_type": "display_data"
    },
    {
     "data": {
      "text/html": [],
      "text/plain": [
       "<IPython.core.display.HTML object>"
      ]
     },
     "metadata": {},
     "output_type": "display_data"
    },
    {
     "data": {
      "text/html": [
       "<div>\n",
       "<style scoped>\n",
       "    .dataframe tbody tr th:only-of-type {\n",
       "        vertical-align: middle;\n",
       "    }\n",
       "\n",
       "    .dataframe tbody tr th {\n",
       "        vertical-align: top;\n",
       "    }\n",
       "\n",
       "    .dataframe thead th {\n",
       "        text-align: right;\n",
       "    }\n",
       "</style>\n",
       "<table border=\"1\" class=\"dataframe\">\n",
       "  <thead>\n",
       "    <tr style=\"text-align: right;\">\n",
       "      <th></th>\n",
       "      <th>Model</th>\n",
       "      <th>Accuracy</th>\n",
       "      <th>AUC</th>\n",
       "      <th>Recall</th>\n",
       "      <th>Prec.</th>\n",
       "      <th>F1</th>\n",
       "      <th>Kappa</th>\n",
       "      <th>MCC</th>\n",
       "      <th>TT (Sec)</th>\n",
       "    </tr>\n",
       "  </thead>\n",
       "  <tbody>\n",
       "    <tr>\n",
       "      <th>et</th>\n",
       "      <td>Extra Trees Classifier</td>\n",
       "      <td>0.9612</td>\n",
       "      <td>0.9986</td>\n",
       "      <td>0.9612</td>\n",
       "      <td>0.9651</td>\n",
       "      <td>0.9610</td>\n",
       "      <td>0.9569</td>\n",
       "      <td>0.9574</td>\n",
       "      <td>2.434</td>\n",
       "    </tr>\n",
       "    <tr>\n",
       "      <th>lr</th>\n",
       "      <td>Logistic Regression</td>\n",
       "      <td>0.9530</td>\n",
       "      <td>0.9961</td>\n",
       "      <td>0.9530</td>\n",
       "      <td>0.9598</td>\n",
       "      <td>0.9531</td>\n",
       "      <td>0.9477</td>\n",
       "      <td>0.9485</td>\n",
       "      <td>3.264</td>\n",
       "    </tr>\n",
       "    <tr>\n",
       "      <th>rf</th>\n",
       "      <td>Random Forest Classifier</td>\n",
       "      <td>0.9489</td>\n",
       "      <td>0.9982</td>\n",
       "      <td>0.9489</td>\n",
       "      <td>0.9513</td>\n",
       "      <td>0.9487</td>\n",
       "      <td>0.9432</td>\n",
       "      <td>0.9435</td>\n",
       "      <td>2.488</td>\n",
       "    </tr>\n",
       "    <tr>\n",
       "      <th>lightgbm</th>\n",
       "      <td>Light Gradient Boosting Machine</td>\n",
       "      <td>0.9469</td>\n",
       "      <td>0.9969</td>\n",
       "      <td>0.9469</td>\n",
       "      <td>0.9499</td>\n",
       "      <td>0.9464</td>\n",
       "      <td>0.9410</td>\n",
       "      <td>0.9414</td>\n",
       "      <td>3.524</td>\n",
       "    </tr>\n",
       "    <tr>\n",
       "      <th>knn</th>\n",
       "      <td>K Neighbors Classifier</td>\n",
       "      <td>0.9264</td>\n",
       "      <td>0.9911</td>\n",
       "      <td>0.9264</td>\n",
       "      <td>0.9370</td>\n",
       "      <td>0.9268</td>\n",
       "      <td>0.9182</td>\n",
       "      <td>0.9193</td>\n",
       "      <td>2.764</td>\n",
       "    </tr>\n",
       "    <tr>\n",
       "      <th>svm</th>\n",
       "      <td>SVM - Linear Kernel</td>\n",
       "      <td>0.9162</td>\n",
       "      <td>0.0000</td>\n",
       "      <td>0.9162</td>\n",
       "      <td>0.9253</td>\n",
       "      <td>0.9155</td>\n",
       "      <td>0.9069</td>\n",
       "      <td>0.9081</td>\n",
       "      <td>2.296</td>\n",
       "    </tr>\n",
       "    <tr>\n",
       "      <th>gbc</th>\n",
       "      <td>Gradient Boosting Classifier</td>\n",
       "      <td>0.9039</td>\n",
       "      <td>0.9928</td>\n",
       "      <td>0.9039</td>\n",
       "      <td>0.9154</td>\n",
       "      <td>0.9046</td>\n",
       "      <td>0.8932</td>\n",
       "      <td>0.8945</td>\n",
       "      <td>13.708</td>\n",
       "    </tr>\n",
       "    <tr>\n",
       "      <th>lda</th>\n",
       "      <td>Linear Discriminant Analysis</td>\n",
       "      <td>0.8548</td>\n",
       "      <td>0.9762</td>\n",
       "      <td>0.8548</td>\n",
       "      <td>0.8696</td>\n",
       "      <td>0.8550</td>\n",
       "      <td>0.8387</td>\n",
       "      <td>0.8403</td>\n",
       "      <td>2.340</td>\n",
       "    </tr>\n",
       "    <tr>\n",
       "      <th>nb</th>\n",
       "      <td>Naive Bayes</td>\n",
       "      <td>0.7711</td>\n",
       "      <td>0.8970</td>\n",
       "      <td>0.7711</td>\n",
       "      <td>0.8134</td>\n",
       "      <td>0.7710</td>\n",
       "      <td>0.7456</td>\n",
       "      <td>0.7508</td>\n",
       "      <td>2.252</td>\n",
       "    </tr>\n",
       "    <tr>\n",
       "      <th>dt</th>\n",
       "      <td>Decision Tree Classifier</td>\n",
       "      <td>0.7690</td>\n",
       "      <td>0.8715</td>\n",
       "      <td>0.7690</td>\n",
       "      <td>0.7821</td>\n",
       "      <td>0.7667</td>\n",
       "      <td>0.7432</td>\n",
       "      <td>0.7451</td>\n",
       "      <td>2.282</td>\n",
       "    </tr>\n",
       "    <tr>\n",
       "      <th>ridge</th>\n",
       "      <td>Ridge Classifier</td>\n",
       "      <td>0.7607</td>\n",
       "      <td>0.0000</td>\n",
       "      <td>0.7607</td>\n",
       "      <td>0.7822</td>\n",
       "      <td>0.7616</td>\n",
       "      <td>0.7341</td>\n",
       "      <td>0.7361</td>\n",
       "      <td>2.222</td>\n",
       "    </tr>\n",
       "    <tr>\n",
       "      <th>ada</th>\n",
       "      <td>Ada Boost Classifier</td>\n",
       "      <td>0.2126</td>\n",
       "      <td>0.7028</td>\n",
       "      <td>0.2126</td>\n",
       "      <td>0.1314</td>\n",
       "      <td>0.1391</td>\n",
       "      <td>0.1271</td>\n",
       "      <td>0.1598</td>\n",
       "      <td>2.572</td>\n",
       "    </tr>\n",
       "    <tr>\n",
       "      <th>qda</th>\n",
       "      <td>Quadratic Discriminant Analysis</td>\n",
       "      <td>0.1779</td>\n",
       "      <td>0.5433</td>\n",
       "      <td>0.1779</td>\n",
       "      <td>0.1811</td>\n",
       "      <td>0.1728</td>\n",
       "      <td>0.0866</td>\n",
       "      <td>0.0874</td>\n",
       "      <td>2.390</td>\n",
       "    </tr>\n",
       "    <tr>\n",
       "      <th>dummy</th>\n",
       "      <td>Dummy Classifier</td>\n",
       "      <td>0.0920</td>\n",
       "      <td>0.5000</td>\n",
       "      <td>0.0920</td>\n",
       "      <td>0.0085</td>\n",
       "      <td>0.0155</td>\n",
       "      <td>0.0000</td>\n",
       "      <td>0.0000</td>\n",
       "      <td>2.218</td>\n",
       "    </tr>\n",
       "  </tbody>\n",
       "</table>\n",
       "</div>"
      ],
      "text/plain": [
       "                                    Model  Accuracy     AUC  Recall   Prec.  \\\n",
       "et                 Extra Trees Classifier    0.9612  0.9986  0.9612  0.9651   \n",
       "lr                    Logistic Regression    0.9530  0.9961  0.9530  0.9598   \n",
       "rf               Random Forest Classifier    0.9489  0.9982  0.9489  0.9513   \n",
       "lightgbm  Light Gradient Boosting Machine    0.9469  0.9969  0.9469  0.9499   \n",
       "knn                K Neighbors Classifier    0.9264  0.9911  0.9264  0.9370   \n",
       "svm                   SVM - Linear Kernel    0.9162  0.0000  0.9162  0.9253   \n",
       "gbc          Gradient Boosting Classifier    0.9039  0.9928  0.9039  0.9154   \n",
       "lda          Linear Discriminant Analysis    0.8548  0.9762  0.8548  0.8696   \n",
       "nb                            Naive Bayes    0.7711  0.8970  0.7711  0.8134   \n",
       "dt               Decision Tree Classifier    0.7690  0.8715  0.7690  0.7821   \n",
       "ridge                    Ridge Classifier    0.7607  0.0000  0.7607  0.7822   \n",
       "ada                  Ada Boost Classifier    0.2126  0.7028  0.2126  0.1314   \n",
       "qda       Quadratic Discriminant Analysis    0.1779  0.5433  0.1779  0.1811   \n",
       "dummy                    Dummy Classifier    0.0920  0.5000  0.0920  0.0085   \n",
       "\n",
       "              F1   Kappa     MCC  TT (Sec)  \n",
       "et        0.9610  0.9569  0.9574     2.434  \n",
       "lr        0.9531  0.9477  0.9485     3.264  \n",
       "rf        0.9487  0.9432  0.9435     2.488  \n",
       "lightgbm  0.9464  0.9410  0.9414     3.524  \n",
       "knn       0.9268  0.9182  0.9193     2.764  \n",
       "svm       0.9155  0.9069  0.9081     2.296  \n",
       "gbc       0.9046  0.8932  0.8945    13.708  \n",
       "lda       0.8550  0.8387  0.8403     2.340  \n",
       "nb        0.7710  0.7456  0.7508     2.252  \n",
       "dt        0.7667  0.7432  0.7451     2.282  \n",
       "ridge     0.7616  0.7341  0.7361     2.222  \n",
       "ada       0.1391  0.1271  0.1598     2.572  \n",
       "qda       0.1728  0.0866  0.0874     2.390  \n",
       "dummy     0.0155  0.0000  0.0000     2.218  "
      ]
     },
     "execution_count": 18,
     "metadata": {},
     "output_type": "execute_result"
    }
   ],
   "source": [
    "best = s.compare_models( sort = 'Accuracy', fold = 5, n_select = 5 )\n",
    "pull()"
   ]
  },
  {
   "cell_type": "code",
   "execution_count": 19,
   "metadata": {},
   "outputs": [
    {
     "data": {
      "text/plain": [
       "[ExtraTreesClassifier(bootstrap=False, ccp_alpha=0.0, class_weight=None,\n",
       "                      criterion='gini', max_depth=None, max_features='sqrt',\n",
       "                      max_leaf_nodes=None, max_samples=None,\n",
       "                      min_impurity_decrease=0.0, min_samples_leaf=1,\n",
       "                      min_samples_split=2, min_weight_fraction_leaf=0.0,\n",
       "                      n_estimators=100, n_jobs=-1, oob_score=False,\n",
       "                      random_state=123, verbose=0, warm_start=False),\n",
       " LogisticRegression(C=1.0, class_weight=None, dual=False, fit_intercept=True,\n",
       "                    intercept_scaling=1, l1_ratio=None, max_iter=1000,\n",
       "                    multi_class='auto', n_jobs=None, penalty='l2',\n",
       "                    random_state=123, solver='lbfgs', tol=0.0001, verbose=0,\n",
       "                    warm_start=False),\n",
       " RandomForestClassifier(bootstrap=True, ccp_alpha=0.0, class_weight=None,\n",
       "                        criterion='gini', max_depth=None, max_features='sqrt',\n",
       "                        max_leaf_nodes=None, max_samples=None,\n",
       "                        min_impurity_decrease=0.0, min_samples_leaf=1,\n",
       "                        min_samples_split=2, min_weight_fraction_leaf=0.0,\n",
       "                        n_estimators=100, n_jobs=-1, oob_score=False,\n",
       "                        random_state=123, verbose=0, warm_start=False),\n",
       " LGBMClassifier(boosting_type='gbdt', class_weight=None, colsample_bytree=1.0,\n",
       "                importance_type='split', learning_rate=0.1, max_depth=-1,\n",
       "                min_child_samples=20, min_child_weight=0.001, min_split_gain=0.0,\n",
       "                n_estimators=100, n_jobs=-1, num_leaves=31, objective=None,\n",
       "                random_state=123, reg_alpha=0.0, reg_lambda=0.0, silent='warn',\n",
       "                subsample=1.0, subsample_for_bin=200000, subsample_freq=0),\n",
       " KNeighborsClassifier(algorithm='auto', leaf_size=30, metric='minkowski',\n",
       "                      metric_params=None, n_jobs=-1, n_neighbors=5, p=2,\n",
       "                      weights='uniform')]"
      ]
     },
     "metadata": {},
     "output_type": "display_data"
    }
   ],
   "source": [
    "display(best)"
   ]
  },
  {
   "cell_type": "code",
   "execution_count": 20,
   "metadata": {},
   "outputs": [
    {
     "data": {
      "text/html": [],
      "text/plain": [
       "<IPython.core.display.HTML object>"
      ]
     },
     "metadata": {},
     "output_type": "display_data"
    },
    {
     "data": {
      "text/html": [
       "<style type=\"text/css\">\n",
       "#T_d2910_row5_col0, #T_d2910_row5_col1, #T_d2910_row5_col2, #T_d2910_row5_col3, #T_d2910_row5_col4, #T_d2910_row5_col5, #T_d2910_row5_col6 {\n",
       "  background: yellow;\n",
       "}\n",
       "</style>\n",
       "<table id=\"T_d2910\">\n",
       "  <thead>\n",
       "    <tr>\n",
       "      <th class=\"blank level0\" >&nbsp;</th>\n",
       "      <th id=\"T_d2910_level0_col0\" class=\"col_heading level0 col0\" >Accuracy</th>\n",
       "      <th id=\"T_d2910_level0_col1\" class=\"col_heading level0 col1\" >AUC</th>\n",
       "      <th id=\"T_d2910_level0_col2\" class=\"col_heading level0 col2\" >Recall</th>\n",
       "      <th id=\"T_d2910_level0_col3\" class=\"col_heading level0 col3\" >Prec.</th>\n",
       "      <th id=\"T_d2910_level0_col4\" class=\"col_heading level0 col4\" >F1</th>\n",
       "      <th id=\"T_d2910_level0_col5\" class=\"col_heading level0 col5\" >Kappa</th>\n",
       "      <th id=\"T_d2910_level0_col6\" class=\"col_heading level0 col6\" >MCC</th>\n",
       "    </tr>\n",
       "    <tr>\n",
       "      <th class=\"index_name level0\" >Fold</th>\n",
       "      <th class=\"blank col0\" >&nbsp;</th>\n",
       "      <th class=\"blank col1\" >&nbsp;</th>\n",
       "      <th class=\"blank col2\" >&nbsp;</th>\n",
       "      <th class=\"blank col3\" >&nbsp;</th>\n",
       "      <th class=\"blank col4\" >&nbsp;</th>\n",
       "      <th class=\"blank col5\" >&nbsp;</th>\n",
       "      <th class=\"blank col6\" >&nbsp;</th>\n",
       "    </tr>\n",
       "  </thead>\n",
       "  <tbody>\n",
       "    <tr>\n",
       "      <th id=\"T_d2910_level0_row0\" class=\"row_heading level0 row0\" >0</th>\n",
       "      <td id=\"T_d2910_row0_col0\" class=\"data row0 col0\" >0.9796</td>\n",
       "      <td id=\"T_d2910_row0_col1\" class=\"data row0 col1\" >0.9959</td>\n",
       "      <td id=\"T_d2910_row0_col2\" class=\"data row0 col2\" >0.9796</td>\n",
       "      <td id=\"T_d2910_row0_col3\" class=\"data row0 col3\" >0.9796</td>\n",
       "      <td id=\"T_d2910_row0_col4\" class=\"data row0 col4\" >0.9796</td>\n",
       "      <td id=\"T_d2910_row0_col5\" class=\"data row0 col5\" >0.9773</td>\n",
       "      <td id=\"T_d2910_row0_col6\" class=\"data row0 col6\" >0.9773</td>\n",
       "    </tr>\n",
       "    <tr>\n",
       "      <th id=\"T_d2910_level0_row1\" class=\"row_heading level0 row1\" >1</th>\n",
       "      <td id=\"T_d2910_row1_col0\" class=\"data row1 col0\" >0.9184</td>\n",
       "      <td id=\"T_d2910_row1_col1\" class=\"data row1 col1\" >0.9907</td>\n",
       "      <td id=\"T_d2910_row1_col2\" class=\"data row1 col2\" >0.9184</td>\n",
       "      <td id=\"T_d2910_row1_col3\" class=\"data row1 col3\" >0.9212</td>\n",
       "      <td id=\"T_d2910_row1_col4\" class=\"data row1 col4\" >0.9170</td>\n",
       "      <td id=\"T_d2910_row1_col5\" class=\"data row1 col5\" >0.9093</td>\n",
       "      <td id=\"T_d2910_row1_col6\" class=\"data row1 col6\" >0.9099</td>\n",
       "    </tr>\n",
       "    <tr>\n",
       "      <th id=\"T_d2910_level0_row2\" class=\"row_heading level0 row2\" >2</th>\n",
       "      <td id=\"T_d2910_row2_col0\" class=\"data row2 col0\" >0.9490</td>\n",
       "      <td id=\"T_d2910_row2_col1\" class=\"data row2 col1\" >0.9927</td>\n",
       "      <td id=\"T_d2910_row2_col2\" class=\"data row2 col2\" >0.9490</td>\n",
       "      <td id=\"T_d2910_row2_col3\" class=\"data row2 col3\" >0.9552</td>\n",
       "      <td id=\"T_d2910_row2_col4\" class=\"data row2 col4\" >0.9492</td>\n",
       "      <td id=\"T_d2910_row2_col5\" class=\"data row2 col5\" >0.9433</td>\n",
       "      <td id=\"T_d2910_row2_col6\" class=\"data row2 col6\" >0.9439</td>\n",
       "    </tr>\n",
       "    <tr>\n",
       "      <th id=\"T_d2910_level0_row3\" class=\"row_heading level0 row3\" >3</th>\n",
       "      <td id=\"T_d2910_row3_col0\" class=\"data row3 col0\" >0.9592</td>\n",
       "      <td id=\"T_d2910_row3_col1\" class=\"data row3 col1\" >0.9970</td>\n",
       "      <td id=\"T_d2910_row3_col2\" class=\"data row3 col2\" >0.9592</td>\n",
       "      <td id=\"T_d2910_row3_col3\" class=\"data row3 col3\" >0.9610</td>\n",
       "      <td id=\"T_d2910_row3_col4\" class=\"data row3 col4\" >0.9591</td>\n",
       "      <td id=\"T_d2910_row3_col5\" class=\"data row3 col5\" >0.9546</td>\n",
       "      <td id=\"T_d2910_row3_col6\" class=\"data row3 col6\" >0.9549</td>\n",
       "    </tr>\n",
       "    <tr>\n",
       "      <th id=\"T_d2910_level0_row4\" class=\"row_heading level0 row4\" >4</th>\n",
       "      <td id=\"T_d2910_row4_col0\" class=\"data row4 col0\" >0.9691</td>\n",
       "      <td id=\"T_d2910_row4_col1\" class=\"data row4 col1\" >0.9985</td>\n",
       "      <td id=\"T_d2910_row4_col2\" class=\"data row4 col2\" >0.9691</td>\n",
       "      <td id=\"T_d2910_row4_col3\" class=\"data row4 col3\" >0.9697</td>\n",
       "      <td id=\"T_d2910_row4_col4\" class=\"data row4 col4\" >0.9689</td>\n",
       "      <td id=\"T_d2910_row4_col5\" class=\"data row4 col5\" >0.9656</td>\n",
       "      <td id=\"T_d2910_row4_col6\" class=\"data row4 col6\" >0.9657</td>\n",
       "    </tr>\n",
       "    <tr>\n",
       "      <th id=\"T_d2910_level0_row5\" class=\"row_heading level0 row5\" >Mean</th>\n",
       "      <td id=\"T_d2910_row5_col0\" class=\"data row5 col0\" >0.9550</td>\n",
       "      <td id=\"T_d2910_row5_col1\" class=\"data row5 col1\" >0.9950</td>\n",
       "      <td id=\"T_d2910_row5_col2\" class=\"data row5 col2\" >0.9550</td>\n",
       "      <td id=\"T_d2910_row5_col3\" class=\"data row5 col3\" >0.9573</td>\n",
       "      <td id=\"T_d2910_row5_col4\" class=\"data row5 col4\" >0.9548</td>\n",
       "      <td id=\"T_d2910_row5_col5\" class=\"data row5 col5\" >0.9500</td>\n",
       "      <td id=\"T_d2910_row5_col6\" class=\"data row5 col6\" >0.9504</td>\n",
       "    </tr>\n",
       "    <tr>\n",
       "      <th id=\"T_d2910_level0_row6\" class=\"row_heading level0 row6\" >Std</th>\n",
       "      <td id=\"T_d2910_row6_col0\" class=\"data row6 col0\" >0.0210</td>\n",
       "      <td id=\"T_d2910_row6_col1\" class=\"data row6 col1\" >0.0028</td>\n",
       "      <td id=\"T_d2910_row6_col2\" class=\"data row6 col2\" >0.0210</td>\n",
       "      <td id=\"T_d2910_row6_col3\" class=\"data row6 col3\" >0.0199</td>\n",
       "      <td id=\"T_d2910_row6_col4\" class=\"data row6 col4\" >0.0214</td>\n",
       "      <td id=\"T_d2910_row6_col5\" class=\"data row6 col5\" >0.0233</td>\n",
       "      <td id=\"T_d2910_row6_col6\" class=\"data row6 col6\" >0.0231</td>\n",
       "    </tr>\n",
       "  </tbody>\n",
       "</table>\n"
      ],
      "text/plain": [
       "<pandas.io.formats.style.Styler at 0x23d907e0f70>"
      ]
     },
     "metadata": {},
     "output_type": "display_data"
    },
    {
     "data": {
      "text/html": [],
      "text/plain": [
       "<IPython.core.display.HTML object>"
      ]
     },
     "metadata": {},
     "output_type": "display_data"
    },
    {
     "name": "stdout",
     "output_type": "stream",
     "text": [
      "Fitting 5 folds for each of 30 candidates, totalling 150 fits\n",
      "Original model was better than the tuned model, hence it will be returned. NOTE: The display metrics are for the tuned model (not the original one).\n"
     ]
    }
   ],
   "source": [
    "tuned_model = tune_model( best[0], optimize = 'Accuracy', n_iter = 30, fold = 5 )"
   ]
  },
  {
   "cell_type": "code",
   "execution_count": 21,
   "metadata": {},
   "outputs": [
    {
     "data": {
      "text/html": [],
      "text/plain": [
       "<IPython.core.display.HTML object>"
      ]
     },
     "metadata": {},
     "output_type": "display_data"
    },
    {
     "data": {
      "image/png": "[encoded data removed]",
      "text/plain": [
       "<Figure size 800x550 with 1 Axes>"
      ]
     },
     "metadata": {},
     "output_type": "display_data"
    }
   ],
   "source": [
    "plot_model(tuned_model, plot = 'auc')"
   ]
  },
  {
   "attachments": {},
   "cell_type": "markdown",
   "metadata": {},
   "source": [
    "<h4>Pipeline</h4>"
   ]
  },
  {
   "cell_type": "code",
   "execution_count": 25,
   "metadata": {},
   "outputs": [],
   "source": [
    "steps = [\n",
    "    ('scalar', MinMaxScaler()),\n",
    "    ('ExtraTreesClassifier',ExtraTreesClassifier(bootstrap=False, ccp_alpha=0.0, class_weight=None,\n",
    "                      criterion='gini', max_depth=None, max_features='sqrt',\n",
    "                      max_leaf_nodes=None, max_samples=None,\n",
    "                      min_impurity_decrease=0.0, min_samples_leaf=1,\n",
    "                      min_samples_split=2, min_weight_fraction_leaf=0.0,\n",
    "                      n_estimators=100, n_jobs=-1, oob_score=False,\n",
    "                      random_state=123, verbose=0, warm_start=False))\n",
    "]\n",
    "\n",
    "pipeline = Pipeline(steps)"
   ]
  },
  {
   "cell_type": "code",
   "execution_count": 26,
   "metadata": {},
   "outputs": [
    {
     "name": "stdout",
     "output_type": "stream",
     "text": [
      "Training score: 1.0\n"
     ]
    }
   ],
   "source": [
    "pr = pipeline.fit(X_train, y_train)\n",
    "\n",
    "print('Training score: {}'.format(pipeline.score(X_train, y_train)))"
   ]
  },
  {
   "attachments": {},
   "cell_type": "markdown",
   "metadata": {},
   "source": [
    "# STEP 4 : Test"
   ]
  },
  {
   "cell_type": "code",
   "execution_count": 27,
   "metadata": {},
   "outputs": [
    {
     "name": "stdout",
     "output_type": "stream",
     "text": [
      "              precision    recall  f1-score   support\n",
      "\n",
      "           0       1.00      1.00      1.00        21\n",
      "           1       1.00      1.00      1.00        21\n",
      "           2       1.00      1.00      1.00        21\n",
      "           3       1.00      1.00      1.00        21\n",
      "           4       0.91      0.95      0.93        21\n",
      "           5       0.95      0.90      0.93        21\n",
      "           6       1.00      1.00      1.00        21\n",
      "           7       1.00      0.95      0.98        21\n",
      "           8       0.95      1.00      0.98        21\n",
      "           9       1.00      1.00      1.00        21\n",
      "\n",
      "    accuracy                           0.98       210\n",
      "   macro avg       0.98      0.98      0.98       210\n",
      "weighted avg       0.98      0.98      0.98       210\n",
      "\n"
     ]
    }
   ],
   "source": [
    "y_pred = pr.predict(X_test)\n",
    "\n",
    "print(classification_report(y_test, y_pred)) "
   ]
  },
  {
   "attachments": {},
   "cell_type": "markdown",
   "metadata": {},
   "source": [
    "<h4>Evaluations</h4>"
   ]
  },
  {
   "cell_type": "code",
   "execution_count": null,
   "metadata": {},
   "outputs": [],
   "source": []
  }
 ],
 "metadata": {
  "kernelspec": {
   "display_name": "Python 3",
   "language": "python",
   "name": "python3"
  },
  "language_info": {
   "codemirror_mode": {
    "name": "ipython",
    "version": 3
   },
   "file_extension": ".py",
   "mimetype": "text/x-python",
   "name": "python",
   "nbconvert_exporter": "python",
   "pygments_lexer": "ipython3",
   "version": "3.9.13"
  },
  "orig_nbformat": 4
 },
 "nbformat": 4,
 "nbformat_minor": 2
}
