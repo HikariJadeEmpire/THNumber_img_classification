{
 "cells": [
  {
   "attachments": {},
   "cell_type": "markdown",
   "metadata": {},
   "source": [
    "<a href=\"https://colab.research.google.com/github/HikariJadeEmpire/THNumber_img_classification/blob/main/numberclassifier.ipynb\">\n",
    "  <img src=\"https://colab.research.google.com/assets/colab-badge.svg\" alt=\"Open In Colab\"/>\n",
    "</a>"
   ]
  },
  {
   "cell_type": "code",
   "execution_count": 1,
   "metadata": {},
   "outputs": [],
   "source": [
    "#pip install opencv-python\n",
    "\n",
    "# Choose one (for Cross Validation)\n",
    "#pip install pycaret\n",
    "#pip install tune-sklearn ray[tune]"
   ]
  },
  {
   "attachments": {},
   "cell_type": "markdown",
   "metadata": {},
   "source": [
    "# STEP 1 : Importing"
   ]
  },
  {
   "cell_type": "code",
   "execution_count": 2,
   "metadata": {},
   "outputs": [],
   "source": [
    "\n",
    "import numpy as np\n",
    "import pandas as pd\n",
    "\n",
    "import seaborn as sns\n",
    "import matplotlib.pyplot as plt\n",
    "%matplotlib inline"
   ]
  },
  {
   "cell_type": "code",
   "execution_count": 3,
   "metadata": {},
   "outputs": [],
   "source": [
    "#Importing OpenCV - the computer vision library\n",
    "import cv2\n",
    "\n",
    "# import the modules - Directory management\n",
    "import glob\n",
    "import os"
   ]
  },
  {
   "cell_type": "code",
   "execution_count": 4,
   "metadata": {},
   "outputs": [],
   "source": [
    "from sklearn.model_selection import train_test_split\n",
    "from sklearn import preprocessing\n",
    "\n",
    "from sklearn.pipeline import Pipeline\n",
    "from sklearn.preprocessing import MinMaxScaler\n",
    "from sklearn.ensemble import RandomForestClassifier\n",
    "from sklearn.linear_model import LogisticRegression\n",
    "from sklearn.ensemble import ExtraTreesClassifier\n",
    "\n",
    "from sklearn.metrics import classification_report "
   ]
  },
  {
   "attachments": {},
   "cell_type": "markdown",
   "metadata": {},
   "source": [
    "# STEP 1.1 : SET an important Variables"
   ]
  },
  {
   "cell_type": "code",
   "execution_count": 5,
   "metadata": {},
   "outputs": [],
   "source": [
    "main_dir = \"./Thainumber\""
   ]
  },
  {
   "cell_type": "code",
   "execution_count": 6,
   "metadata": {},
   "outputs": [],
   "source": [
    "def moveup(img):\n",
    "    while True:\n",
    "        if np.all(img[0] >= 240):\n",
    "            img = img[1:]\n",
    "        else:\n",
    "            break\n",
    "    return img\n",
    "\n",
    "def movedown(img):\n",
    "    while True:\n",
    "        if np.all(img[-1] >= 240):\n",
    "            img = img[:-1]\n",
    "        else:\n",
    "            break\n",
    "    return img\n",
    "\n",
    "def moveleft(img):\n",
    "    while True:\n",
    "        if np.all(img[:, 0] >= 240):\n",
    "            img = img[:, 1:]\n",
    "        else:\n",
    "            break\n",
    "    return img\n",
    "\n",
    "def moveright(img):\n",
    "    while True:\n",
    "        if np.all(img[:, -1] >= 240):\n",
    "            img = img[:, :-1]\n",
    "        else:\n",
    "            break\n",
    "    return img\n",
    "\n",
    "def rescale(img):\n",
    "    img = moveup(img)\n",
    "    img = movedown(img)\n",
    "    img = moveleft(img)\n",
    "    img = moveright(img)\n",
    "    return img"
   ]
  },
  {
   "cell_type": "code",
   "execution_count": null,
   "metadata": {},
   "outputs": [],
   "source": []
  },
  {
   "attachments": {},
   "cell_type": "markdown",
   "metadata": {},
   "source": [
    "# STEP 2 : Preparing & inspection"
   ]
  },
  {
   "attachments": {},
   "cell_type": "markdown",
   "metadata": {},
   "source": [
    "Prepare for inspections"
   ]
  },
  {
   "cell_type": "code",
   "execution_count": 7,
   "metadata": {},
   "outputs": [],
   "source": [
    "file_path_all = list( glob.glob( main_dir + '/**/*.png' ) )"
   ]
  },
  {
   "cell_type": "code",
   "execution_count": 8,
   "metadata": {},
   "outputs": [
    {
     "data": {
      "text/html": [
       "<div>\n",
       "<style scoped>\n",
       "    .dataframe tbody tr th:only-of-type {\n",
       "        vertical-align: middle;\n",
       "    }\n",
       "\n",
       "    .dataframe tbody tr th {\n",
       "        vertical-align: top;\n",
       "    }\n",
       "\n",
       "    .dataframe thead th {\n",
       "        text-align: right;\n",
       "    }\n",
       "</style>\n",
       "<table border=\"1\" class=\"dataframe\">\n",
       "  <thead>\n",
       "    <tr style=\"text-align: right;\">\n",
       "      <th></th>\n",
       "      <th>Filepath</th>\n",
       "      <th>Label</th>\n",
       "    </tr>\n",
       "  </thead>\n",
       "  <tbody>\n",
       "    <tr>\n",
       "      <th>0</th>\n",
       "      <td>./Thainumber\\4\\4-a3.png</td>\n",
       "      <td>4</td>\n",
       "    </tr>\n",
       "    <tr>\n",
       "      <th>1</th>\n",
       "      <td>./Thainumber\\7\\IMG_0925.png</td>\n",
       "      <td>7</td>\n",
       "    </tr>\n",
       "    <tr>\n",
       "      <th>2</th>\n",
       "      <td>./Thainumber\\7\\7-23.png</td>\n",
       "      <td>7</td>\n",
       "    </tr>\n",
       "    <tr>\n",
       "      <th>3</th>\n",
       "      <td>./Thainumber\\5\\5-31.png</td>\n",
       "      <td>5</td>\n",
       "    </tr>\n",
       "    <tr>\n",
       "      <th>4</th>\n",
       "      <td>./Thainumber\\0\\zero9.png</td>\n",
       "      <td>0</td>\n",
       "    </tr>\n",
       "    <tr>\n",
       "      <th>...</th>\n",
       "      <td>...</td>\n",
       "      <td>...</td>\n",
       "    </tr>\n",
       "    <tr>\n",
       "      <th>695</th>\n",
       "      <td>./Thainumber\\3\\three2.png</td>\n",
       "      <td>3</td>\n",
       "    </tr>\n",
       "    <tr>\n",
       "      <th>696</th>\n",
       "      <td>./Thainumber\\8\\eight4.png</td>\n",
       "      <td>8</td>\n",
       "    </tr>\n",
       "    <tr>\n",
       "      <th>697</th>\n",
       "      <td>./Thainumber\\6\\6-20.png</td>\n",
       "      <td>6</td>\n",
       "    </tr>\n",
       "    <tr>\n",
       "      <th>698</th>\n",
       "      <td>./Thainumber\\2\\2-37.png</td>\n",
       "      <td>2</td>\n",
       "    </tr>\n",
       "    <tr>\n",
       "      <th>699</th>\n",
       "      <td>./Thainumber\\7\\7-24.png</td>\n",
       "      <td>7</td>\n",
       "    </tr>\n",
       "  </tbody>\n",
       "</table>\n",
       "<p>700 rows × 2 columns</p>\n",
       "</div>"
      ],
      "text/plain": [
       "                        Filepath Label\n",
       "0        ./Thainumber\\4\\4-a3.png     4\n",
       "1    ./Thainumber\\7\\IMG_0925.png     7\n",
       "2        ./Thainumber\\7\\7-23.png     7\n",
       "3        ./Thainumber\\5\\5-31.png     5\n",
       "4       ./Thainumber\\0\\zero9.png     0\n",
       "..                           ...   ...\n",
       "695    ./Thainumber\\3\\three2.png     3\n",
       "696    ./Thainumber\\8\\eight4.png     8\n",
       "697      ./Thainumber\\6\\6-20.png     6\n",
       "698      ./Thainumber\\2\\2-37.png     2\n",
       "699      ./Thainumber\\7\\7-24.png     7\n",
       "\n",
       "[700 rows x 2 columns]"
      ]
     },
     "execution_count": 8,
     "metadata": {},
     "output_type": "execute_result"
    }
   ],
   "source": [
    "labels = list( map(lambda x: os.path.split( os.path.split(x)[0] )[1] , file_path_all) )\n",
    "\n",
    "filepath = pd.Series(file_path_all, name='Filepath').astype(str)\n",
    "labels = pd.Series(labels, name='Label')\n",
    "\n",
    "data = pd.concat([filepath, labels], axis=1)\n",
    "\n",
    "data = data.sample(frac=1).reset_index(drop=True)   # Return a random sample of items from an axis of object.\n",
    "data"
   ]
  },
  {
   "cell_type": "code",
   "execution_count": 9,
   "metadata": {},
   "outputs": [
    {
     "data": {
      "text/plain": [
       "(700, 2)"
      ]
     },
     "execution_count": 9,
     "metadata": {},
     "output_type": "execute_result"
    }
   ],
   "source": [
    "data.shape"
   ]
  },
  {
   "cell_type": "code",
   "execution_count": 10,
   "metadata": {},
   "outputs": [
    {
     "data": {
      "image/png": "[encoded data removed]",
      "text/plain": [
       "<Figure size 1000x600 with 20 Axes>"
      ]
     },
     "metadata": {},
     "output_type": "display_data"
    }
   ],
   "source": [
    "fig, axes = plt.subplots(nrows=4, ncols=5, figsize=(10,6), subplot_kw = {'xticks':[],'yticks':[]} )\n",
    "\n",
    "for i, ax in enumerate(axes.flat):\n",
    "    ax.imshow(plt.imread(data.Filepath[i]))\n",
    "    ax.set_title(data.Label[i])\n",
    "plt.tight_layout()\n",
    "plt.show()"
   ]
  },
  {
   "cell_type": "code",
   "execution_count": 11,
   "metadata": {},
   "outputs": [
    {
     "data": {
      "text/plain": [
       "Text(0, 0.5, 'Counts')"
      ]
     },
     "execution_count": 11,
     "metadata": {},
     "output_type": "execute_result"
    },
    {
     "data": {
      "image/png": "[encoded data removed]",
      "text/plain": [
       "<Figure size 640x480 with 1 Axes>"
      ]
     },
     "metadata": {},
     "output_type": "display_data"
    }
   ],
   "source": [
    "counts = data.Label.value_counts()\n",
    "sns.barplot(x=counts.index, y=counts)\n",
    "plt.ylabel('Counts')"
   ]
  },
  {
   "attachments": {},
   "cell_type": "markdown",
   "metadata": {},
   "source": [
    "Prepare for Training"
   ]
  },
  {
   "cell_type": "code",
   "execution_count": 12,
   "metadata": {},
   "outputs": [],
   "source": [
    "# Prepare X and Y\n",
    "\n",
    "Before_x = data['Filepath']\n",
    "y = data['Label']\n",
    "\n",
    "# To work with X, we need to flatten the images first.\n",
    "read_x = []\n",
    "\n",
    "for i in Before_x :\n",
    "    img = cv2.imread(i)\n",
    "    img = cv2.cvtColor(img, cv2.COLOR_BGR2GRAY)\n",
    "    img = rescale(img)\n",
    "    img = cv2.resize(img, (28, 28))\n",
    "    img = img.flatten()\n",
    " \n",
    "    read_x.append(img)\n",
    "\n",
    "x = np.asarray(read_x)"
   ]
  },
  {
   "cell_type": "code",
   "execution_count": 13,
   "metadata": {},
   "outputs": [],
   "source": [
    "x = pd.DataFrame(x)\n",
    "y = pd.DataFrame(y)"
   ]
  },
  {
   "cell_type": "code",
   "execution_count": 14,
   "metadata": {},
   "outputs": [
    {
     "data": {
      "text/html": [
       "<div>\n",
       "<style scoped>\n",
       "    .dataframe tbody tr th:only-of-type {\n",
       "        vertical-align: middle;\n",
       "    }\n",
       "\n",
       "    .dataframe tbody tr th {\n",
       "        vertical-align: top;\n",
       "    }\n",
       "\n",
       "    .dataframe thead th {\n",
       "        text-align: right;\n",
       "    }\n",
       "</style>\n",
       "<table border=\"1\" class=\"dataframe\">\n",
       "  <thead>\n",
       "    <tr style=\"text-align: right;\">\n",
       "      <th></th>\n",
       "      <th>0</th>\n",
       "      <th>1</th>\n",
       "      <th>2</th>\n",
       "      <th>3</th>\n",
       "      <th>4</th>\n",
       "      <th>5</th>\n",
       "      <th>6</th>\n",
       "      <th>7</th>\n",
       "      <th>8</th>\n",
       "      <th>9</th>\n",
       "      <th>...</th>\n",
       "      <th>775</th>\n",
       "      <th>776</th>\n",
       "      <th>777</th>\n",
       "      <th>778</th>\n",
       "      <th>779</th>\n",
       "      <th>780</th>\n",
       "      <th>781</th>\n",
       "      <th>782</th>\n",
       "      <th>783</th>\n",
       "      <th>Label</th>\n",
       "    </tr>\n",
       "  </thead>\n",
       "  <tbody>\n",
       "    <tr>\n",
       "      <th>0</th>\n",
       "      <td>255</td>\n",
       "      <td>255</td>\n",
       "      <td>255</td>\n",
       "      <td>255</td>\n",
       "      <td>255</td>\n",
       "      <td>255</td>\n",
       "      <td>255</td>\n",
       "      <td>255</td>\n",
       "      <td>255</td>\n",
       "      <td>255</td>\n",
       "      <td>...</td>\n",
       "      <td>0</td>\n",
       "      <td>0</td>\n",
       "      <td>4</td>\n",
       "      <td>12</td>\n",
       "      <td>76</td>\n",
       "      <td>195</td>\n",
       "      <td>255</td>\n",
       "      <td>255</td>\n",
       "      <td>255</td>\n",
       "      <td>4</td>\n",
       "    </tr>\n",
       "    <tr>\n",
       "      <th>1</th>\n",
       "      <td>255</td>\n",
       "      <td>255</td>\n",
       "      <td>255</td>\n",
       "      <td>255</td>\n",
       "      <td>255</td>\n",
       "      <td>255</td>\n",
       "      <td>255</td>\n",
       "      <td>255</td>\n",
       "      <td>255</td>\n",
       "      <td>255</td>\n",
       "      <td>...</td>\n",
       "      <td>255</td>\n",
       "      <td>255</td>\n",
       "      <td>255</td>\n",
       "      <td>255</td>\n",
       "      <td>254</td>\n",
       "      <td>252</td>\n",
       "      <td>254</td>\n",
       "      <td>255</td>\n",
       "      <td>255</td>\n",
       "      <td>7</td>\n",
       "    </tr>\n",
       "    <tr>\n",
       "      <th>2</th>\n",
       "      <td>255</td>\n",
       "      <td>255</td>\n",
       "      <td>255</td>\n",
       "      <td>255</td>\n",
       "      <td>255</td>\n",
       "      <td>255</td>\n",
       "      <td>255</td>\n",
       "      <td>255</td>\n",
       "      <td>255</td>\n",
       "      <td>255</td>\n",
       "      <td>...</td>\n",
       "      <td>244</td>\n",
       "      <td>255</td>\n",
       "      <td>255</td>\n",
       "      <td>255</td>\n",
       "      <td>255</td>\n",
       "      <td>255</td>\n",
       "      <td>255</td>\n",
       "      <td>255</td>\n",
       "      <td>255</td>\n",
       "      <td>7</td>\n",
       "    </tr>\n",
       "    <tr>\n",
       "      <th>3</th>\n",
       "      <td>255</td>\n",
       "      <td>255</td>\n",
       "      <td>255</td>\n",
       "      <td>255</td>\n",
       "      <td>255</td>\n",
       "      <td>255</td>\n",
       "      <td>255</td>\n",
       "      <td>255</td>\n",
       "      <td>255</td>\n",
       "      <td>255</td>\n",
       "      <td>...</td>\n",
       "      <td>236</td>\n",
       "      <td>221</td>\n",
       "      <td>207</td>\n",
       "      <td>214</td>\n",
       "      <td>234</td>\n",
       "      <td>246</td>\n",
       "      <td>255</td>\n",
       "      <td>255</td>\n",
       "      <td>255</td>\n",
       "      <td>5</td>\n",
       "    </tr>\n",
       "    <tr>\n",
       "      <th>4</th>\n",
       "      <td>255</td>\n",
       "      <td>255</td>\n",
       "      <td>255</td>\n",
       "      <td>255</td>\n",
       "      <td>255</td>\n",
       "      <td>255</td>\n",
       "      <td>255</td>\n",
       "      <td>255</td>\n",
       "      <td>255</td>\n",
       "      <td>255</td>\n",
       "      <td>...</td>\n",
       "      <td>0</td>\n",
       "      <td>105</td>\n",
       "      <td>255</td>\n",
       "      <td>255</td>\n",
       "      <td>255</td>\n",
       "      <td>255</td>\n",
       "      <td>255</td>\n",
       "      <td>255</td>\n",
       "      <td>255</td>\n",
       "      <td>0</td>\n",
       "    </tr>\n",
       "  </tbody>\n",
       "</table>\n",
       "<p>5 rows × 785 columns</p>\n",
       "</div>"
      ],
      "text/plain": [
       "     0    1    2    3    4    5    6    7    8    9  ...  775  776  777  778  \\\n",
       "0  255  255  255  255  255  255  255  255  255  255  ...    0    0    4   12   \n",
       "1  255  255  255  255  255  255  255  255  255  255  ...  255  255  255  255   \n",
       "2  255  255  255  255  255  255  255  255  255  255  ...  244  255  255  255   \n",
       "3  255  255  255  255  255  255  255  255  255  255  ...  236  221  207  214   \n",
       "4  255  255  255  255  255  255  255  255  255  255  ...    0  105  255  255   \n",
       "\n",
       "   779  780  781  782  783  Label  \n",
       "0   76  195  255  255  255      4  \n",
       "1  254  252  254  255  255      7  \n",
       "2  255  255  255  255  255      7  \n",
       "3  234  246  255  255  255      5  \n",
       "4  255  255  255  255  255      0  \n",
       "\n",
       "[5 rows x 785 columns]"
      ]
     },
     "execution_count": 14,
     "metadata": {},
     "output_type": "execute_result"
    }
   ],
   "source": [
    "df = pd.concat([x,y] , axis=1)\n",
    "#df.to_csv('image_df.csv')\n",
    "df.head()"
   ]
  },
  {
   "cell_type": "code",
   "execution_count": 15,
   "metadata": {},
   "outputs": [],
   "source": [
    "# Binarize the output\n",
    "\n",
    "#y = preprocessing.label_binarize( y , classes = ['0', '1', '2', '3', '4', '5', '6', '7', '8', '9'] )\n",
    "#print(y)"
   ]
  },
  {
   "cell_type": "code",
   "execution_count": 16,
   "metadata": {},
   "outputs": [],
   "source": [
    "X_train, X_test, y_train, y_test = train_test_split( x, y, test_size = 0.30, random_state = 42, stratify = y )"
   ]
  },
  {
   "attachments": {},
   "cell_type": "markdown",
   "metadata": {},
   "source": [
    "# STEP 3 : Train "
   ]
  },
  {
   "attachments": {},
   "cell_type": "markdown",
   "metadata": {},
   "source": [
    "<h4>Cross Validation : AutoML </h4>\n",
    "By : Pycaret"
   ]
  },
  {
   "cell_type": "code",
   "execution_count": 17,
   "metadata": {},
   "outputs": [
    {
     "data": {
      "text/html": [
       "<style type=\"text/css\">\n",
       "#T_1bf2d_row9_col1 {\n",
       "  background-color: lightgreen;\n",
       "}\n",
       "</style>\n",
       "<table id=\"T_1bf2d\">\n",
       "  <thead>\n",
       "    <tr>\n",
       "      <th class=\"blank level0\" >&nbsp;</th>\n",
       "      <th id=\"T_1bf2d_level0_col0\" class=\"col_heading level0 col0\" >Description</th>\n",
       "      <th id=\"T_1bf2d_level0_col1\" class=\"col_heading level0 col1\" >Value</th>\n",
       "    </tr>\n",
       "  </thead>\n",
       "  <tbody>\n",
       "    <tr>\n",
       "      <th id=\"T_1bf2d_level0_row0\" class=\"row_heading level0 row0\" >0</th>\n",
       "      <td id=\"T_1bf2d_row0_col0\" class=\"data row0 col0\" >Session id</td>\n",
       "      <td id=\"T_1bf2d_row0_col1\" class=\"data row0 col1\" >123</td>\n",
       "    </tr>\n",
       "    <tr>\n",
       "      <th id=\"T_1bf2d_level0_row1\" class=\"row_heading level0 row1\" >1</th>\n",
       "      <td id=\"T_1bf2d_row1_col0\" class=\"data row1 col0\" >Target</td>\n",
       "      <td id=\"T_1bf2d_row1_col1\" class=\"data row1 col1\" >Label</td>\n",
       "    </tr>\n",
       "    <tr>\n",
       "      <th id=\"T_1bf2d_level0_row2\" class=\"row_heading level0 row2\" >2</th>\n",
       "      <td id=\"T_1bf2d_row2_col0\" class=\"data row2 col0\" >Target type</td>\n",
       "      <td id=\"T_1bf2d_row2_col1\" class=\"data row2 col1\" >Multiclass</td>\n",
       "    </tr>\n",
       "    <tr>\n",
       "      <th id=\"T_1bf2d_level0_row3\" class=\"row_heading level0 row3\" >3</th>\n",
       "      <td id=\"T_1bf2d_row3_col0\" class=\"data row3 col0\" >Target mapping</td>\n",
       "      <td id=\"T_1bf2d_row3_col1\" class=\"data row3 col1\" >0: 0, 1: 1, 2: 2, 3: 3, 4: 4, 5: 5, 6: 6, 7: 7, 8: 8, 9: 9</td>\n",
       "    </tr>\n",
       "    <tr>\n",
       "      <th id=\"T_1bf2d_level0_row4\" class=\"row_heading level0 row4\" >4</th>\n",
       "      <td id=\"T_1bf2d_row4_col0\" class=\"data row4 col0\" >Original data shape</td>\n",
       "      <td id=\"T_1bf2d_row4_col1\" class=\"data row4 col1\" >(700, 785)</td>\n",
       "    </tr>\n",
       "    <tr>\n",
       "      <th id=\"T_1bf2d_level0_row5\" class=\"row_heading level0 row5\" >5</th>\n",
       "      <td id=\"T_1bf2d_row5_col0\" class=\"data row5 col0\" >Transformed data shape</td>\n",
       "      <td id=\"T_1bf2d_row5_col1\" class=\"data row5 col1\" >(700, 785)</td>\n",
       "    </tr>\n",
       "    <tr>\n",
       "      <th id=\"T_1bf2d_level0_row6\" class=\"row_heading level0 row6\" >6</th>\n",
       "      <td id=\"T_1bf2d_row6_col0\" class=\"data row6 col0\" >Transformed train set shape</td>\n",
       "      <td id=\"T_1bf2d_row6_col1\" class=\"data row6 col1\" >(489, 785)</td>\n",
       "    </tr>\n",
       "    <tr>\n",
       "      <th id=\"T_1bf2d_level0_row7\" class=\"row_heading level0 row7\" >7</th>\n",
       "      <td id=\"T_1bf2d_row7_col0\" class=\"data row7 col0\" >Transformed test set shape</td>\n",
       "      <td id=\"T_1bf2d_row7_col1\" class=\"data row7 col1\" >(211, 785)</td>\n",
       "    </tr>\n",
       "    <tr>\n",
       "      <th id=\"T_1bf2d_level0_row8\" class=\"row_heading level0 row8\" >8</th>\n",
       "      <td id=\"T_1bf2d_row8_col0\" class=\"data row8 col0\" >Numeric features</td>\n",
       "      <td id=\"T_1bf2d_row8_col1\" class=\"data row8 col1\" >784</td>\n",
       "    </tr>\n",
       "    <tr>\n",
       "      <th id=\"T_1bf2d_level0_row9\" class=\"row_heading level0 row9\" >9</th>\n",
       "      <td id=\"T_1bf2d_row9_col0\" class=\"data row9 col0\" >Preprocess</td>\n",
       "      <td id=\"T_1bf2d_row9_col1\" class=\"data row9 col1\" >True</td>\n",
       "    </tr>\n",
       "    <tr>\n",
       "      <th id=\"T_1bf2d_level0_row10\" class=\"row_heading level0 row10\" >10</th>\n",
       "      <td id=\"T_1bf2d_row10_col0\" class=\"data row10 col0\" >Imputation type</td>\n",
       "      <td id=\"T_1bf2d_row10_col1\" class=\"data row10 col1\" >simple</td>\n",
       "    </tr>\n",
       "    <tr>\n",
       "      <th id=\"T_1bf2d_level0_row11\" class=\"row_heading level0 row11\" >11</th>\n",
       "      <td id=\"T_1bf2d_row11_col0\" class=\"data row11 col0\" >Numeric imputation</td>\n",
       "      <td id=\"T_1bf2d_row11_col1\" class=\"data row11 col1\" >mean</td>\n",
       "    </tr>\n",
       "    <tr>\n",
       "      <th id=\"T_1bf2d_level0_row12\" class=\"row_heading level0 row12\" >12</th>\n",
       "      <td id=\"T_1bf2d_row12_col0\" class=\"data row12 col0\" >Categorical imputation</td>\n",
       "      <td id=\"T_1bf2d_row12_col1\" class=\"data row12 col1\" >mode</td>\n",
       "    </tr>\n",
       "    <tr>\n",
       "      <th id=\"T_1bf2d_level0_row13\" class=\"row_heading level0 row13\" >13</th>\n",
       "      <td id=\"T_1bf2d_row13_col0\" class=\"data row13 col0\" >Fold Generator</td>\n",
       "      <td id=\"T_1bf2d_row13_col1\" class=\"data row13 col1\" >StratifiedKFold</td>\n",
       "    </tr>\n",
       "    <tr>\n",
       "      <th id=\"T_1bf2d_level0_row14\" class=\"row_heading level0 row14\" >14</th>\n",
       "      <td id=\"T_1bf2d_row14_col0\" class=\"data row14 col0\" >Fold Number</td>\n",
       "      <td id=\"T_1bf2d_row14_col1\" class=\"data row14 col1\" >10</td>\n",
       "    </tr>\n",
       "    <tr>\n",
       "      <th id=\"T_1bf2d_level0_row15\" class=\"row_heading level0 row15\" >15</th>\n",
       "      <td id=\"T_1bf2d_row15_col0\" class=\"data row15 col0\" >CPU Jobs</td>\n",
       "      <td id=\"T_1bf2d_row15_col1\" class=\"data row15 col1\" >-1</td>\n",
       "    </tr>\n",
       "    <tr>\n",
       "      <th id=\"T_1bf2d_level0_row16\" class=\"row_heading level0 row16\" >16</th>\n",
       "      <td id=\"T_1bf2d_row16_col0\" class=\"data row16 col0\" >Use GPU</td>\n",
       "      <td id=\"T_1bf2d_row16_col1\" class=\"data row16 col1\" >False</td>\n",
       "    </tr>\n",
       "    <tr>\n",
       "      <th id=\"T_1bf2d_level0_row17\" class=\"row_heading level0 row17\" >17</th>\n",
       "      <td id=\"T_1bf2d_row17_col0\" class=\"data row17 col0\" >Log Experiment</td>\n",
       "      <td id=\"T_1bf2d_row17_col1\" class=\"data row17 col1\" >False</td>\n",
       "    </tr>\n",
       "    <tr>\n",
       "      <th id=\"T_1bf2d_level0_row18\" class=\"row_heading level0 row18\" >18</th>\n",
       "      <td id=\"T_1bf2d_row18_col0\" class=\"data row18 col0\" >Experiment Name</td>\n",
       "      <td id=\"T_1bf2d_row18_col1\" class=\"data row18 col1\" >clf-default-name</td>\n",
       "    </tr>\n",
       "    <tr>\n",
       "      <th id=\"T_1bf2d_level0_row19\" class=\"row_heading level0 row19\" >19</th>\n",
       "      <td id=\"T_1bf2d_row19_col0\" class=\"data row19 col0\" >USI</td>\n",
       "      <td id=\"T_1bf2d_row19_col1\" class=\"data row19 col1\" >7a42</td>\n",
       "    </tr>\n",
       "  </tbody>\n",
       "</table>\n"
      ],
      "text/plain": [
       "<pandas.io.formats.style.Styler at 0x21af2c70ee0>"
      ]
     },
     "metadata": {},
     "output_type": "display_data"
    }
   ],
   "source": [
    "from pycaret.classification import *\n",
    "\n",
    "s = setup( df, target = 'Label', session_id = 123, train_size = 0.7  )"
   ]
  },
  {
   "cell_type": "code",
   "execution_count": 18,
   "metadata": {},
   "outputs": [
    {
     "data": {
      "text/html": [],
      "text/plain": [
       "<IPython.core.display.HTML object>"
      ]
     },
     "metadata": {},
     "output_type": "display_data"
    },
    {
     "data": {
      "text/html": [],
      "text/plain": [
       "<IPython.core.display.HTML object>"
      ]
     },
     "metadata": {},
     "output_type": "display_data"
    },
    {
     "data": {
      "text/html": [],
      "text/plain": [
       "<IPython.core.display.HTML object>"
      ]
     },
     "metadata": {},
     "output_type": "display_data"
    },
    {
     "data": {
      "text/html": [
       "<div>\n",
       "<style scoped>\n",
       "    .dataframe tbody tr th:only-of-type {\n",
       "        vertical-align: middle;\n",
       "    }\n",
       "\n",
       "    .dataframe tbody tr th {\n",
       "        vertical-align: top;\n",
       "    }\n",
       "\n",
       "    .dataframe thead th {\n",
       "        text-align: right;\n",
       "    }\n",
       "</style>\n",
       "<table border=\"1\" class=\"dataframe\">\n",
       "  <thead>\n",
       "    <tr style=\"text-align: right;\">\n",
       "      <th></th>\n",
       "      <th>Model</th>\n",
       "      <th>Accuracy</th>\n",
       "      <th>AUC</th>\n",
       "      <th>Recall</th>\n",
       "      <th>Prec.</th>\n",
       "      <th>F1</th>\n",
       "      <th>Kappa</th>\n",
       "      <th>MCC</th>\n",
       "      <th>TT (Sec)</th>\n",
       "    </tr>\n",
       "  </thead>\n",
       "  <tbody>\n",
       "    <tr>\n",
       "      <th>et</th>\n",
       "      <td>Extra Trees Classifier</td>\n",
       "      <td>0.9693</td>\n",
       "      <td>0.9984</td>\n",
       "      <td>0.9693</td>\n",
       "      <td>0.9710</td>\n",
       "      <td>0.9690</td>\n",
       "      <td>0.9659</td>\n",
       "      <td>0.9662</td>\n",
       "      <td>2.466</td>\n",
       "    </tr>\n",
       "    <tr>\n",
       "      <th>rf</th>\n",
       "      <td>Random Forest Classifier</td>\n",
       "      <td>0.9550</td>\n",
       "      <td>0.9979</td>\n",
       "      <td>0.9550</td>\n",
       "      <td>0.9593</td>\n",
       "      <td>0.9547</td>\n",
       "      <td>0.9500</td>\n",
       "      <td>0.9506</td>\n",
       "      <td>2.372</td>\n",
       "    </tr>\n",
       "    <tr>\n",
       "      <th>lr</th>\n",
       "      <td>Logistic Regression</td>\n",
       "      <td>0.9488</td>\n",
       "      <td>0.9957</td>\n",
       "      <td>0.9488</td>\n",
       "      <td>0.9539</td>\n",
       "      <td>0.9486</td>\n",
       "      <td>0.9431</td>\n",
       "      <td>0.9438</td>\n",
       "      <td>3.100</td>\n",
       "    </tr>\n",
       "    <tr>\n",
       "      <th>lightgbm</th>\n",
       "      <td>Light Gradient Boosting Machine</td>\n",
       "      <td>0.9305</td>\n",
       "      <td>0.9976</td>\n",
       "      <td>0.9305</td>\n",
       "      <td>0.9358</td>\n",
       "      <td>0.9303</td>\n",
       "      <td>0.9228</td>\n",
       "      <td>0.9234</td>\n",
       "      <td>3.900</td>\n",
       "    </tr>\n",
       "    <tr>\n",
       "      <th>svm</th>\n",
       "      <td>SVM - Linear Kernel</td>\n",
       "      <td>0.9058</td>\n",
       "      <td>0.0000</td>\n",
       "      <td>0.9058</td>\n",
       "      <td>0.9191</td>\n",
       "      <td>0.9008</td>\n",
       "      <td>0.8954</td>\n",
       "      <td>0.8976</td>\n",
       "      <td>2.168</td>\n",
       "    </tr>\n",
       "    <tr>\n",
       "      <th>knn</th>\n",
       "      <td>K Neighbors Classifier</td>\n",
       "      <td>0.8998</td>\n",
       "      <td>0.9866</td>\n",
       "      <td>0.8998</td>\n",
       "      <td>0.9089</td>\n",
       "      <td>0.8990</td>\n",
       "      <td>0.8886</td>\n",
       "      <td>0.8898</td>\n",
       "      <td>2.636</td>\n",
       "    </tr>\n",
       "    <tr>\n",
       "      <th>gbc</th>\n",
       "      <td>Gradient Boosting Classifier</td>\n",
       "      <td>0.8590</td>\n",
       "      <td>0.9880</td>\n",
       "      <td>0.8590</td>\n",
       "      <td>0.8789</td>\n",
       "      <td>0.8611</td>\n",
       "      <td>0.8433</td>\n",
       "      <td>0.8451</td>\n",
       "      <td>14.310</td>\n",
       "    </tr>\n",
       "    <tr>\n",
       "      <th>lda</th>\n",
       "      <td>Linear Discriminant Analysis</td>\n",
       "      <td>0.8343</td>\n",
       "      <td>0.9706</td>\n",
       "      <td>0.8343</td>\n",
       "      <td>0.8407</td>\n",
       "      <td>0.8336</td>\n",
       "      <td>0.8158</td>\n",
       "      <td>0.8167</td>\n",
       "      <td>2.324</td>\n",
       "    </tr>\n",
       "    <tr>\n",
       "      <th>dt</th>\n",
       "      <td>Decision Tree Classifier</td>\n",
       "      <td>0.7751</td>\n",
       "      <td>0.8751</td>\n",
       "      <td>0.7751</td>\n",
       "      <td>0.7935</td>\n",
       "      <td>0.7751</td>\n",
       "      <td>0.7501</td>\n",
       "      <td>0.7521</td>\n",
       "      <td>2.220</td>\n",
       "    </tr>\n",
       "    <tr>\n",
       "      <th>nb</th>\n",
       "      <td>Naive Bayes</td>\n",
       "      <td>0.7506</td>\n",
       "      <td>0.8825</td>\n",
       "      <td>0.7506</td>\n",
       "      <td>0.8003</td>\n",
       "      <td>0.7542</td>\n",
       "      <td>0.7230</td>\n",
       "      <td>0.7284</td>\n",
       "      <td>2.272</td>\n",
       "    </tr>\n",
       "    <tr>\n",
       "      <th>ridge</th>\n",
       "      <td>Ridge Classifier</td>\n",
       "      <td>0.7503</td>\n",
       "      <td>0.0000</td>\n",
       "      <td>0.7503</td>\n",
       "      <td>0.7813</td>\n",
       "      <td>0.7520</td>\n",
       "      <td>0.7226</td>\n",
       "      <td>0.7255</td>\n",
       "      <td>2.118</td>\n",
       "    </tr>\n",
       "    <tr>\n",
       "      <th>ada</th>\n",
       "      <td>Ada Boost Classifier</td>\n",
       "      <td>0.2373</td>\n",
       "      <td>0.7168</td>\n",
       "      <td>0.2373</td>\n",
       "      <td>0.1429</td>\n",
       "      <td>0.1281</td>\n",
       "      <td>0.1557</td>\n",
       "      <td>0.1934</td>\n",
       "      <td>2.554</td>\n",
       "    </tr>\n",
       "    <tr>\n",
       "      <th>qda</th>\n",
       "      <td>Quadratic Discriminant Analysis</td>\n",
       "      <td>0.1818</td>\n",
       "      <td>0.5453</td>\n",
       "      <td>0.1818</td>\n",
       "      <td>0.2020</td>\n",
       "      <td>0.1778</td>\n",
       "      <td>0.0907</td>\n",
       "      <td>0.0916</td>\n",
       "      <td>2.188</td>\n",
       "    </tr>\n",
       "    <tr>\n",
       "      <th>dummy</th>\n",
       "      <td>Dummy Classifier</td>\n",
       "      <td>0.0920</td>\n",
       "      <td>0.5000</td>\n",
       "      <td>0.0920</td>\n",
       "      <td>0.0085</td>\n",
       "      <td>0.0155</td>\n",
       "      <td>0.0000</td>\n",
       "      <td>0.0000</td>\n",
       "      <td>2.238</td>\n",
       "    </tr>\n",
       "  </tbody>\n",
       "</table>\n",
       "</div>"
      ],
      "text/plain": [
       "                                    Model  Accuracy     AUC  Recall   Prec.  \\\n",
       "et                 Extra Trees Classifier    0.9693  0.9984  0.9693  0.9710   \n",
       "rf               Random Forest Classifier    0.9550  0.9979  0.9550  0.9593   \n",
       "lr                    Logistic Regression    0.9488  0.9957  0.9488  0.9539   \n",
       "lightgbm  Light Gradient Boosting Machine    0.9305  0.9976  0.9305  0.9358   \n",
       "svm                   SVM - Linear Kernel    0.9058  0.0000  0.9058  0.9191   \n",
       "knn                K Neighbors Classifier    0.8998  0.9866  0.8998  0.9089   \n",
       "gbc          Gradient Boosting Classifier    0.8590  0.9880  0.8590  0.8789   \n",
       "lda          Linear Discriminant Analysis    0.8343  0.9706  0.8343  0.8407   \n",
       "dt               Decision Tree Classifier    0.7751  0.8751  0.7751  0.7935   \n",
       "nb                            Naive Bayes    0.7506  0.8825  0.7506  0.8003   \n",
       "ridge                    Ridge Classifier    0.7503  0.0000  0.7503  0.7813   \n",
       "ada                  Ada Boost Classifier    0.2373  0.7168  0.2373  0.1429   \n",
       "qda       Quadratic Discriminant Analysis    0.1818  0.5453  0.1818  0.2020   \n",
       "dummy                    Dummy Classifier    0.0920  0.5000  0.0920  0.0085   \n",
       "\n",
       "              F1   Kappa     MCC  TT (Sec)  \n",
       "et        0.9690  0.9659  0.9662     2.466  \n",
       "rf        0.9547  0.9500  0.9506     2.372  \n",
       "lr        0.9486  0.9431  0.9438     3.100  \n",
       "lightgbm  0.9303  0.9228  0.9234     3.900  \n",
       "svm       0.9008  0.8954  0.8976     2.168  \n",
       "knn       0.8990  0.8886  0.8898     2.636  \n",
       "gbc       0.8611  0.8433  0.8451    14.310  \n",
       "lda       0.8336  0.8158  0.8167     2.324  \n",
       "dt        0.7751  0.7501  0.7521     2.220  \n",
       "nb        0.7542  0.7230  0.7284     2.272  \n",
       "ridge     0.7520  0.7226  0.7255     2.118  \n",
       "ada       0.1281  0.1557  0.1934     2.554  \n",
       "qda       0.1778  0.0907  0.0916     2.188  \n",
       "dummy     0.0155  0.0000  0.0000     2.238  "
      ]
     },
     "execution_count": 18,
     "metadata": {},
     "output_type": "execute_result"
    }
   ],
   "source": [
    "best = s.compare_models( sort = 'Accuracy', fold = 5, n_select = 3 )\n",
    "pull()"
   ]
  },
  {
   "cell_type": "code",
   "execution_count": 19,
   "metadata": {},
   "outputs": [
    {
     "data": {
      "text/plain": [
       "[ExtraTreesClassifier(bootstrap=False, ccp_alpha=0.0, class_weight=None,\n",
       "                      criterion='gini', max_depth=None, max_features='sqrt',\n",
       "                      max_leaf_nodes=None, max_samples=None,\n",
       "                      min_impurity_decrease=0.0, min_samples_leaf=1,\n",
       "                      min_samples_split=2, min_weight_fraction_leaf=0.0,\n",
       "                      n_estimators=100, n_jobs=-1, oob_score=False,\n",
       "                      random_state=123, verbose=0, warm_start=False),\n",
       " RandomForestClassifier(bootstrap=True, ccp_alpha=0.0, class_weight=None,\n",
       "                        criterion='gini', max_depth=None, max_features='sqrt',\n",
       "                        max_leaf_nodes=None, max_samples=None,\n",
       "                        min_impurity_decrease=0.0, min_samples_leaf=1,\n",
       "                        min_samples_split=2, min_weight_fraction_leaf=0.0,\n",
       "                        n_estimators=100, n_jobs=-1, oob_score=False,\n",
       "                        random_state=123, verbose=0, warm_start=False),\n",
       " LogisticRegression(C=1.0, class_weight=None, dual=False, fit_intercept=True,\n",
       "                    intercept_scaling=1, l1_ratio=None, max_iter=1000,\n",
       "                    multi_class='auto', n_jobs=None, penalty='l2',\n",
       "                    random_state=123, solver='lbfgs', tol=0.0001, verbose=0,\n",
       "                    warm_start=False)]"
      ]
     },
     "metadata": {},
     "output_type": "display_data"
    }
   ],
   "source": [
    "display(best)"
   ]
  },
  {
   "cell_type": "code",
   "execution_count": 20,
   "metadata": {},
   "outputs": [
    {
     "data": {
      "text/html": [
       "<div>\n",
       "<style scoped>\n",
       "    .dataframe tbody tr th:only-of-type {\n",
       "        vertical-align: middle;\n",
       "    }\n",
       "\n",
       "    .dataframe tbody tr th {\n",
       "        vertical-align: top;\n",
       "    }\n",
       "\n",
       "    .dataframe thead th {\n",
       "        text-align: right;\n",
       "    }\n",
       "</style>\n",
       "<table border=\"1\" class=\"dataframe\">\n",
       "  <thead>\n",
       "    <tr style=\"text-align: right;\">\n",
       "      <th></th>\n",
       "      <th></th>\n",
       "      <th></th>\n",
       "    </tr>\n",
       "    <tr>\n",
       "      <th></th>\n",
       "      <th></th>\n",
       "      <th></th>\n",
       "    </tr>\n",
       "  </thead>\n",
       "  <tbody>\n",
       "    <tr>\n",
       "      <th>Initiated</th>\n",
       "      <td>. . . . . . . . . . . . . . . . . .</td>\n",
       "      <td>20:27:36</td>\n",
       "    </tr>\n",
       "    <tr>\n",
       "      <th>Status</th>\n",
       "      <td>. . . . . . . . . . . . . . . . . .</td>\n",
       "      <td>Loading Dependencies</td>\n",
       "    </tr>\n",
       "    <tr>\n",
       "      <th>Estimator</th>\n",
       "      <td>. . . . . . . . . . . . . . . . . .</td>\n",
       "      <td>Extra Trees Classifier</td>\n",
       "    </tr>\n",
       "  </tbody>\n",
       "</table>\n",
       "</div>"
      ],
      "text/plain": [
       "                                                                      \n",
       "                                                                      \n",
       "Initiated  . . . . . . . . . . . . . . . . . .                20:27:36\n",
       "Status     . . . . . . . . . . . . . . . . . .    Loading Dependencies\n",
       "Estimator  . . . . . . . . . . . . . . . . . .  Extra Trees Classifier"
      ]
     },
     "metadata": {},
     "output_type": "display_data"
    },
    {
     "data": {
      "text/html": [
       "<style type=\"text/css\">\n",
       "#T_5ff0c_row5_col0, #T_5ff0c_row5_col1, #T_5ff0c_row5_col2, #T_5ff0c_row5_col3, #T_5ff0c_row5_col4, #T_5ff0c_row5_col5, #T_5ff0c_row5_col6 {\n",
       "  background: yellow;\n",
       "}\n",
       "</style>\n",
       "<table id=\"T_5ff0c\">\n",
       "  <thead>\n",
       "    <tr>\n",
       "      <th class=\"blank level0\" >&nbsp;</th>\n",
       "      <th id=\"T_5ff0c_level0_col0\" class=\"col_heading level0 col0\" >Accuracy</th>\n",
       "      <th id=\"T_5ff0c_level0_col1\" class=\"col_heading level0 col1\" >AUC</th>\n",
       "      <th id=\"T_5ff0c_level0_col2\" class=\"col_heading level0 col2\" >Recall</th>\n",
       "      <th id=\"T_5ff0c_level0_col3\" class=\"col_heading level0 col3\" >Prec.</th>\n",
       "      <th id=\"T_5ff0c_level0_col4\" class=\"col_heading level0 col4\" >F1</th>\n",
       "      <th id=\"T_5ff0c_level0_col5\" class=\"col_heading level0 col5\" >Kappa</th>\n",
       "      <th id=\"T_5ff0c_level0_col6\" class=\"col_heading level0 col6\" >MCC</th>\n",
       "    </tr>\n",
       "    <tr>\n",
       "      <th class=\"index_name level0\" >Fold</th>\n",
       "      <th class=\"blank col0\" >&nbsp;</th>\n",
       "      <th class=\"blank col1\" >&nbsp;</th>\n",
       "      <th class=\"blank col2\" >&nbsp;</th>\n",
       "      <th class=\"blank col3\" >&nbsp;</th>\n",
       "      <th class=\"blank col4\" >&nbsp;</th>\n",
       "      <th class=\"blank col5\" >&nbsp;</th>\n",
       "      <th class=\"blank col6\" >&nbsp;</th>\n",
       "    </tr>\n",
       "  </thead>\n",
       "  <tbody>\n",
       "    <tr>\n",
       "      <th id=\"T_5ff0c_level0_row0\" class=\"row_heading level0 row0\" >0</th>\n",
       "      <td id=\"T_5ff0c_row0_col0\" class=\"data row0 col0\" >0.9286</td>\n",
       "      <td id=\"T_5ff0c_row0_col1\" class=\"data row0 col1\" >0.9969</td>\n",
       "      <td id=\"T_5ff0c_row0_col2\" class=\"data row0 col2\" >0.9286</td>\n",
       "      <td id=\"T_5ff0c_row0_col3\" class=\"data row0 col3\" >0.9378</td>\n",
       "      <td id=\"T_5ff0c_row0_col4\" class=\"data row0 col4\" >0.9272</td>\n",
       "      <td id=\"T_5ff0c_row0_col5\" class=\"data row0 col5\" >0.9206</td>\n",
       "      <td id=\"T_5ff0c_row0_col6\" class=\"data row0 col6\" >0.9222</td>\n",
       "    </tr>\n",
       "    <tr>\n",
       "      <th id=\"T_5ff0c_level0_row1\" class=\"row_heading level0 row1\" >1</th>\n",
       "      <td id=\"T_5ff0c_row1_col0\" class=\"data row1 col0\" >0.9388</td>\n",
       "      <td id=\"T_5ff0c_row1_col1\" class=\"data row1 col1\" >0.9957</td>\n",
       "      <td id=\"T_5ff0c_row1_col2\" class=\"data row1 col2\" >0.9388</td>\n",
       "      <td id=\"T_5ff0c_row1_col3\" class=\"data row1 col3\" >0.9456</td>\n",
       "      <td id=\"T_5ff0c_row1_col4\" class=\"data row1 col4\" >0.9394</td>\n",
       "      <td id=\"T_5ff0c_row1_col5\" class=\"data row1 col5\" >0.9320</td>\n",
       "      <td id=\"T_5ff0c_row1_col6\" class=\"data row1 col6\" >0.9327</td>\n",
       "    </tr>\n",
       "    <tr>\n",
       "      <th id=\"T_5ff0c_level0_row2\" class=\"row_heading level0 row2\" >2</th>\n",
       "      <td id=\"T_5ff0c_row2_col0\" class=\"data row2 col0\" >0.9490</td>\n",
       "      <td id=\"T_5ff0c_row2_col1\" class=\"data row2 col1\" >0.9964</td>\n",
       "      <td id=\"T_5ff0c_row2_col2\" class=\"data row2 col2\" >0.9490</td>\n",
       "      <td id=\"T_5ff0c_row2_col3\" class=\"data row2 col3\" >0.9476</td>\n",
       "      <td id=\"T_5ff0c_row2_col4\" class=\"data row2 col4\" >0.9479</td>\n",
       "      <td id=\"T_5ff0c_row2_col5\" class=\"data row2 col5\" >0.9433</td>\n",
       "      <td id=\"T_5ff0c_row2_col6\" class=\"data row2 col6\" >0.9434</td>\n",
       "    </tr>\n",
       "    <tr>\n",
       "      <th id=\"T_5ff0c_level0_row3\" class=\"row_heading level0 row3\" >3</th>\n",
       "      <td id=\"T_5ff0c_row3_col0\" class=\"data row3 col0\" >0.9388</td>\n",
       "      <td id=\"T_5ff0c_row3_col1\" class=\"data row3 col1\" >0.9957</td>\n",
       "      <td id=\"T_5ff0c_row3_col2\" class=\"data row3 col2\" >0.9388</td>\n",
       "      <td id=\"T_5ff0c_row3_col3\" class=\"data row3 col3\" >0.9391</td>\n",
       "      <td id=\"T_5ff0c_row3_col4\" class=\"data row3 col4\" >0.9375</td>\n",
       "      <td id=\"T_5ff0c_row3_col5\" class=\"data row3 col5\" >0.9320</td>\n",
       "      <td id=\"T_5ff0c_row3_col6\" class=\"data row3 col6\" >0.9323</td>\n",
       "    </tr>\n",
       "    <tr>\n",
       "      <th id=\"T_5ff0c_level0_row4\" class=\"row_heading level0 row4\" >4</th>\n",
       "      <td id=\"T_5ff0c_row4_col0\" class=\"data row4 col0\" >0.9794</td>\n",
       "      <td id=\"T_5ff0c_row4_col1\" class=\"data row4 col1\" >0.9985</td>\n",
       "      <td id=\"T_5ff0c_row4_col2\" class=\"data row4 col2\" >0.9794</td>\n",
       "      <td id=\"T_5ff0c_row4_col3\" class=\"data row4 col3\" >0.9831</td>\n",
       "      <td id=\"T_5ff0c_row4_col4\" class=\"data row4 col4\" >0.9791</td>\n",
       "      <td id=\"T_5ff0c_row4_col5\" class=\"data row4 col5\" >0.9771</td>\n",
       "      <td id=\"T_5ff0c_row4_col6\" class=\"data row4 col6\" >0.9775</td>\n",
       "    </tr>\n",
       "    <tr>\n",
       "      <th id=\"T_5ff0c_level0_row5\" class=\"row_heading level0 row5\" >Mean</th>\n",
       "      <td id=\"T_5ff0c_row5_col0\" class=\"data row5 col0\" >0.9469</td>\n",
       "      <td id=\"T_5ff0c_row5_col1\" class=\"data row5 col1\" >0.9966</td>\n",
       "      <td id=\"T_5ff0c_row5_col2\" class=\"data row5 col2\" >0.9469</td>\n",
       "      <td id=\"T_5ff0c_row5_col3\" class=\"data row5 col3\" >0.9507</td>\n",
       "      <td id=\"T_5ff0c_row5_col4\" class=\"data row5 col4\" >0.9462</td>\n",
       "      <td id=\"T_5ff0c_row5_col5\" class=\"data row5 col5\" >0.9410</td>\n",
       "      <td id=\"T_5ff0c_row5_col6\" class=\"data row5 col6\" >0.9416</td>\n",
       "    </tr>\n",
       "    <tr>\n",
       "      <th id=\"T_5ff0c_level0_row6\" class=\"row_heading level0 row6\" >Std</th>\n",
       "      <td id=\"T_5ff0c_row6_col0\" class=\"data row6 col0\" >0.0175</td>\n",
       "      <td id=\"T_5ff0c_row6_col1\" class=\"data row6 col1\" >0.0010</td>\n",
       "      <td id=\"T_5ff0c_row6_col2\" class=\"data row6 col2\" >0.0175</td>\n",
       "      <td id=\"T_5ff0c_row6_col3\" class=\"data row6 col3\" >0.0167</td>\n",
       "      <td id=\"T_5ff0c_row6_col4\" class=\"data row6 col4\" >0.0177</td>\n",
       "      <td id=\"T_5ff0c_row6_col5\" class=\"data row6 col5\" >0.0194</td>\n",
       "      <td id=\"T_5ff0c_row6_col6\" class=\"data row6 col6\" >0.0192</td>\n",
       "    </tr>\n",
       "  </tbody>\n",
       "</table>\n"
      ],
      "text/plain": [
       "<pandas.io.formats.style.Styler at 0x21af2af0910>"
      ]
     },
     "metadata": {},
     "output_type": "display_data"
    },
    {
     "data": {
      "text/html": [],
      "text/plain": [
       "<IPython.core.display.HTML object>"
      ]
     },
     "metadata": {},
     "output_type": "display_data"
    },
    {
     "name": "stdout",
     "output_type": "stream",
     "text": [
      "Fitting 5 folds for each of 30 candidates, totalling 150 fits\n",
      "Original model was better than the tuned model, hence it will be returned. NOTE: The display metrics are for the tuned model (not the original one).\n"
     ]
    }
   ],
   "source": [
    "tuned_model = tune_model( best[0], optimize = 'Accuracy', n_iter = 30, fold = 5 )"
   ]
  },
  {
   "cell_type": "code",
   "execution_count": 21,
   "metadata": {},
   "outputs": [
    {
     "data": {
      "text/html": [],
      "text/plain": [
       "<IPython.core.display.HTML object>"
      ]
     },
     "metadata": {},
     "output_type": "display_data"
    },
    {
     "data": {
      "image/png": "[encoded data removed]",
      "text/plain": [
       "<Figure size 800x550 with 1 Axes>"
      ]
     },
     "metadata": {},
     "output_type": "display_data"
    }
   ],
   "source": [
    "plot_model(tuned_model, plot = 'auc')"
   ]
  },
  {
   "attachments": {},
   "cell_type": "markdown",
   "metadata": {},
   "source": [
    "<h4>Pipeline</h4>"
   ]
  },
  {
   "cell_type": "code",
   "execution_count": 22,
   "metadata": {},
   "outputs": [],
   "source": [
    "steps = [\n",
    "    ('scalar', MinMaxScaler()),\n",
    "    ('ExtraTreesClassifier',ExtraTreesClassifier(bootstrap=False, ccp_alpha=0.0, class_weight=None,\n",
    "                      criterion='gini', max_depth=None, max_features='sqrt',\n",
    "                      max_leaf_nodes=None, max_samples=None,\n",
    "                      min_impurity_decrease=0.0, min_samples_leaf=1,\n",
    "                      min_samples_split=2, min_weight_fraction_leaf=0.0,\n",
    "                      n_estimators=100, n_jobs=-1, oob_score=False,\n",
    "                      random_state=123, verbose=0, warm_start=False))\n",
    "]\n",
    "\n",
    "pipeline = Pipeline(steps)"
   ]
  },
  {
   "cell_type": "code",
   "execution_count": 23,
   "metadata": {},
   "outputs": [
    {
     "name": "stdout",
     "output_type": "stream",
     "text": [
      "Training score: 1.0\n"
     ]
    }
   ],
   "source": [
    "pr = pipeline.fit(X_train, y_train)\n",
    "\n",
    "print('Training score: {}'.format(pipeline.score(X_train, y_train)))"
   ]
  },
  {
   "attachments": {},
   "cell_type": "markdown",
   "metadata": {},
   "source": [
    "# STEP 4 : Test"
   ]
  },
  {
   "cell_type": "code",
   "execution_count": 24,
   "metadata": {},
   "outputs": [
    {
     "name": "stdout",
     "output_type": "stream",
     "text": [
      "              precision    recall  f1-score   support\n",
      "\n",
      "           0       0.95      1.00      0.98        21\n",
      "           1       1.00      0.95      0.98        21\n",
      "           2       1.00      0.95      0.98        21\n",
      "           3       1.00      1.00      1.00        21\n",
      "           4       0.85      0.81      0.83        21\n",
      "           5       0.86      0.90      0.88        21\n",
      "           6       0.95      1.00      0.98        21\n",
      "           7       1.00      0.95      0.98        21\n",
      "           8       0.91      0.95      0.93        21\n",
      "           9       1.00      1.00      1.00        21\n",
      "\n",
      "    accuracy                           0.95       210\n",
      "   macro avg       0.95      0.95      0.95       210\n",
      "weighted avg       0.95      0.95      0.95       210\n",
      "\n"
     ]
    }
   ],
   "source": [
    "y_pred = pr.predict(X_test)\n",
    "\n",
    "print(classification_report(y_test, y_pred)) "
   ]
  },
  {
   "attachments": {},
   "cell_type": "markdown",
   "metadata": {},
   "source": [
    "<h4>Evaluations</h4>"
   ]
  },
  {
   "cell_type": "code",
   "execution_count": null,
   "metadata": {},
   "outputs": [],
   "source": []
  }
 ],
 "metadata": {
  "kernelspec": {
   "display_name": "Python 3",
   "language": "python",
   "name": "python3"
  },
  "language_info": {
   "codemirror_mode": {
    "name": "ipython",
    "version": 3
   },
   "file_extension": ".py",
   "mimetype": "text/x-python",
   "name": "python",
   "nbconvert_exporter": "python",
   "pygments_lexer": "ipython3",
   "version": "3.8.16"
  },
  "orig_nbformat": 4
 },
 "nbformat": 4,
 "nbformat_minor": 2
}
