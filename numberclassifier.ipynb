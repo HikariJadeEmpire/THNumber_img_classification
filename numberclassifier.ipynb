{
 "cells": [
  {
   "attachments": {},
   "cell_type": "markdown",
   "metadata": {},
   "source": [
    "<a href=\"https://colab.research.google.com/github/HikariJadeEmpire/THNumber_img_classification/blob/main/numberclassifier.ipynb\">\n",
    "  <img src=\"https://colab.research.google.com/assets/colab-badge.svg\" alt=\"Open In Colab\"/>\n",
    "</a>"
   ]
  },
  {
   "cell_type": "code",
   "execution_count": 2,
   "metadata": {},
   "outputs": [],
   "source": [
    "#pip install opencv-python\n",
    "#pip install tensorflow      # keras is run on tensorflow so install tensorflow first\n",
    "# vv \n",
    "#pip install keras\n",
    "\n",
    "# Choose one\n",
    "#pip install pycaret\n",
    "#pip install tune-sklearn ray[tune]"
   ]
  },
  {
   "attachments": {},
   "cell_type": "markdown",
   "metadata": {},
   "source": [
    "# STEP 1 : Importing"
   ]
  },
  {
   "cell_type": "code",
   "execution_count": 3,
   "metadata": {},
   "outputs": [],
   "source": [
    "\n",
    "import numpy as np\n",
    "import pandas as pd\n",
    "\n",
    "import seaborn as sns\n",
    "import matplotlib.pyplot as plt\n",
    "%matplotlib inline"
   ]
  },
  {
   "cell_type": "code",
   "execution_count": 4,
   "metadata": {},
   "outputs": [],
   "source": [
    "#Importing OpenCV - the computer vision library\n",
    "import cv2\n",
    "\n",
    "# import the modules\n",
    "import glob\n",
    "import os\n",
    "from os import listdir\n",
    "\n",
    "# keras\n",
    "from keras.preprocessing.image import ImageDataGenerator\n",
    "from keras.applications.mobilenet_v2 import preprocess_input"
   ]
  },
  {
   "cell_type": "code",
   "execution_count": 5,
   "metadata": {},
   "outputs": [],
   "source": [
    "from sklearn.model_selection import train_test_split"
   ]
  },
  {
   "attachments": {},
   "cell_type": "markdown",
   "metadata": {},
   "source": [
    "# STEP 1.1 : SET an important Variables"
   ]
  },
  {
   "cell_type": "code",
   "execution_count": 6,
   "metadata": {},
   "outputs": [],
   "source": [
    "main_dir = \"D:/DATA_Science/DATASET/Thainumber\""
   ]
  },
  {
   "attachments": {},
   "cell_type": "markdown",
   "metadata": {},
   "source": [
    "STEP 1.2 : Just Note"
   ]
  },
  {
   "cell_type": "code",
   "execution_count": 7,
   "metadata": {},
   "outputs": [],
   "source": [
    "# get the path/directory\n",
    "\n",
    "Zero_dir = main_dir + \"/Zero\"\n",
    "One_dir = main_dir + \"/One\"\n",
    "Two_dir = main_dir + \"/Two\"\n",
    "Three_dir = main_dir + \"/Three\"\n",
    "Four_dir = main_dir + \"/Four\"\n",
    "\n",
    "Five_dir = main_dir + \"/Five\"\n",
    "Six_dir = main_dir + \"/Six\"\n",
    "Seven_dir = main_dir + \"/Seven\"\n",
    "Eight_dir = main_dir + \"/Eight\"\n",
    "Nine_dir = main_dir + \"/Nine\"\n",
    "\n",
    "#for images in os.listdir(One_dir):\n",
    " \n",
    "    # check if the image ends with png\n",
    "#    if (images.endswith(\".png\")):\n",
    "#        print(images)"
   ]
  },
  {
   "cell_type": "code",
   "execution_count": 19,
   "metadata": {},
   "outputs": [
    {
     "name": "stdout",
     "output_type": "stream",
     "text": [
      "Original Image Shape (28, 28, 3)\n"
     ]
    },
    {
     "data": {
      "image/png": "[encoded data removed]",
      "text/plain": [
       "<Figure size 640x480 with 1 Axes>"
      ]
     },
     "metadata": {},
     "output_type": "display_data"
    }
   ],
   "source": [
    "#To read the image \n",
    "bgrimg = cv2.imread(str(Zero_dir+'/0-2.png'))\n",
    "\n",
    "plt.imshow(bgrimg)\n",
    "\n",
    "#To get rid of the x-ticks and y-ticks on the image axis\n",
    "#plt.xticks([])\n",
    "#plt.yticks([])\n",
    "\n",
    "print('Original Image Shape',bgrimg.shape)"
   ]
  },
  {
   "attachments": {},
   "cell_type": "markdown",
   "metadata": {},
   "source": [
    "# STEP 2 : Preparing & inspection"
   ]
  },
  {
   "cell_type": "code",
   "execution_count": 9,
   "metadata": {},
   "outputs": [],
   "source": [
    "file_path_all = list( glob.glob( main_dir + '/**/*.png' ) )"
   ]
  },
  {
   "cell_type": "code",
   "execution_count": 10,
   "metadata": {},
   "outputs": [
    {
     "data": {
      "text/html": [
       "<div>\n",
       "<style scoped>\n",
       "    .dataframe tbody tr th:only-of-type {\n",
       "        vertical-align: middle;\n",
       "    }\n",
       "\n",
       "    .dataframe tbody tr th {\n",
       "        vertical-align: top;\n",
       "    }\n",
       "\n",
       "    .dataframe thead th {\n",
       "        text-align: right;\n",
       "    }\n",
       "</style>\n",
       "<table border=\"1\" class=\"dataframe\">\n",
       "  <thead>\n",
       "    <tr style=\"text-align: right;\">\n",
       "      <th></th>\n",
       "      <th>Filepath</th>\n",
       "      <th>Label</th>\n",
       "    </tr>\n",
       "  </thead>\n",
       "  <tbody>\n",
       "    <tr>\n",
       "      <th>0</th>\n",
       "      <td>D:/DATA_Science/DATASET/Thainumber\\Eight\\eight...</td>\n",
       "      <td>Eight</td>\n",
       "    </tr>\n",
       "    <tr>\n",
       "      <th>1</th>\n",
       "      <td>D:/DATA_Science/DATASET/Thainumber\\Four\\IMG_08...</td>\n",
       "      <td>Four</td>\n",
       "    </tr>\n",
       "    <tr>\n",
       "      <th>2</th>\n",
       "      <td>D:/DATA_Science/DATASET/Thainumber\\Seven\\seven...</td>\n",
       "      <td>Seven</td>\n",
       "    </tr>\n",
       "    <tr>\n",
       "      <th>3</th>\n",
       "      <td>D:/DATA_Science/DATASET/Thainumber\\Eight\\8-04.png</td>\n",
       "      <td>Eight</td>\n",
       "    </tr>\n",
       "    <tr>\n",
       "      <th>4</th>\n",
       "      <td>D:/DATA_Science/DATASET/Thainumber\\Six\\six3.png</td>\n",
       "      <td>Six</td>\n",
       "    </tr>\n",
       "    <tr>\n",
       "      <th>...</th>\n",
       "      <td>...</td>\n",
       "      <td>...</td>\n",
       "    </tr>\n",
       "    <tr>\n",
       "      <th>295</th>\n",
       "      <td>D:/DATA_Science/DATASET/Thainumber\\Four\\IMG_08...</td>\n",
       "      <td>Four</td>\n",
       "    </tr>\n",
       "    <tr>\n",
       "      <th>296</th>\n",
       "      <td>D:/DATA_Science/DATASET/Thainumber\\Five\\IMG_09...</td>\n",
       "      <td>Five</td>\n",
       "    </tr>\n",
       "    <tr>\n",
       "      <th>297</th>\n",
       "      <td>D:/DATA_Science/DATASET/Thainumber\\Six\\IMG_091...</td>\n",
       "      <td>Six</td>\n",
       "    </tr>\n",
       "    <tr>\n",
       "      <th>298</th>\n",
       "      <td>D:/DATA_Science/DATASET/Thainumber\\Zero\\0-31.png</td>\n",
       "      <td>Zero</td>\n",
       "    </tr>\n",
       "    <tr>\n",
       "      <th>299</th>\n",
       "      <td>D:/DATA_Science/DATASET/Thainumber\\Four\\four3.png</td>\n",
       "      <td>Four</td>\n",
       "    </tr>\n",
       "  </tbody>\n",
       "</table>\n",
       "<p>300 rows × 2 columns</p>\n",
       "</div>"
      ],
      "text/plain": [
       "                                              Filepath  Label\n",
       "0    D:/DATA_Science/DATASET/Thainumber\\Eight\\eight...  Eight\n",
       "1    D:/DATA_Science/DATASET/Thainumber\\Four\\IMG_08...   Four\n",
       "2    D:/DATA_Science/DATASET/Thainumber\\Seven\\seven...  Seven\n",
       "3    D:/DATA_Science/DATASET/Thainumber\\Eight\\8-04.png  Eight\n",
       "4      D:/DATA_Science/DATASET/Thainumber\\Six\\six3.png    Six\n",
       "..                                                 ...    ...\n",
       "295  D:/DATA_Science/DATASET/Thainumber\\Four\\IMG_08...   Four\n",
       "296  D:/DATA_Science/DATASET/Thainumber\\Five\\IMG_09...   Five\n",
       "297  D:/DATA_Science/DATASET/Thainumber\\Six\\IMG_091...    Six\n",
       "298   D:/DATA_Science/DATASET/Thainumber\\Zero\\0-31.png   Zero\n",
       "299  D:/DATA_Science/DATASET/Thainumber\\Four\\four3.png   Four\n",
       "\n",
       "[300 rows x 2 columns]"
      ]
     },
     "execution_count": 10,
     "metadata": {},
     "output_type": "execute_result"
    }
   ],
   "source": [
    "labels = list( map(lambda x: os.path.split( os.path.split(x)[0] )[1] , file_path_all) )\n",
    "\n",
    "filepath = pd.Series(file_path_all, name='Filepath').astype(str)\n",
    "labels = pd.Series(labels, name='Label')\n",
    "\n",
    "data = pd.concat([filepath, labels], axis=1)\n",
    "\n",
    "data = data.sample(frac=1).reset_index(drop=True) # Return a random sample of items from an axis of object.\n",
    "data"
   ]
  },
  {
   "cell_type": "code",
   "execution_count": 11,
   "metadata": {},
   "outputs": [
    {
     "data": {
      "text/plain": [
       "(300, 2)"
      ]
     },
     "execution_count": 11,
     "metadata": {},
     "output_type": "execute_result"
    }
   ],
   "source": [
    "data.shape"
   ]
  },
  {
   "cell_type": "code",
   "execution_count": 12,
   "metadata": {},
   "outputs": [
    {
     "data": {
      "image/png": "[encoded data removed]",
      "text/plain": [
       "<Figure size 1000x600 with 20 Axes>"
      ]
     },
     "metadata": {},
     "output_type": "display_data"
    }
   ],
   "source": [
    "fig, axes = plt.subplots(nrows=4, ncols=5, figsize=(10,6), subplot_kw = {'xticks':[],'yticks':[]} )\n",
    "\n",
    "for i, ax in enumerate(axes.flat):\n",
    "    ax.imshow(plt.imread(data.Filepath[i]))\n",
    "    ax.set_title(data.Label[i])\n",
    "plt.tight_layout()\n",
    "plt.show()"
   ]
  },
  {
   "cell_type": "code",
   "execution_count": 13,
   "metadata": {},
   "outputs": [
    {
     "data": {
      "text/plain": [
       "Text(0, 0.5, 'Counts')"
      ]
     },
     "execution_count": 13,
     "metadata": {},
     "output_type": "execute_result"
    },
    {
     "data": {
      "image/png": "[encoded data removed]",
      "text/plain": [
       "<Figure size 640x480 with 1 Axes>"
      ]
     },
     "metadata": {},
     "output_type": "display_data"
    }
   ],
   "source": [
    "counts = data.Label.value_counts()\n",
    "sns.barplot(x=counts.index, y=counts)\n",
    "plt.ylabel('Counts')"
   ]
  },
  {
   "attachments": {},
   "cell_type": "markdown",
   "metadata": {},
   "source": [
    "# STEP 3 : Train"
   ]
  },
  {
   "cell_type": "code",
   "execution_count": 24,
   "metadata": {},
   "outputs": [
    {
     "name": "stdout",
     "output_type": "stream",
     "text": [
      "Train shape => (210, 2)\n",
      "Test shape => (90, 2)\n"
     ]
    }
   ],
   "source": [
    "train_df, test_df = train_test_split( data , test_size=0.3, random_state=42 )\n",
    "\n",
    "print('Train shape =>', train_df.shape )\n",
    "print('Test shape =>', test_df.shape )"
   ]
  },
  {
   "cell_type": "code",
   "execution_count": null,
   "metadata": {},
   "outputs": [],
   "source": []
  }
 ],
 "metadata": {
  "kernelspec": {
   "display_name": "base",
   "language": "python",
   "name": "python3"
  },
  "language_info": {
   "codemirror_mode": {
    "name": "ipython",
    "version": 3
   },
   "file_extension": ".py",
   "mimetype": "text/x-python",
   "name": "python",
   "nbconvert_exporter": "python",
   "pygments_lexer": "ipython3",
   "version": "3.10.9"
  },
  "orig_nbformat": 4
 },
 "nbformat": 4,
 "nbformat_minor": 2
}
