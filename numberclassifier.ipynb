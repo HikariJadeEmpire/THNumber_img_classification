{
 "cells": [
  {
   "attachments": {},
   "cell_type": "markdown",
   "metadata": {},
   "source": [
    "<a href=\"https://colab.research.google.com/github/HikariJadeEmpire/THNumber_img_classification/blob/main/numberclassifier.ipynb\">\n",
    "  <img src=\"https://colab.research.google.com/assets/colab-badge.svg\" alt=\"Open In Colab\"/>\n",
    "</a>"
   ]
  },
  {
   "cell_type": "code",
   "execution_count": 1,
   "metadata": {},
   "outputs": [],
   "source": [
    "#pip install opencv-python\n",
    "\n",
    "# Choose one (for Cross Validation)\n",
    "#pip install pycaret\n",
    "#pip install tune-sklearn ray[tune]"
   ]
  },
  {
   "attachments": {},
   "cell_type": "markdown",
   "metadata": {},
   "source": [
    "# STEP 1 : Importing"
   ]
  },
  {
   "cell_type": "code",
   "execution_count": 2,
   "metadata": {},
   "outputs": [],
   "source": [
    "\n",
    "import numpy as np\n",
    "import pandas as pd\n",
    "\n",
    "import seaborn as sns\n",
    "import matplotlib.pyplot as plt\n",
    "%matplotlib inline"
   ]
  },
  {
   "cell_type": "code",
   "execution_count": 3,
   "metadata": {},
   "outputs": [],
   "source": [
    "#Importing OpenCV - the computer vision library\n",
    "import cv2\n",
    "\n",
    "# import the modules - Directory management\n",
    "import glob\n",
    "import os"
   ]
  },
  {
   "cell_type": "code",
   "execution_count": 4,
   "metadata": {},
   "outputs": [],
   "source": [
    "from sklearn.model_selection import train_test_split\n",
    "from sklearn import preprocessing\n",
    "\n",
    "from sklearn.pipeline import Pipeline\n",
    "from sklearn.preprocessing import MinMaxScaler\n",
    "from sklearn.decomposition import PCA\n",
    "from sklearn.ensemble import RandomForestClassifier\n",
    "\n",
    "from sklearn.metrics import classification_report "
   ]
  },
  {
   "attachments": {},
   "cell_type": "markdown",
   "metadata": {},
   "source": [
    "# STEP 1.1 : SET an important Variables"
   ]
  },
  {
   "cell_type": "code",
   "execution_count": 5,
   "metadata": {},
   "outputs": [],
   "source": [
    "main_dir = \"./Thainumber\""
   ]
  },
  {
   "attachments": {},
   "cell_type": "markdown",
   "metadata": {},
   "source": [
    "# STEP 2 : Preparing & inspection"
   ]
  },
  {
   "attachments": {},
   "cell_type": "markdown",
   "metadata": {},
   "source": [
    "Prepare for inspections"
   ]
  },
  {
   "cell_type": "code",
   "execution_count": 6,
   "metadata": {},
   "outputs": [],
   "source": [
    "file_path_all = list( glob.glob( main_dir + '/**/*.png' ) )"
   ]
  },
  {
   "cell_type": "code",
   "execution_count": 7,
   "metadata": {},
   "outputs": [
    {
     "data": {
      "text/html": [
       "<div>\n",
       "<style scoped>\n",
       "    .dataframe tbody tr th:only-of-type {\n",
       "        vertical-align: middle;\n",
       "    }\n",
       "\n",
       "    .dataframe tbody tr th {\n",
       "        vertical-align: top;\n",
       "    }\n",
       "\n",
       "    .dataframe thead th {\n",
       "        text-align: right;\n",
       "    }\n",
       "</style>\n",
       "<table border=\"1\" class=\"dataframe\">\n",
       "  <thead>\n",
       "    <tr style=\"text-align: right;\">\n",
       "      <th></th>\n",
       "      <th>Filepath</th>\n",
       "      <th>Label</th>\n",
       "    </tr>\n",
       "  </thead>\n",
       "  <tbody>\n",
       "    <tr>\n",
       "      <th>0</th>\n",
       "      <td>./Thainumber\\6\\IMG_0917.png</td>\n",
       "      <td>6</td>\n",
       "    </tr>\n",
       "    <tr>\n",
       "      <th>1</th>\n",
       "      <td>./Thainumber\\4\\4-5.png</td>\n",
       "      <td>4</td>\n",
       "    </tr>\n",
       "    <tr>\n",
       "      <th>2</th>\n",
       "      <td>./Thainumber\\5\\5-25.png</td>\n",
       "      <td>5</td>\n",
       "    </tr>\n",
       "    <tr>\n",
       "      <th>3</th>\n",
       "      <td>./Thainumber\\0\\IMG_0959.png</td>\n",
       "      <td>0</td>\n",
       "    </tr>\n",
       "    <tr>\n",
       "      <th>4</th>\n",
       "      <td>./Thainumber\\4\\4-2.png</td>\n",
       "      <td>4</td>\n",
       "    </tr>\n",
       "    <tr>\n",
       "      <th>...</th>\n",
       "      <td>...</td>\n",
       "      <td>...</td>\n",
       "    </tr>\n",
       "    <tr>\n",
       "      <th>295</th>\n",
       "      <td>./Thainumber\\5\\IMG_0909.png</td>\n",
       "      <td>5</td>\n",
       "    </tr>\n",
       "    <tr>\n",
       "      <th>296</th>\n",
       "      <td>./Thainumber\\2\\IMG_0873.png</td>\n",
       "      <td>2</td>\n",
       "    </tr>\n",
       "    <tr>\n",
       "      <th>297</th>\n",
       "      <td>./Thainumber\\3\\3-21.png</td>\n",
       "      <td>3</td>\n",
       "    </tr>\n",
       "    <tr>\n",
       "      <th>298</th>\n",
       "      <td>./Thainumber\\5\\IMG_0902.png</td>\n",
       "      <td>5</td>\n",
       "    </tr>\n",
       "    <tr>\n",
       "      <th>299</th>\n",
       "      <td>./Thainumber\\0\\zero1.png</td>\n",
       "      <td>0</td>\n",
       "    </tr>\n",
       "  </tbody>\n",
       "</table>\n",
       "<p>300 rows × 2 columns</p>\n",
       "</div>"
      ],
      "text/plain": [
       "                        Filepath Label\n",
       "0    ./Thainumber\\6\\IMG_0917.png     6\n",
       "1         ./Thainumber\\4\\4-5.png     4\n",
       "2        ./Thainumber\\5\\5-25.png     5\n",
       "3    ./Thainumber\\0\\IMG_0959.png     0\n",
       "4         ./Thainumber\\4\\4-2.png     4\n",
       "..                           ...   ...\n",
       "295  ./Thainumber\\5\\IMG_0909.png     5\n",
       "296  ./Thainumber\\2\\IMG_0873.png     2\n",
       "297      ./Thainumber\\3\\3-21.png     3\n",
       "298  ./Thainumber\\5\\IMG_0902.png     5\n",
       "299     ./Thainumber\\0\\zero1.png     0\n",
       "\n",
       "[300 rows x 2 columns]"
      ]
     },
     "execution_count": 7,
     "metadata": {},
     "output_type": "execute_result"
    }
   ],
   "source": [
    "labels = list( map(lambda x: os.path.split( os.path.split(x)[0] )[1] , file_path_all) )\n",
    "\n",
    "filepath = pd.Series(file_path_all, name='Filepath').astype(str)\n",
    "labels = pd.Series(labels, name='Label')\n",
    "\n",
    "data = pd.concat([filepath, labels], axis=1)\n",
    "\n",
    "data = data.sample(frac=1).reset_index(drop=True)   # Return a random sample of items from an axis of object.\n",
    "data"
   ]
  },
  {
   "cell_type": "code",
   "execution_count": 8,
   "metadata": {},
   "outputs": [
    {
     "data": {
      "text/plain": [
       "(300, 2)"
      ]
     },
     "execution_count": 8,
     "metadata": {},
     "output_type": "execute_result"
    }
   ],
   "source": [
    "data.shape"
   ]
  },
  {
   "cell_type": "code",
   "execution_count": 9,
   "metadata": {},
   "outputs": [
    {
     "data": {
      "image/png": "[encoded data removed]",
      "text/plain": [
       "<Figure size 1000x600 with 20 Axes>"
      ]
     },
     "metadata": {},
     "output_type": "display_data"
    }
   ],
   "source": [
    "fig, axes = plt.subplots(nrows=4, ncols=5, figsize=(10,6), subplot_kw = {'xticks':[],'yticks':[]} )\n",
    "\n",
    "for i, ax in enumerate(axes.flat):\n",
    "    ax.imshow(plt.imread(data.Filepath[i]))\n",
    "    ax.set_title(data.Label[i])\n",
    "plt.tight_layout()\n",
    "plt.show()"
   ]
  },
  {
   "cell_type": "code",
   "execution_count": 10,
   "metadata": {},
   "outputs": [
    {
     "data": {
      "text/plain": [
       "Text(0, 0.5, 'Counts')"
      ]
     },
     "execution_count": 10,
     "metadata": {},
     "output_type": "execute_result"
    },
    {
     "data": {
      "image/png": "[encoded data removed]",
      "text/plain": [
       "<Figure size 640x480 with 1 Axes>"
      ]
     },
     "metadata": {},
     "output_type": "display_data"
    }
   ],
   "source": [
    "counts = data.Label.value_counts()\n",
    "sns.barplot(x=counts.index, y=counts)\n",
    "plt.ylabel('Counts')"
   ]
  },
  {
   "attachments": {},
   "cell_type": "markdown",
   "metadata": {},
   "source": [
    "Prepare for Training"
   ]
  },
  {
   "cell_type": "code",
   "execution_count": 11,
   "metadata": {},
   "outputs": [],
   "source": [
    "# Prepare X and Y\n",
    "\n",
    "Before_x = data['Filepath']\n",
    "y = data['Label']\n",
    "\n",
    "# To work with X, we need to flatten the images first.\n",
    "read_x = []\n",
    "\n",
    "for i in Before_x :\n",
    "    img_arr = cv2.imread(i)\n",
    "    img_arr = img_arr.flatten()\n",
    "    read_x.append(img_arr)\n",
    "\n",
    "x = np.asarray(read_x)"
   ]
  },
  {
   "cell_type": "code",
   "execution_count": 12,
   "metadata": {},
   "outputs": [],
   "source": [
    "x = pd.DataFrame(x)\n",
    "y = pd.DataFrame(y)"
   ]
  },
  {
   "cell_type": "code",
   "execution_count": 13,
   "metadata": {},
   "outputs": [
    {
     "data": {
      "text/html": [
       "<div>\n",
       "<style scoped>\n",
       "    .dataframe tbody tr th:only-of-type {\n",
       "        vertical-align: middle;\n",
       "    }\n",
       "\n",
       "    .dataframe tbody tr th {\n",
       "        vertical-align: top;\n",
       "    }\n",
       "\n",
       "    .dataframe thead th {\n",
       "        text-align: right;\n",
       "    }\n",
       "</style>\n",
       "<table border=\"1\" class=\"dataframe\">\n",
       "  <thead>\n",
       "    <tr style=\"text-align: right;\">\n",
       "      <th></th>\n",
       "      <th>0</th>\n",
       "      <th>1</th>\n",
       "      <th>2</th>\n",
       "      <th>3</th>\n",
       "      <th>4</th>\n",
       "      <th>5</th>\n",
       "      <th>6</th>\n",
       "      <th>7</th>\n",
       "      <th>8</th>\n",
       "      <th>9</th>\n",
       "      <th>...</th>\n",
       "      <th>2343</th>\n",
       "      <th>2344</th>\n",
       "      <th>2345</th>\n",
       "      <th>2346</th>\n",
       "      <th>2347</th>\n",
       "      <th>2348</th>\n",
       "      <th>2349</th>\n",
       "      <th>2350</th>\n",
       "      <th>2351</th>\n",
       "      <th>Label</th>\n",
       "    </tr>\n",
       "  </thead>\n",
       "  <tbody>\n",
       "    <tr>\n",
       "      <th>0</th>\n",
       "      <td>255</td>\n",
       "      <td>255</td>\n",
       "      <td>255</td>\n",
       "      <td>252</td>\n",
       "      <td>252</td>\n",
       "      <td>252</td>\n",
       "      <td>255</td>\n",
       "      <td>255</td>\n",
       "      <td>255</td>\n",
       "      <td>253</td>\n",
       "      <td>...</td>\n",
       "      <td>255</td>\n",
       "      <td>255</td>\n",
       "      <td>255</td>\n",
       "      <td>255</td>\n",
       "      <td>255</td>\n",
       "      <td>255</td>\n",
       "      <td>255</td>\n",
       "      <td>255</td>\n",
       "      <td>255</td>\n",
       "      <td>6</td>\n",
       "    </tr>\n",
       "    <tr>\n",
       "      <th>1</th>\n",
       "      <td>255</td>\n",
       "      <td>255</td>\n",
       "      <td>255</td>\n",
       "      <td>255</td>\n",
       "      <td>255</td>\n",
       "      <td>255</td>\n",
       "      <td>255</td>\n",
       "      <td>255</td>\n",
       "      <td>255</td>\n",
       "      <td>255</td>\n",
       "      <td>...</td>\n",
       "      <td>255</td>\n",
       "      <td>255</td>\n",
       "      <td>255</td>\n",
       "      <td>255</td>\n",
       "      <td>255</td>\n",
       "      <td>255</td>\n",
       "      <td>255</td>\n",
       "      <td>255</td>\n",
       "      <td>255</td>\n",
       "      <td>4</td>\n",
       "    </tr>\n",
       "    <tr>\n",
       "      <th>2</th>\n",
       "      <td>253</td>\n",
       "      <td>253</td>\n",
       "      <td>253</td>\n",
       "      <td>255</td>\n",
       "      <td>255</td>\n",
       "      <td>255</td>\n",
       "      <td>251</td>\n",
       "      <td>251</td>\n",
       "      <td>251</td>\n",
       "      <td>255</td>\n",
       "      <td>...</td>\n",
       "      <td>255</td>\n",
       "      <td>255</td>\n",
       "      <td>255</td>\n",
       "      <td>255</td>\n",
       "      <td>255</td>\n",
       "      <td>255</td>\n",
       "      <td>255</td>\n",
       "      <td>255</td>\n",
       "      <td>255</td>\n",
       "      <td>5</td>\n",
       "    </tr>\n",
       "    <tr>\n",
       "      <th>3</th>\n",
       "      <td>255</td>\n",
       "      <td>255</td>\n",
       "      <td>255</td>\n",
       "      <td>255</td>\n",
       "      <td>255</td>\n",
       "      <td>255</td>\n",
       "      <td>255</td>\n",
       "      <td>255</td>\n",
       "      <td>255</td>\n",
       "      <td>255</td>\n",
       "      <td>...</td>\n",
       "      <td>255</td>\n",
       "      <td>255</td>\n",
       "      <td>255</td>\n",
       "      <td>255</td>\n",
       "      <td>255</td>\n",
       "      <td>255</td>\n",
       "      <td>255</td>\n",
       "      <td>255</td>\n",
       "      <td>255</td>\n",
       "      <td>0</td>\n",
       "    </tr>\n",
       "    <tr>\n",
       "      <th>4</th>\n",
       "      <td>255</td>\n",
       "      <td>255</td>\n",
       "      <td>255</td>\n",
       "      <td>255</td>\n",
       "      <td>255</td>\n",
       "      <td>255</td>\n",
       "      <td>255</td>\n",
       "      <td>255</td>\n",
       "      <td>255</td>\n",
       "      <td>255</td>\n",
       "      <td>...</td>\n",
       "      <td>255</td>\n",
       "      <td>255</td>\n",
       "      <td>255</td>\n",
       "      <td>255</td>\n",
       "      <td>255</td>\n",
       "      <td>255</td>\n",
       "      <td>255</td>\n",
       "      <td>255</td>\n",
       "      <td>255</td>\n",
       "      <td>4</td>\n",
       "    </tr>\n",
       "  </tbody>\n",
       "</table>\n",
       "<p>5 rows × 2353 columns</p>\n",
       "</div>"
      ],
      "text/plain": [
       "     0    1    2    3    4    5    6    7    8    9  ...  2343  2344  2345  \\\n",
       "0  255  255  255  252  252  252  255  255  255  253  ...   255   255   255   \n",
       "1  255  255  255  255  255  255  255  255  255  255  ...   255   255   255   \n",
       "2  253  253  253  255  255  255  251  251  251  255  ...   255   255   255   \n",
       "3  255  255  255  255  255  255  255  255  255  255  ...   255   255   255   \n",
       "4  255  255  255  255  255  255  255  255  255  255  ...   255   255   255   \n",
       "\n",
       "   2346  2347  2348  2349  2350  2351  Label  \n",
       "0   255   255   255   255   255   255      6  \n",
       "1   255   255   255   255   255   255      4  \n",
       "2   255   255   255   255   255   255      5  \n",
       "3   255   255   255   255   255   255      0  \n",
       "4   255   255   255   255   255   255      4  \n",
       "\n",
       "[5 rows x 2353 columns]"
      ]
     },
     "execution_count": 13,
     "metadata": {},
     "output_type": "execute_result"
    }
   ],
   "source": [
    "df = pd.concat([x,y] , axis=1)\n",
    "df.head()"
   ]
  },
  {
   "cell_type": "code",
   "execution_count": 14,
   "metadata": {},
   "outputs": [],
   "source": [
    "# Binarize the output\n",
    "\n",
    "y = preprocessing.label_binarize( y , classes = ['0', '1', '2', '3', '4', '5', '6', '7', '8', '9'] )\n",
    "#print(y)"
   ]
  },
  {
   "cell_type": "code",
   "execution_count": 15,
   "metadata": {},
   "outputs": [],
   "source": [
    "X_train, X_test, y_train, y_test = train_test_split( x, y, test_size = 0.30, random_state = 42, stratify = y )"
   ]
  },
  {
   "attachments": {},
   "cell_type": "markdown",
   "metadata": {},
   "source": [
    "# STEP 3 : Train "
   ]
  },
  {
   "attachments": {},
   "cell_type": "markdown",
   "metadata": {},
   "source": [
    "<h4>Cross Validation : AutoML </h4>\n",
    "By : Pycaret"
   ]
  },
  {
   "cell_type": "code",
   "execution_count": 16,
   "metadata": {},
   "outputs": [],
   "source": [
    "from pycaret.classification import *\n",
    "\n",
    "s = setup( df, target = 'Label', session_id = 123, train_size = 0.7  )"
   ]
  },
  {
   "cell_type": "code",
   "execution_count": 17,
   "metadata": {},
   "outputs": [
    {
     "data": {
      "text/html": [
       "<div>\n",
       "<style scoped>\n",
       "    .dataframe tbody tr th:only-of-type {\n",
       "        vertical-align: middle;\n",
       "    }\n",
       "\n",
       "    .dataframe tbody tr th {\n",
       "        vertical-align: top;\n",
       "    }\n",
       "\n",
       "    .dataframe thead th {\n",
       "        text-align: right;\n",
       "    }\n",
       "</style>\n",
       "<table border=\"1\" class=\"dataframe\">\n",
       "  <thead>\n",
       "    <tr style=\"text-align: right;\">\n",
       "      <th></th>\n",
       "      <th>Model</th>\n",
       "      <th>Accuracy</th>\n",
       "      <th>AUC</th>\n",
       "      <th>Recall</th>\n",
       "      <th>Prec.</th>\n",
       "      <th>F1</th>\n",
       "      <th>Kappa</th>\n",
       "      <th>MCC</th>\n",
       "      <th>TT (Sec)</th>\n",
       "    </tr>\n",
       "  </thead>\n",
       "  <tbody>\n",
       "    <tr>\n",
       "      <th>rf</th>\n",
       "      <td>Random Forest Classifier</td>\n",
       "      <td>0.6000</td>\n",
       "      <td>0.9051</td>\n",
       "      <td>0.6000</td>\n",
       "      <td>0.5892</td>\n",
       "      <td>0.5711</td>\n",
       "      <td>0.5559</td>\n",
       "      <td>0.5629</td>\n",
       "      <td>1.762</td>\n",
       "    </tr>\n",
       "    <tr>\n",
       "      <th>et</th>\n",
       "      <td>Extra Trees Classifier</td>\n",
       "      <td>0.6000</td>\n",
       "      <td>0.8982</td>\n",
       "      <td>0.6000</td>\n",
       "      <td>0.6042</td>\n",
       "      <td>0.5840</td>\n",
       "      <td>0.5551</td>\n",
       "      <td>0.5611</td>\n",
       "      <td>1.790</td>\n",
       "    </tr>\n",
       "    <tr>\n",
       "      <th>lr</th>\n",
       "      <td>Logistic Regression</td>\n",
       "      <td>0.5905</td>\n",
       "      <td>0.9073</td>\n",
       "      <td>0.5905</td>\n",
       "      <td>0.6182</td>\n",
       "      <td>0.5744</td>\n",
       "      <td>0.5446</td>\n",
       "      <td>0.5519</td>\n",
       "      <td>2.834</td>\n",
       "    </tr>\n",
       "    <tr>\n",
       "      <th>svm</th>\n",
       "      <td>SVM - Linear Kernel</td>\n",
       "      <td>0.5667</td>\n",
       "      <td>0.0000</td>\n",
       "      <td>0.5667</td>\n",
       "      <td>0.5759</td>\n",
       "      <td>0.5287</td>\n",
       "      <td>0.5195</td>\n",
       "      <td>0.5352</td>\n",
       "      <td>1.530</td>\n",
       "    </tr>\n",
       "    <tr>\n",
       "      <th>lightgbm</th>\n",
       "      <td>Light Gradient Boosting Machine</td>\n",
       "      <td>0.5000</td>\n",
       "      <td>0.8496</td>\n",
       "      <td>0.5000</td>\n",
       "      <td>0.5629</td>\n",
       "      <td>0.4862</td>\n",
       "      <td>0.4450</td>\n",
       "      <td>0.4526</td>\n",
       "      <td>2.080</td>\n",
       "    </tr>\n",
       "    <tr>\n",
       "      <th>nb</th>\n",
       "      <td>Naive Bayes</td>\n",
       "      <td>0.4429</td>\n",
       "      <td>0.6913</td>\n",
       "      <td>0.4429</td>\n",
       "      <td>0.5004</td>\n",
       "      <td>0.4166</td>\n",
       "      <td>0.3818</td>\n",
       "      <td>0.3970</td>\n",
       "      <td>2.810</td>\n",
       "    </tr>\n",
       "    <tr>\n",
       "      <th>ridge</th>\n",
       "      <td>Ridge Classifier</td>\n",
       "      <td>0.4333</td>\n",
       "      <td>0.0000</td>\n",
       "      <td>0.4333</td>\n",
       "      <td>0.4787</td>\n",
       "      <td>0.4269</td>\n",
       "      <td>0.3700</td>\n",
       "      <td>0.3767</td>\n",
       "      <td>1.542</td>\n",
       "    </tr>\n",
       "    <tr>\n",
       "      <th>gbc</th>\n",
       "      <td>Gradient Boosting Classifier</td>\n",
       "      <td>0.4238</td>\n",
       "      <td>0.8081</td>\n",
       "      <td>0.4238</td>\n",
       "      <td>0.4471</td>\n",
       "      <td>0.4060</td>\n",
       "      <td>0.3603</td>\n",
       "      <td>0.3675</td>\n",
       "      <td>6.528</td>\n",
       "    </tr>\n",
       "    <tr>\n",
       "      <th>lda</th>\n",
       "      <td>Linear Discriminant Analysis</td>\n",
       "      <td>0.4000</td>\n",
       "      <td>0.7730</td>\n",
       "      <td>0.4000</td>\n",
       "      <td>0.4107</td>\n",
       "      <td>0.3729</td>\n",
       "      <td>0.3333</td>\n",
       "      <td>0.3407</td>\n",
       "      <td>1.636</td>\n",
       "    </tr>\n",
       "    <tr>\n",
       "      <th>knn</th>\n",
       "      <td>K Neighbors Classifier</td>\n",
       "      <td>0.3333</td>\n",
       "      <td>0.7548</td>\n",
       "      <td>0.3333</td>\n",
       "      <td>0.3971</td>\n",
       "      <td>0.3181</td>\n",
       "      <td>0.2596</td>\n",
       "      <td>0.2689</td>\n",
       "      <td>2.108</td>\n",
       "    </tr>\n",
       "    <tr>\n",
       "      <th>dt</th>\n",
       "      <td>Decision Tree Classifier</td>\n",
       "      <td>0.3190</td>\n",
       "      <td>0.6218</td>\n",
       "      <td>0.3190</td>\n",
       "      <td>0.3176</td>\n",
       "      <td>0.2995</td>\n",
       "      <td>0.2434</td>\n",
       "      <td>0.2470</td>\n",
       "      <td>1.604</td>\n",
       "    </tr>\n",
       "    <tr>\n",
       "      <th>ada</th>\n",
       "      <td>Ada Boost Classifier</td>\n",
       "      <td>0.1857</td>\n",
       "      <td>0.6007</td>\n",
       "      <td>0.1857</td>\n",
       "      <td>0.1632</td>\n",
       "      <td>0.1219</td>\n",
       "      <td>0.0995</td>\n",
       "      <td>0.1652</td>\n",
       "      <td>1.782</td>\n",
       "    </tr>\n",
       "    <tr>\n",
       "      <th>qda</th>\n",
       "      <td>Quadratic Discriminant Analysis</td>\n",
       "      <td>0.1190</td>\n",
       "      <td>0.5075</td>\n",
       "      <td>0.1190</td>\n",
       "      <td>0.0870</td>\n",
       "      <td>0.0919</td>\n",
       "      <td>0.0149</td>\n",
       "      <td>0.0158</td>\n",
       "      <td>1.576</td>\n",
       "    </tr>\n",
       "    <tr>\n",
       "      <th>dummy</th>\n",
       "      <td>Dummy Classifier</td>\n",
       "      <td>0.0952</td>\n",
       "      <td>0.5000</td>\n",
       "      <td>0.0952</td>\n",
       "      <td>0.0091</td>\n",
       "      <td>0.0166</td>\n",
       "      <td>0.0000</td>\n",
       "      <td>0.0000</td>\n",
       "      <td>1.590</td>\n",
       "    </tr>\n",
       "  </tbody>\n",
       "</table>\n",
       "</div>"
      ],
      "text/plain": [
       "                                    Model  Accuracy     AUC  Recall   Prec.  \\\n",
       "rf               Random Forest Classifier    0.6000  0.9051  0.6000  0.5892   \n",
       "et                 Extra Trees Classifier    0.6000  0.8982  0.6000  0.6042   \n",
       "lr                    Logistic Regression    0.5905  0.9073  0.5905  0.6182   \n",
       "svm                   SVM - Linear Kernel    0.5667  0.0000  0.5667  0.5759   \n",
       "lightgbm  Light Gradient Boosting Machine    0.5000  0.8496  0.5000  0.5629   \n",
       "nb                            Naive Bayes    0.4429  0.6913  0.4429  0.5004   \n",
       "ridge                    Ridge Classifier    0.4333  0.0000  0.4333  0.4787   \n",
       "gbc          Gradient Boosting Classifier    0.4238  0.8081  0.4238  0.4471   \n",
       "lda          Linear Discriminant Analysis    0.4000  0.7730  0.4000  0.4107   \n",
       "knn                K Neighbors Classifier    0.3333  0.7548  0.3333  0.3971   \n",
       "dt               Decision Tree Classifier    0.3190  0.6218  0.3190  0.3176   \n",
       "ada                  Ada Boost Classifier    0.1857  0.6007  0.1857  0.1632   \n",
       "qda       Quadratic Discriminant Analysis    0.1190  0.5075  0.1190  0.0870   \n",
       "dummy                    Dummy Classifier    0.0952  0.5000  0.0952  0.0091   \n",
       "\n",
       "              F1   Kappa     MCC  TT (Sec)  \n",
       "rf        0.5711  0.5559  0.5629     1.762  \n",
       "et        0.5840  0.5551  0.5611     1.790  \n",
       "lr        0.5744  0.5446  0.5519     2.834  \n",
       "svm       0.5287  0.5195  0.5352     1.530  \n",
       "lightgbm  0.4862  0.4450  0.4526     2.080  \n",
       "nb        0.4166  0.3818  0.3970     2.810  \n",
       "ridge     0.4269  0.3700  0.3767     1.542  \n",
       "gbc       0.4060  0.3603  0.3675     6.528  \n",
       "lda       0.3729  0.3333  0.3407     1.636  \n",
       "knn       0.3181  0.2596  0.2689     2.108  \n",
       "dt        0.2995  0.2434  0.2470     1.604  \n",
       "ada       0.1219  0.0995  0.1652     1.782  \n",
       "qda       0.0919  0.0149  0.0158     1.576  \n",
       "dummy     0.0166  0.0000  0.0000     1.590  "
      ]
     },
     "execution_count": 17,
     "metadata": {},
     "output_type": "execute_result"
    }
   ],
   "source": [
    "best = s.compare_models( sort = 'Accuracy', fold = 5, n_select = 5 )\n",
    "pull()"
   ]
  },
  {
   "cell_type": "code",
   "execution_count": 24,
   "metadata": {},
   "outputs": [
    {
     "data": {
      "text/plain": [
       "[RandomForestClassifier(bootstrap=True, ccp_alpha=0.0, class_weight=None,\n",
       "                        criterion='gini', max_depth=None, max_features='sqrt',\n",
       "                        max_leaf_nodes=None, max_samples=None,\n",
       "                        min_impurity_decrease=0.0, min_samples_leaf=1,\n",
       "                        min_samples_split=2, min_weight_fraction_leaf=0.0,\n",
       "                        n_estimators=100, n_jobs=-1, oob_score=False,\n",
       "                        random_state=123, verbose=0, warm_start=False),\n",
       " ExtraTreesClassifier(bootstrap=False, ccp_alpha=0.0, class_weight=None,\n",
       "                      criterion='gini', max_depth=None, max_features='sqrt',\n",
       "                      max_leaf_nodes=None, max_samples=None,\n",
       "                      min_impurity_decrease=0.0, min_samples_leaf=1,\n",
       "                      min_samples_split=2, min_weight_fraction_leaf=0.0,\n",
       "                      n_estimators=100, n_jobs=-1, oob_score=False,\n",
       "                      random_state=123, verbose=0, warm_start=False),\n",
       " LogisticRegression(C=1.0, class_weight=None, dual=False, fit_intercept=True,\n",
       "                    intercept_scaling=1, l1_ratio=None, max_iter=1000,\n",
       "                    multi_class='auto', n_jobs=None, penalty='l2',\n",
       "                    random_state=123, solver='lbfgs', tol=0.0001, verbose=0,\n",
       "                    warm_start=False),\n",
       " SGDClassifier(alpha=0.0001, average=False, class_weight=None,\n",
       "               early_stopping=False, epsilon=0.1, eta0=0.001, fit_intercept=True,\n",
       "               l1_ratio=0.15, learning_rate='optimal', loss='hinge',\n",
       "               max_iter=1000, n_iter_no_change=5, n_jobs=-1, penalty='l2',\n",
       "               power_t=0.5, random_state=123, shuffle=True, tol=0.001,\n",
       "               validation_fraction=0.1, verbose=0, warm_start=False),\n",
       " LGBMClassifier(boosting_type='gbdt', class_weight=None, colsample_bytree=1.0,\n",
       "                importance_type='split', learning_rate=0.1, max_depth=-1,\n",
       "                min_child_samples=20, min_child_weight=0.001, min_split_gain=0.0,\n",
       "                n_estimators=100, n_jobs=-1, num_leaves=31, objective=None,\n",
       "                random_state=123, reg_alpha=0.0, reg_lambda=0.0, silent='warn',\n",
       "                subsample=1.0, subsample_for_bin=200000, subsample_freq=0)]"
      ]
     },
     "metadata": {},
     "output_type": "display_data"
    }
   ],
   "source": [
    "display(best)"
   ]
  },
  {
   "cell_type": "code",
   "execution_count": 19,
   "metadata": {},
   "outputs": [
    {
     "data": {
      "text/html": [
       "<div>\n",
       "<style scoped>\n",
       "    .dataframe tbody tr th:only-of-type {\n",
       "        vertical-align: middle;\n",
       "    }\n",
       "\n",
       "    .dataframe tbody tr th {\n",
       "        vertical-align: top;\n",
       "    }\n",
       "\n",
       "    .dataframe thead th {\n",
       "        text-align: right;\n",
       "    }\n",
       "</style>\n",
       "<table border=\"1\" class=\"dataframe\">\n",
       "  <thead>\n",
       "    <tr style=\"text-align: right;\">\n",
       "      <th></th>\n",
       "      <th></th>\n",
       "      <th></th>\n",
       "    </tr>\n",
       "    <tr>\n",
       "      <th></th>\n",
       "      <th></th>\n",
       "      <th></th>\n",
       "    </tr>\n",
       "  </thead>\n",
       "  <tbody>\n",
       "    <tr>\n",
       "      <th>Initiated</th>\n",
       "      <td>. . . . . . . . . . . . . . . . . .</td>\n",
       "      <td>15:05:53</td>\n",
       "    </tr>\n",
       "    <tr>\n",
       "      <th>Status</th>\n",
       "      <td>. . . . . . . . . . . . . . . . . .</td>\n",
       "      <td>Searching Hyperparameters</td>\n",
       "    </tr>\n",
       "    <tr>\n",
       "      <th>Estimator</th>\n",
       "      <td>. . . . . . . . . . . . . . . . . .</td>\n",
       "      <td>Random Forest Classifier</td>\n",
       "    </tr>\n",
       "  </tbody>\n",
       "</table>\n",
       "</div>"
      ],
      "text/plain": [
       "                                                                         \n",
       "                                                                         \n",
       "Initiated  . . . . . . . . . . . . . . . . . .                   15:05:53\n",
       "Status     . . . . . . . . . . . . . . . . . .  Searching Hyperparameters\n",
       "Estimator  . . . . . . . . . . . . . . . . . .   Random Forest Classifier"
      ]
     },
     "metadata": {},
     "output_type": "display_data"
    },
    {
     "data": {
      "text/html": [
       "<style type=\"text/css\">\n",
       "#T_6d694_row5_col0, #T_6d694_row5_col1, #T_6d694_row5_col2, #T_6d694_row5_col3, #T_6d694_row5_col4, #T_6d694_row5_col5, #T_6d694_row5_col6 {\n",
       "  background: yellow;\n",
       "}\n",
       "</style>\n",
       "<table id=\"T_6d694\">\n",
       "  <thead>\n",
       "    <tr>\n",
       "      <th class=\"blank level0\" >&nbsp;</th>\n",
       "      <th id=\"T_6d694_level0_col0\" class=\"col_heading level0 col0\" >Accuracy</th>\n",
       "      <th id=\"T_6d694_level0_col1\" class=\"col_heading level0 col1\" >AUC</th>\n",
       "      <th id=\"T_6d694_level0_col2\" class=\"col_heading level0 col2\" >Recall</th>\n",
       "      <th id=\"T_6d694_level0_col3\" class=\"col_heading level0 col3\" >Prec.</th>\n",
       "      <th id=\"T_6d694_level0_col4\" class=\"col_heading level0 col4\" >F1</th>\n",
       "      <th id=\"T_6d694_level0_col5\" class=\"col_heading level0 col5\" >Kappa</th>\n",
       "      <th id=\"T_6d694_level0_col6\" class=\"col_heading level0 col6\" >MCC</th>\n",
       "    </tr>\n",
       "    <tr>\n",
       "      <th class=\"index_name level0\" >Fold</th>\n",
       "      <th class=\"blank col0\" >&nbsp;</th>\n",
       "      <th class=\"blank col1\" >&nbsp;</th>\n",
       "      <th class=\"blank col2\" >&nbsp;</th>\n",
       "      <th class=\"blank col3\" >&nbsp;</th>\n",
       "      <th class=\"blank col4\" >&nbsp;</th>\n",
       "      <th class=\"blank col5\" >&nbsp;</th>\n",
       "      <th class=\"blank col6\" >&nbsp;</th>\n",
       "    </tr>\n",
       "  </thead>\n",
       "  <tbody>\n",
       "    <tr>\n",
       "      <th id=\"T_6d694_level0_row0\" class=\"row_heading level0 row0\" >0</th>\n",
       "      <td id=\"T_6d694_row0_col0\" class=\"data row0 col0\" >0.6190</td>\n",
       "      <td id=\"T_6d694_row0_col1\" class=\"data row0 col1\" >0.8713</td>\n",
       "      <td id=\"T_6d694_row0_col2\" class=\"data row0 col2\" >0.6190</td>\n",
       "      <td id=\"T_6d694_row0_col3\" class=\"data row0 col3\" >0.6873</td>\n",
       "      <td id=\"T_6d694_row0_col4\" class=\"data row0 col4\" >0.6174</td>\n",
       "      <td id=\"T_6d694_row0_col5\" class=\"data row0 col5\" >0.5776</td>\n",
       "      <td id=\"T_6d694_row0_col6\" class=\"data row0 col6\" >0.5861</td>\n",
       "    </tr>\n",
       "    <tr>\n",
       "      <th id=\"T_6d694_level0_row1\" class=\"row_heading level0 row1\" >1</th>\n",
       "      <td id=\"T_6d694_row1_col0\" class=\"data row1 col0\" >0.5476</td>\n",
       "      <td id=\"T_6d694_row1_col1\" class=\"data row1 col1\" >0.9435</td>\n",
       "      <td id=\"T_6d694_row1_col2\" class=\"data row1 col2\" >0.5476</td>\n",
       "      <td id=\"T_6d694_row1_col3\" class=\"data row1 col3\" >0.4970</td>\n",
       "      <td id=\"T_6d694_row1_col4\" class=\"data row1 col4\" >0.5114</td>\n",
       "      <td id=\"T_6d694_row1_col5\" class=\"data row1 col5\" >0.4972</td>\n",
       "      <td id=\"T_6d694_row1_col6\" class=\"data row1 col6\" >0.5035</td>\n",
       "    </tr>\n",
       "    <tr>\n",
       "      <th id=\"T_6d694_level0_row2\" class=\"row_heading level0 row2\" >2</th>\n",
       "      <td id=\"T_6d694_row2_col0\" class=\"data row2 col0\" >0.6190</td>\n",
       "      <td id=\"T_6d694_row2_col1\" class=\"data row2 col1\" >0.8804</td>\n",
       "      <td id=\"T_6d694_row2_col2\" class=\"data row2 col2\" >0.6190</td>\n",
       "      <td id=\"T_6d694_row2_col3\" class=\"data row2 col3\" >0.6048</td>\n",
       "      <td id=\"T_6d694_row2_col4\" class=\"data row2 col4\" >0.5917</td>\n",
       "      <td id=\"T_6d694_row2_col5\" class=\"data row2 col5\" >0.5763</td>\n",
       "      <td id=\"T_6d694_row2_col6\" class=\"data row2 col6\" >0.5837</td>\n",
       "    </tr>\n",
       "    <tr>\n",
       "      <th id=\"T_6d694_level0_row3\" class=\"row_heading level0 row3\" >3</th>\n",
       "      <td id=\"T_6d694_row3_col0\" class=\"data row3 col0\" >0.5714</td>\n",
       "      <td id=\"T_6d694_row3_col1\" class=\"data row3 col1\" >0.8726</td>\n",
       "      <td id=\"T_6d694_row3_col2\" class=\"data row3 col2\" >0.5714</td>\n",
       "      <td id=\"T_6d694_row3_col3\" class=\"data row3 col3\" >0.6060</td>\n",
       "      <td id=\"T_6d694_row3_col4\" class=\"data row3 col4\" >0.5653</td>\n",
       "      <td id=\"T_6d694_row3_col5\" class=\"data row3 col5\" >0.5242</td>\n",
       "      <td id=\"T_6d694_row3_col6\" class=\"data row3 col6\" >0.5296</td>\n",
       "    </tr>\n",
       "    <tr>\n",
       "      <th id=\"T_6d694_level0_row4\" class=\"row_heading level0 row4\" >4</th>\n",
       "      <td id=\"T_6d694_row4_col0\" class=\"data row4 col0\" >0.5952</td>\n",
       "      <td id=\"T_6d694_row4_col1\" class=\"data row4 col1\" >0.9014</td>\n",
       "      <td id=\"T_6d694_row4_col2\" class=\"data row4 col2\" >0.5952</td>\n",
       "      <td id=\"T_6d694_row4_col3\" class=\"data row4 col3\" >0.5381</td>\n",
       "      <td id=\"T_6d694_row4_col4\" class=\"data row4 col4\" >0.5548</td>\n",
       "      <td id=\"T_6d694_row4_col5\" class=\"data row4 col5\" >0.5501</td>\n",
       "      <td id=\"T_6d694_row4_col6\" class=\"data row4 col6\" >0.5557</td>\n",
       "    </tr>\n",
       "    <tr>\n",
       "      <th id=\"T_6d694_level0_row5\" class=\"row_heading level0 row5\" >Mean</th>\n",
       "      <td id=\"T_6d694_row5_col0\" class=\"data row5 col0\" >0.5905</td>\n",
       "      <td id=\"T_6d694_row5_col1\" class=\"data row5 col1\" >0.8938</td>\n",
       "      <td id=\"T_6d694_row5_col2\" class=\"data row5 col2\" >0.5905</td>\n",
       "      <td id=\"T_6d694_row5_col3\" class=\"data row5 col3\" >0.5866</td>\n",
       "      <td id=\"T_6d694_row5_col4\" class=\"data row5 col4\" >0.5681</td>\n",
       "      <td id=\"T_6d694_row5_col5\" class=\"data row5 col5\" >0.5451</td>\n",
       "      <td id=\"T_6d694_row5_col6\" class=\"data row5 col6\" >0.5517</td>\n",
       "    </tr>\n",
       "    <tr>\n",
       "      <th id=\"T_6d694_level0_row6\" class=\"row_heading level0 row6\" >Std</th>\n",
       "      <td id=\"T_6d694_row6_col0\" class=\"data row6 col0\" >0.0278</td>\n",
       "      <td id=\"T_6d694_row6_col1\" class=\"data row6 col1\" >0.0270</td>\n",
       "      <td id=\"T_6d694_row6_col2\" class=\"data row6 col2\" >0.0278</td>\n",
       "      <td id=\"T_6d694_row6_col3\" class=\"data row6 col3\" >0.0652</td>\n",
       "      <td id=\"T_6d694_row6_col4\" class=\"data row6 col4\" >0.0357</td>\n",
       "      <td id=\"T_6d694_row6_col5\" class=\"data row6 col5\" >0.0309</td>\n",
       "      <td id=\"T_6d694_row6_col6\" class=\"data row6 col6\" >0.0317</td>\n",
       "    </tr>\n",
       "  </tbody>\n",
       "</table>\n"
      ],
      "text/plain": [
       "<pandas.io.formats.style.Styler at 0x2abab84b490>"
      ]
     },
     "metadata": {},
     "output_type": "display_data"
    },
    {
     "name": "stdout",
     "output_type": "stream",
     "text": [
      "Fitting 5 folds for each of 30 candidates, totalling 150 fits\n"
     ]
    }
   ],
   "source": [
    "tuned_model = tune_model( best[0], optimize = 'Accuracy', n_iter = 30, fold = 5 )"
   ]
  },
  {
   "cell_type": "code",
   "execution_count": 20,
   "metadata": {},
   "outputs": [
    {
     "data": {
      "text/html": [],
      "text/plain": [
       "<IPython.core.display.HTML object>"
      ]
     },
     "metadata": {},
     "output_type": "display_data"
    },
    {
     "data": {
      "image/png": "[encoded data removed]",
      "text/plain": [
       "<Figure size 800x550 with 1 Axes>"
      ]
     },
     "metadata": {},
     "output_type": "display_data"
    }
   ],
   "source": [
    "plot_model(tuned_model, plot = 'auc')"
   ]
  },
  {
   "attachments": {},
   "cell_type": "markdown",
   "metadata": {},
   "source": [
    "<h4>Pipeline</h4>"
   ]
  },
  {
   "cell_type": "code",
   "execution_count": 21,
   "metadata": {},
   "outputs": [],
   "source": [
    "steps = [\n",
    "    ('scalar', MinMaxScaler()),\n",
    "    ('PCA', PCA( n_components=2 ) ),\n",
    "    ('Randomforest',RandomForestClassifier( max_depth = None , random_state = 123, criterion = 'gini', max_features='sqrt'  ))\n",
    "]\n",
    "\n",
    "pipeline = Pipeline(steps)"
   ]
  },
  {
   "cell_type": "code",
   "execution_count": 22,
   "metadata": {},
   "outputs": [
    {
     "name": "stdout",
     "output_type": "stream",
     "text": [
      "Training score: 1.0\n"
     ]
    }
   ],
   "source": [
    "pr = pipeline.fit(X_train, y_train)\n",
    "\n",
    "print('Training score: {}'.format(pipeline.score(X_train, y_train)))"
   ]
  },
  {
   "attachments": {},
   "cell_type": "markdown",
   "metadata": {},
   "source": [
    "# STEP 4 : Test"
   ]
  },
  {
   "cell_type": "code",
   "execution_count": 23,
   "metadata": {},
   "outputs": [
    {
     "name": "stdout",
     "output_type": "stream",
     "text": [
      "              precision    recall  f1-score   support\n",
      "\n",
      "           0       1.00      0.11      0.20         9\n",
      "           1       0.50      0.22      0.31         9\n",
      "           2       0.33      0.11      0.17         9\n",
      "           3       0.00      0.00      0.00         9\n",
      "           4       0.33      0.11      0.17         9\n",
      "           5       0.00      0.00      0.00         9\n",
      "           6       0.11      0.11      0.11         9\n",
      "           7       0.67      0.22      0.33         9\n",
      "           8       0.00      0.00      0.00         9\n",
      "           9       0.25      0.11      0.15         9\n",
      "\n",
      "   micro avg       0.27      0.10      0.15        90\n",
      "   macro avg       0.32      0.10      0.14        90\n",
      "weighted avg       0.32      0.10      0.14        90\n",
      " samples avg       0.10      0.10      0.10        90\n",
      "\n"
     ]
    }
   ],
   "source": [
    "y_pred = pr.predict(X_test)\n",
    "\n",
    "print(classification_report(y_test, y_pred)) "
   ]
  },
  {
   "attachments": {},
   "cell_type": "markdown",
   "metadata": {},
   "source": [
    "<h4>Evaluations</h4>"
   ]
  },
  {
   "cell_type": "code",
   "execution_count": null,
   "metadata": {},
   "outputs": [],
   "source": []
  }
 ],
 "metadata": {
  "kernelspec": {
   "display_name": "firstEnv",
   "language": "python",
   "name": "firstenv"
  },
  "language_info": {
   "codemirror_mode": {
    "name": "ipython",
    "version": 3
   },
   "file_extension": ".py",
   "mimetype": "text/x-python",
   "name": "python",
   "nbconvert_exporter": "python",
   "pygments_lexer": "ipython3",
   "version": "3.8.16"
  },
  "orig_nbformat": 4
 },
 "nbformat": 4,
 "nbformat_minor": 2
}
