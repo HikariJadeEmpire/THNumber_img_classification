{
 "cells": [
  {
   "attachments": {},
   "cell_type": "markdown",
   "metadata": {},
   "source": [
    "<a href=\"https://colab.research.google.com/github/HikariJadeEmpire/THNumber_img_classification/blob/main/numberclassifier.ipynb\">\n",
    "  <img src=\"https://colab.research.google.com/assets/colab-badge.svg\" alt=\"Open In Colab\"/>\n",
    "</a>"
   ]
  },
  {
   "cell_type": "code",
   "execution_count": 53,
   "metadata": {},
   "outputs": [],
   "source": [
    "#pip install opencv-python\n",
    "#pip install tensorflow      # keras is run on tensorflow so install tensorflow first\n",
    "# vv \n",
    "#pip install keras\n",
    "\n",
    "# Choose one (for Cross Validation)\n",
    "#pip install pycaret\n",
    "#pip install tune-sklearn ray[tune]"
   ]
  },
  {
   "attachments": {},
   "cell_type": "markdown",
   "metadata": {},
   "source": [
    "# STEP 1 : Importing"
   ]
  },
  {
   "cell_type": "code",
   "execution_count": 54,
   "metadata": {},
   "outputs": [],
   "source": [
    "\n",
    "import numpy as np\n",
    "import pandas as pd\n",
    "\n",
    "import seaborn as sns\n",
    "import matplotlib.pyplot as plt\n",
    "%matplotlib inline"
   ]
  },
  {
   "cell_type": "code",
   "execution_count": 55,
   "metadata": {},
   "outputs": [],
   "source": [
    "#Importing OpenCV - the computer vision library\n",
    "import cv2\n",
    "\n",
    "# import the modules - Directory management\n",
    "import glob\n",
    "import os\n",
    "from os import listdir"
   ]
  },
  {
   "cell_type": "code",
   "execution_count": 56,
   "metadata": {},
   "outputs": [],
   "source": [
    "from sklearn.model_selection import train_test_split\n",
    "from sklearn import preprocessing\n",
    "\n",
    "# Neural Network\n",
    "from tensorflow import keras\n",
    "from tensorflow.keras import layers\n",
    "\n",
    "from keras.wrappers.scikit_learn import KerasClassifier\n",
    "from tune_sklearn import TuneGridSearchCV"
   ]
  },
  {
   "attachments": {},
   "cell_type": "markdown",
   "metadata": {},
   "source": [
    "# STEP 1.1 : SET an important Variables"
   ]
  },
  {
   "cell_type": "code",
   "execution_count": 57,
   "metadata": {},
   "outputs": [],
   "source": [
    "main_dir = \"./Thainumber\""
   ]
  },
  {
   "attachments": {},
   "cell_type": "markdown",
   "metadata": {},
   "source": [
    "# <h2>STEP 1.2 : Note ( It's not necessary to use. )</h2>"
   ]
  },
  {
   "cell_type": "code",
   "execution_count": 58,
   "metadata": {},
   "outputs": [],
   "source": [
    "# get the path/directory\n",
    "\n",
    "Zero_dir = main_dir + \"/0\"\n",
    "\n",
    "#for images in os.listdir(One_dir):\n",
    " \n",
    "    # check if the image ends with png\n",
    "#    if (images.endswith(\".png\")):\n",
    "#        print(images)"
   ]
  },
  {
   "cell_type": "code",
   "execution_count": 59,
   "metadata": {},
   "outputs": [
    {
     "name": "stdout",
     "output_type": "stream",
     "text": [
      "Original Image Shape (28, 28, 3)\n"
     ]
    },
    {
     "data": {
      "image/png": "[encoded data removed]",
      "text/plain": [
       "<Figure size 800x550 with 1 Axes>"
      ]
     },
     "metadata": {},
     "output_type": "display_data"
    }
   ],
   "source": [
    "#To read the image \n",
    "bgrimg = cv2.imread(str(Zero_dir+'/0-2.png'))\n",
    "\n",
    "plt.imshow(bgrimg)\n",
    "\n",
    "#To get rid of the x-ticks and y-ticks on the image axis\n",
    "#plt.xticks([])\n",
    "#plt.yticks([])\n",
    "\n",
    "print('Original Image Shape',bgrimg.shape)"
   ]
  },
  {
   "cell_type": "code",
   "execution_count": 60,
   "metadata": {},
   "outputs": [],
   "source": [
    "#cv2.imread(str(Zero_dir+'/IMG_0953.png'))"
   ]
  },
  {
   "attachments": {},
   "cell_type": "markdown",
   "metadata": {},
   "source": [
    "# STEP 2 : Preparing & inspection"
   ]
  },
  {
   "attachments": {},
   "cell_type": "markdown",
   "metadata": {},
   "source": [
    "Prepare for inspections"
   ]
  },
  {
   "cell_type": "code",
   "execution_count": 61,
   "metadata": {},
   "outputs": [],
   "source": [
    "file_path_all = list( glob.glob( main_dir + '/**/*.png' ) )"
   ]
  },
  {
   "cell_type": "code",
   "execution_count": 62,
   "metadata": {},
   "outputs": [
    {
     "data": {
      "text/html": [
       "<div>\n",
       "<style scoped>\n",
       "    .dataframe tbody tr th:only-of-type {\n",
       "        vertical-align: middle;\n",
       "    }\n",
       "\n",
       "    .dataframe tbody tr th {\n",
       "        vertical-align: top;\n",
       "    }\n",
       "\n",
       "    .dataframe thead th {\n",
       "        text-align: right;\n",
       "    }\n",
       "</style>\n",
       "<table border=\"1\" class=\"dataframe\">\n",
       "  <thead>\n",
       "    <tr style=\"text-align: right;\">\n",
       "      <th></th>\n",
       "      <th>Filepath</th>\n",
       "      <th>Label</th>\n",
       "    </tr>\n",
       "  </thead>\n",
       "  <tbody>\n",
       "    <tr>\n",
       "      <th>0</th>\n",
       "      <td>./Thainumber\\6\\IMG_0918.png</td>\n",
       "      <td>6</td>\n",
       "    </tr>\n",
       "    <tr>\n",
       "      <th>1</th>\n",
       "      <td>./Thainumber\\9\\IMG_0942.png</td>\n",
       "      <td>9</td>\n",
       "    </tr>\n",
       "    <tr>\n",
       "      <th>2</th>\n",
       "      <td>./Thainumber\\3\\three.png</td>\n",
       "      <td>3</td>\n",
       "    </tr>\n",
       "    <tr>\n",
       "      <th>3</th>\n",
       "      <td>./Thainumber\\8\\8-02.png</td>\n",
       "      <td>8</td>\n",
       "    </tr>\n",
       "    <tr>\n",
       "      <th>4</th>\n",
       "      <td>./Thainumber\\3\\3-5.png</td>\n",
       "      <td>3</td>\n",
       "    </tr>\n",
       "    <tr>\n",
       "      <th>...</th>\n",
       "      <td>...</td>\n",
       "      <td>...</td>\n",
       "    </tr>\n",
       "    <tr>\n",
       "      <th>295</th>\n",
       "      <td>./Thainumber\\2\\IMG_0872.png</td>\n",
       "      <td>2</td>\n",
       "    </tr>\n",
       "    <tr>\n",
       "      <th>296</th>\n",
       "      <td>./Thainumber\\5\\IMG_0909.png</td>\n",
       "      <td>5</td>\n",
       "    </tr>\n",
       "    <tr>\n",
       "      <th>297</th>\n",
       "      <td>./Thainumber\\5\\5-2.png</td>\n",
       "      <td>5</td>\n",
       "    </tr>\n",
       "    <tr>\n",
       "      <th>298</th>\n",
       "      <td>./Thainumber\\5\\5-23.png</td>\n",
       "      <td>5</td>\n",
       "    </tr>\n",
       "    <tr>\n",
       "      <th>299</th>\n",
       "      <td>./Thainumber\\8\\8-01.png</td>\n",
       "      <td>8</td>\n",
       "    </tr>\n",
       "  </tbody>\n",
       "</table>\n",
       "<p>300 rows × 2 columns</p>\n",
       "</div>"
      ],
      "text/plain": [
       "                        Filepath Label\n",
       "0    ./Thainumber\\6\\IMG_0918.png     6\n",
       "1    ./Thainumber\\9\\IMG_0942.png     9\n",
       "2       ./Thainumber\\3\\three.png     3\n",
       "3        ./Thainumber\\8\\8-02.png     8\n",
       "4         ./Thainumber\\3\\3-5.png     3\n",
       "..                           ...   ...\n",
       "295  ./Thainumber\\2\\IMG_0872.png     2\n",
       "296  ./Thainumber\\5\\IMG_0909.png     5\n",
       "297       ./Thainumber\\5\\5-2.png     5\n",
       "298      ./Thainumber\\5\\5-23.png     5\n",
       "299      ./Thainumber\\8\\8-01.png     8\n",
       "\n",
       "[300 rows x 2 columns]"
      ]
     },
     "execution_count": 62,
     "metadata": {},
     "output_type": "execute_result"
    }
   ],
   "source": [
    "labels = list( map(lambda x: os.path.split( os.path.split(x)[0] )[1] , file_path_all) )\n",
    "\n",
    "filepath = pd.Series(file_path_all, name='Filepath').astype(str)\n",
    "labels = pd.Series(labels, name='Label')\n",
    "\n",
    "data = pd.concat([filepath, labels], axis=1)\n",
    "\n",
    "data = data.sample(frac=1).reset_index(drop=True)   # Return a random sample of items from an axis of object.\n",
    "data"
   ]
  },
  {
   "cell_type": "code",
   "execution_count": 63,
   "metadata": {},
   "outputs": [
    {
     "data": {
      "text/plain": [
       "(300, 2)"
      ]
     },
     "execution_count": 63,
     "metadata": {},
     "output_type": "execute_result"
    }
   ],
   "source": [
    "data.shape"
   ]
  },
  {
   "cell_type": "code",
   "execution_count": 64,
   "metadata": {},
   "outputs": [
    {
     "data": {
      "image/png": "[encoded data removed]",
      "text/plain": [
       "<Figure size 1000x600 with 20 Axes>"
      ]
     },
     "metadata": {},
     "output_type": "display_data"
    }
   ],
   "source": [
    "fig, axes = plt.subplots(nrows=4, ncols=5, figsize=(10,6), subplot_kw = {'xticks':[],'yticks':[]} )\n",
    "\n",
    "for i, ax in enumerate(axes.flat):\n",
    "    ax.imshow(plt.imread(data.Filepath[i]))\n",
    "    ax.set_title(data.Label[i])\n",
    "plt.tight_layout()\n",
    "plt.show()"
   ]
  },
  {
   "cell_type": "code",
   "execution_count": 65,
   "metadata": {},
   "outputs": [
    {
     "data": {
      "text/plain": [
       "Text(0, 0.5, 'Counts')"
      ]
     },
     "execution_count": 65,
     "metadata": {},
     "output_type": "execute_result"
    },
    {
     "data": {
      "image/png": "[encoded data removed]",
      "text/plain": [
       "<Figure size 800x550 with 1 Axes>"
      ]
     },
     "metadata": {},
     "output_type": "display_data"
    }
   ],
   "source": [
    "counts = data.Label.value_counts()\n",
    "sns.barplot(x=counts.index, y=counts)\n",
    "plt.ylabel('Counts')"
   ]
  },
  {
   "attachments": {},
   "cell_type": "markdown",
   "metadata": {},
   "source": [
    "Prepare for Training"
   ]
  },
  {
   "cell_type": "code",
   "execution_count": 66,
   "metadata": {},
   "outputs": [],
   "source": [
    "# Prepare X and Y\n",
    "\n",
    "Before_x = data['Filepath']\n",
    "y = data['Label']\n",
    "\n",
    "# To work with X, we need to flatten the images first.\n",
    "read_x = []\n",
    "\n",
    "for i in Before_x :\n",
    "    img_arr = cv2.imread(i)\n",
    "    img_arr = cv2. cvtColor(img_arr, cv2.COLOR_BGR2GRAY)\n",
    "    img_arr = np.expand_dims(img_arr, 2)\n",
    "    read_x.append(img_arr)\n",
    "\n",
    "Almost_x = np.array(read_x)\n",
    "x = Almost_x/255       # Devide by 255 is to Normalization"
   ]
  },
  {
   "cell_type": "code",
   "execution_count": 67,
   "metadata": {},
   "outputs": [
    {
     "name": "stdout",
     "output_type": "stream",
     "text": [
      "['6' '9' '3' '8' '1' '5' '0' '7' '4' '2'] \n",
      "\n",
      "[[0 0 0 ... 0 0 0]\n",
      " [0 0 0 ... 0 0 1]\n",
      " [0 0 0 ... 0 0 0]\n",
      " ...\n",
      " [0 0 0 ... 0 0 0]\n",
      " [0 0 0 ... 0 0 0]\n",
      " [0 0 0 ... 0 1 0]]\n"
     ]
    }
   ],
   "source": [
    "print( y.unique(), '\\n' )\n",
    "\n",
    "# Binarize the output\n",
    "\n",
    "y = preprocessing.label_binarize( y , classes = ['0', '1', '2', '3', '4', '5', '6', '7', '8', '9'] )\n",
    "print(y)"
   ]
  },
  {
   "cell_type": "code",
   "execution_count": 68,
   "metadata": {},
   "outputs": [
    {
     "name": "stdout",
     "output_type": "stream",
     "text": [
      "Train shape => (210, 28, 28, 1) (90, 28, 28, 1)\n",
      "Test shape => (210, 10) (90, 10)\n"
     ]
    }
   ],
   "source": [
    "X_train, X_test , y_train, y_test = train_test_split( x, y , test_size=0.3, random_state=42 )\n",
    "\n",
    "print('Train shape =>',X_train.shape , X_test.shape)\n",
    "print('Test shape =>',y_train.shape , y_test.shape )"
   ]
  },
  {
   "attachments": {},
   "cell_type": "markdown",
   "metadata": {},
   "source": [
    "# STEP 3 : Train "
   ]
  },
  {
   "attachments": {},
   "cell_type": "markdown",
   "metadata": {},
   "source": [
    "Build a Neural Network model for cross validation <br>\n",
    "E.g set hidden layers , etc."
   ]
  },
  {
   "cell_type": "code",
   "execution_count": 69,
   "metadata": {},
   "outputs": [],
   "source": [
    "# Set up model\n",
    "\n",
    "def create_model(optimizer=\"rmsprop\", kernel_initializer=\"glorot_uniform\"):\n",
    "    model = keras.Sequential()\n",
    "    model.add(layers.Dense(100, input_shape=(28,28,1 )))\n",
    "    model.add(layers.Activation(\"relu\"))\n",
    "    model.add(layers.Dropout(0.2))\n",
    "    model.add(layers.Dense(100, kernel_initializer=kernel_initializer))\n",
    "    model.add(layers.Activation(\"relu\"))\n",
    "    model.add(layers.Flatten())\n",
    "    model.add(layers.Dropout(0.2))\n",
    "    model.add(layers.Dense(10, kernel_initializer=kernel_initializer))\n",
    "    model.add(layers.Activation(\"softmax\"))  # This special \"softmax\" a\n",
    "    model.compile(\n",
    "        loss=\"binary_crossentropy\", optimizer=optimizer, metrics=[\"accuracy\"])\n",
    "    return model\n"
   ]
  },
  {
   "attachments": {},
   "cell_type": "markdown",
   "metadata": {},
   "source": [
    "<h4>Cross Validation : keras</h4>\n",
    "By : TuneGridSearchCV"
   ]
  },
  {
   "cell_type": "code",
   "execution_count": 70,
   "metadata": {},
   "outputs": [
    {
     "data": {
      "text/html": [],
      "text/plain": [
       "<IPython.core.display.HTML object>"
      ]
     },
     "metadata": {},
     "output_type": "display_data"
    },
    {
     "name": "stdout",
     "output_type": "stream",
     "text": [
      "\u001b[2m\u001b[36m(_Trainable pid=21880)\u001b[0m \u001b[32m [repeated 48x across cluster]\u001b[0m\n",
      "\u001b[2m\u001b[36m(_Trainable pid=21880)\u001b[0m 1/6 [====>.........................] - ETA: 7s - loss: 0.6851 - accuracy: 0.0625\u001b[32m [repeated 7x across cluster]\u001b[0m\n",
      "\u001b[2m\u001b[36m(_Trainable pid=13780)\u001b[0m 2/6 [=========>....................] - ETA: 0s - loss: 0.5006 - accuracy: 0.0469\u001b[32m [repeated 6x across cluster]\u001b[0m\n",
      "\u001b[2m\u001b[36m(_Trainable pid=13780)\u001b[0m 1/2 [==============>...............] - ETA: 0s - loss: 0.3682 - accuracy: 0.0938\u001b[32m [repeated 17x across cluster]\u001b[0m\n",
      "\u001b[2m\u001b[36m(_Trainable pid=17340)\u001b[0m 4/6 [===================>..........] - ETA: 0s - loss: 0.5475 - accuracy: 0.0938\u001b[32m [repeated 7x across cluster]\u001b[0m\n",
      "\u001b[2m\u001b[36m(_Trainable pid=17340)\u001b[0m 5/6 [========================>.....] - ETA: 0s - loss: 0.5514 - accuracy: 0.0875\u001b[32m [repeated 7x across cluster]\u001b[0m\n",
      "\u001b[2m\u001b[36m(_Trainable pid=13780)\u001b[0m 2/2 [==============================] - 0s 10ms/step - loss: 0.3674 - accuracy: 0.1190\u001b[32m [repeated 19x across cluster]\u001b[0m\n",
      "\u001b[2m\u001b[36m(_Trainable pid=13780)\u001b[0m 6/6 [==============================] - ETA: 0s - loss: 0.4262 - accuracy: 0.0952\u001b[32m [repeated 2x across cluster]\u001b[0m\n",
      "\u001b[2m\u001b[36m(_Trainable pid=9784)\u001b[0m \u001b[32m [repeated 59x across cluster]\u001b[0m\n",
      "\u001b[2m\u001b[36m(_Trainable pid=17904)\u001b[0m 1/6 [====>.........................] - ETA: 9s - loss: 0.6565 - accuracy: 0.0938\u001b[32m [repeated 11x across cluster]\u001b[0m\n",
      "\u001b[2m\u001b[36m(_Trainable pid=17904)\u001b[0m 2/6 [=========>....................] - ETA: 0s - loss: 0.5587 - accuracy: 0.0938\u001b[32m [repeated 12x across cluster]\u001b[0m\n",
      "\u001b[2m\u001b[36m(_Trainable pid=9784)\u001b[0m 1/2 [==============>...............] - ETA: 0s - loss: 0.4218 - accuracy: 0.0000e+00\u001b[32m [repeated 21x across cluster]\u001b[0m\n",
      "\u001b[2m\u001b[36m(_Trainable pid=18368)\u001b[0m 4/6 [===================>..........] - ETA: 0s - loss: 0.4422 - accuracy: 0.0859\u001b[32m [repeated 11x across cluster]\u001b[0m\n",
      "\u001b[2m\u001b[36m(_Trainable pid=18368)\u001b[0m 5/6 [========================>.....] - ETA: 0s - loss: 0.4218 - accuracy: 0.0812\u001b[32m [repeated 11x across cluster]\u001b[0m\n",
      "\u001b[2m\u001b[36m(_Trainable pid=9784)\u001b[0m 2/2 [==============================] - 1s 11ms/step - loss: 0.4099 - accuracy: 0.0476\u001b[32m [repeated 19x across cluster]\u001b[0m\n",
      "\u001b[2m\u001b[36m(_Trainable pid=9784)\u001b[0m 6/6 [==============================] - ETA: 0s - loss: 0.6031 - accuracy: 0.1071\u001b[32m [repeated 7x across cluster]\u001b[0m\n",
      "\u001b[2m\u001b[36m(_Trainable pid=19356)\u001b[0m \u001b[32m [repeated 59x across cluster]\u001b[0m\n",
      "\u001b[2m\u001b[36m(_Trainable pid=19356)\u001b[0m 1/6 [====>.........................] - ETA: 13s - loss: 0.7087 - accuracy: 0.0625\u001b[32m [repeated 10x across cluster]\u001b[0m\n",
      "\u001b[2m\u001b[36m(_Trainable pid=19356)\u001b[0m 2/6 [=========>....................] - ETA: 0s - loss: 0.5240 - accuracy: 0.0781 \u001b[32m [repeated 10x across cluster]\u001b[0m\n",
      "\u001b[2m\u001b[36m(_Trainable pid=9720)\u001b[0m 3/6 [==============>...............] - ETA: 0s - loss: 0.4988 - accuracy: 0.0417\u001b[32m [repeated 20x across cluster]\u001b[0m\n",
      "\u001b[2m\u001b[36m(_Trainable pid=9720)\u001b[0m 4/6 [===================>..........] - ETA: 0s - loss: 0.4731 - accuracy: 0.0547\u001b[32m [repeated 10x across cluster]\u001b[0m\n",
      "\u001b[2m\u001b[36m(_Trainable pid=9720)\u001b[0m 5/6 [========================>.....] - ETA: 0s - loss: 0.4639 - accuracy: 0.0625\u001b[32m [repeated 10x across cluster]\u001b[0m\n",
      "\u001b[2m\u001b[36m(_Trainable pid=9720)\u001b[0m 6/6 [==============================] - 3s 75ms/step - loss: 0.4599 - accuracy: 0.0595\u001b[32m [repeated 22x across cluster]\u001b[0m\n",
      "\u001b[2m\u001b[36m(_Trainable pid=18368)\u001b[0m 6/6 [==============================] - ETA: 0s - loss: 0.4216 - accuracy: 0.0952\u001b[32m [repeated 7x across cluster]\u001b[0m\n",
      "\u001b[2m\u001b[36m(_Trainable pid=9784)\u001b[0m \u001b[32m [repeated 62x across cluster]\u001b[0m\n",
      "\u001b[2m\u001b[36m(_Trainable pid=9784)\u001b[0m 1/6 [====>.........................] - ETA: 12s - loss: 0.6929 - accuracy: 0.1250\u001b[32m [repeated 12x across cluster]\u001b[0m\n",
      "\u001b[2m\u001b[36m(_Trainable pid=21972)\u001b[0m 2/6 [=========>....................] - ETA: 0s - loss: 0.5426 - accuracy: 0.1250 \u001b[32m [repeated 11x across cluster]\u001b[0m\n",
      "\u001b[2m\u001b[36m(_Trainable pid=9720)\u001b[0m 1/2 [==============>...............] - ETA: 1s - loss: 0.3761 - accuracy: 0.0625\u001b[32m [repeated 21x across cluster]\u001b[0m\n",
      "\u001b[2m\u001b[36m(_Trainable pid=21972)\u001b[0m 4/6 [===================>..........] - ETA: 0s - loss: 0.4577 - accuracy: 0.1094\u001b[32m [repeated 12x across cluster]\u001b[0m\n",
      "\u001b[2m\u001b[36m(_Trainable pid=21972)\u001b[0m 5/6 [========================>.....] - ETA: 0s - loss: 0.4478 - accuracy: 0.1063\u001b[32m [repeated 12x across cluster]\u001b[0m\n",
      "\u001b[2m\u001b[36m(_Trainable pid=20112)\u001b[0m 6/6 [==============================] - 3s 184ms/step - loss: 0.5277 - accuracy: 0.1310\u001b[32m [repeated 20x across cluster]\u001b[0m\n",
      "\u001b[2m\u001b[36m(_Trainable pid=20112)\u001b[0m 6/6 [==============================] - ETA: 0s - loss: 0.5277 - accuracy: 0.1310\u001b[32m [repeated 4x across cluster]\u001b[0m\n"
     ]
    },
    {
     "name": "stderr",
     "output_type": "stream",
     "text": [
      "\u001b[2m\u001b[36m(_Trainable pid=21880)\u001b[0m WARNING:tensorflow:5 out of the last 9 calls to <function Model.make_test_function.<locals>.test_function at 0x000001D4ED98C0D0> triggered tf.function retracing. Tracing is expensive and the excessive number of tracings could be due to (1) creating @tf.function repeatedly in a loop, (2) passing tensors with different shapes, (3) passing Python objects instead of tensors. For (1), please define your @tf.function outside of the loop. For (2), @tf.function has reduce_retracing=True option that can avoid unnecessary retracing. For (3), please refer to https://www.tensorflow.org/guide/function#controlling_retracing and https://www.tensorflow.org/api_docs/python/tf/function for  more details.\u001b[32m [repeated 8x across cluster]\u001b[0m\n"
     ]
    },
    {
     "name": "stdout",
     "output_type": "stream",
     "text": [
      "7/7 [==============================] - 1s 56ms/step - loss: 0.3920 - accuracy: 0.0905\n",
      "{'optimizer': 'rmsprop', 'nb_epoch': 10, 'kernel_initializer': 'normal'}\n",
      "{'params': [{'optimizer': 'rmsprop', 'nb_epoch': 10, 'kernel_initializer': 'glorot_uniform'}, {'optimizer': 'rmsprop', 'nb_epoch': 10, 'kernel_initializer': 'normal'}, {'optimizer': 'rmsprop', 'nb_epoch': 20, 'kernel_initializer': 'glorot_uniform'}, {'optimizer': 'rmsprop', 'nb_epoch': 20, 'kernel_initializer': 'normal'}, {'optimizer': 'adam', 'nb_epoch': 10, 'kernel_initializer': 'glorot_uniform'}, {'optimizer': 'adam', 'nb_epoch': 10, 'kernel_initializer': 'normal'}, {'optimizer': 'adam', 'nb_epoch': 20, 'kernel_initializer': 'glorot_uniform'}, {'optimizer': 'adam', 'nb_epoch': 20, 'kernel_initializer': 'normal'}], 'split0_test_score': array([0.11904762, 0.0952381 , 0.0952381 , 0.04761905, 0.04761905,\n",
      "       0.07142857, 0.07142857, 0.04761905]), 'split1_test_score': array([0.0952381 , 0.11904762, 0.04761905, 0.07142857, 0.07142857,\n",
      "       0.07142857, 0.0952381 , 0.0952381 ]), 'split2_test_score': array([0.0952381 , 0.0952381 , 0.07142857, 0.04761905, 0.0952381 ,\n",
      "       0.0952381 , 0.04761905, 0.07142857]), 'split3_test_score': array([0.07142857, 0.07142857, 0.07142857, 0.07142857, 0.07142857,\n",
      "       0.07142857, 0.07142857, 0.07142857]), 'split4_test_score': array([0.07142857, 0.0952381 , 0.07142857, 0.04761905, 0.07142857,\n",
      "       0.02380952, 0.07142857, 0.04761905]), 'mean_test_score': array([0.09047619, 0.0952381 , 0.07142857, 0.05714286, 0.07142857,\n",
      "       0.06666667, 0.07142857, 0.06666667]), 'std_test_score': array([0.01781742, 0.01505846, 0.01505847, 0.01166424, 0.01505847,\n",
      "       0.02332847, 0.01505847, 0.01781742]), 'rank_test_score': array([2, 1, 3, 8, 3, 6, 3, 7]), 'time_total_s': array([18.08181524, 18.30125546, 18.29682255, 18.44539762, 20.71302032,\n",
      "       20.39735317, 20.8017292 , 20.63311911]), 'training_iteration': array([1, 1, 1, 1, 1, 1, 1, 1], dtype=int64), 'param_optimizer': masked_array(data=['rmsprop', 'rmsprop', 'rmsprop', 'rmsprop', 'adam',\n",
      "                   'adam', 'adam', 'adam'],\n",
      "             mask=[False, False, False, False, False, False, False, False],\n",
      "       fill_value='?',\n",
      "            dtype=object), 'param_nb_epoch': masked_array(data=[10, 10, 20, 20, 10, 10, 20, 20],\n",
      "             mask=[False, False, False, False, False, False, False, False],\n",
      "       fill_value='?',\n",
      "            dtype=object), 'param_kernel_initializer': masked_array(data=['glorot_uniform', 'normal', 'glorot_uniform', 'normal',\n",
      "                   'glorot_uniform', 'normal', 'glorot_uniform', 'normal'],\n",
      "             mask=[False, False, False, False, False, False, False, False],\n",
      "       fill_value='?',\n",
      "            dtype=object)}\n"
     ]
    }
   ],
   "source": [
    "model = KerasClassifier(build_fn=create_model)\n",
    "optimizers = [\"rmsprop\", \"adam\"]\n",
    "kernel_initializer = [\"glorot_uniform\", \"normal\"]\n",
    "epochs = [10, 20]\n",
    "param_grid = dict(\n",
    "    optimizer=optimizers,\n",
    "    nb_epoch=epochs,\n",
    "    kernel_initializer=kernel_initializer)\n",
    "\n",
    "grid = TuneGridSearchCV(estimator=model, param_grid=param_grid)\n",
    "grid_result = grid.fit(X_train, y_train)\n",
    "print(grid_result.best_params_)\n",
    "print(grid_result.cv_results_)"
   ]
  },
  {
   "attachments": {},
   "cell_type": "markdown",
   "metadata": {},
   "source": [
    "<h4>Cross Validation : AutoML </h4>\n",
    "By : Pycaret"
   ]
  },
  {
   "cell_type": "code",
   "execution_count": 71,
   "metadata": {},
   "outputs": [],
   "source": [
    "from pycaret.classification import *\n"
   ]
  },
  {
   "cell_type": "code",
   "execution_count": 72,
   "metadata": {},
   "outputs": [
    {
     "data": {
      "text/html": [
       "<style type=\"text/css\">\n",
       "#T_1675c_row9_col1 {\n",
       "  background-color: lightgreen;\n",
       "}\n",
       "</style>\n",
       "<table id=\"T_1675c\">\n",
       "  <thead>\n",
       "    <tr>\n",
       "      <th class=\"blank level0\" >&nbsp;</th>\n",
       "      <th id=\"T_1675c_level0_col0\" class=\"col_heading level0 col0\" >Description</th>\n",
       "      <th id=\"T_1675c_level0_col1\" class=\"col_heading level0 col1\" >Value</th>\n",
       "    </tr>\n",
       "  </thead>\n",
       "  <tbody>\n",
       "    <tr>\n",
       "      <th id=\"T_1675c_level0_row0\" class=\"row_heading level0 row0\" >0</th>\n",
       "      <td id=\"T_1675c_row0_col0\" class=\"data row0 col0\" >Session id</td>\n",
       "      <td id=\"T_1675c_row0_col1\" class=\"data row0 col1\" >8601</td>\n",
       "    </tr>\n",
       "    <tr>\n",
       "      <th id=\"T_1675c_level0_row1\" class=\"row_heading level0 row1\" >1</th>\n",
       "      <td id=\"T_1675c_row1_col0\" class=\"data row1 col0\" >Target</td>\n",
       "      <td id=\"T_1675c_row1_col1\" class=\"data row1 col1\" >Label</td>\n",
       "    </tr>\n",
       "    <tr>\n",
       "      <th id=\"T_1675c_level0_row2\" class=\"row_heading level0 row2\" >2</th>\n",
       "      <td id=\"T_1675c_row2_col0\" class=\"data row2 col0\" >Target type</td>\n",
       "      <td id=\"T_1675c_row2_col1\" class=\"data row2 col1\" >Multiclass</td>\n",
       "    </tr>\n",
       "    <tr>\n",
       "      <th id=\"T_1675c_level0_row3\" class=\"row_heading level0 row3\" >3</th>\n",
       "      <td id=\"T_1675c_row3_col0\" class=\"data row3 col0\" >Target mapping</td>\n",
       "      <td id=\"T_1675c_row3_col1\" class=\"data row3 col1\" >0: 0, 1: 1, 2: 2, 3: 3, 4: 4, 5: 5, 6: 6, 7: 7, 8: 8, 9: 9</td>\n",
       "    </tr>\n",
       "    <tr>\n",
       "      <th id=\"T_1675c_level0_row4\" class=\"row_heading level0 row4\" >4</th>\n",
       "      <td id=\"T_1675c_row4_col0\" class=\"data row4 col0\" >Original data shape</td>\n",
       "      <td id=\"T_1675c_row4_col1\" class=\"data row4 col1\" >(300, 2)</td>\n",
       "    </tr>\n",
       "    <tr>\n",
       "      <th id=\"T_1675c_level0_row5\" class=\"row_heading level0 row5\" >5</th>\n",
       "      <td id=\"T_1675c_row5_col0\" class=\"data row5 col0\" >Transformed data shape</td>\n",
       "      <td id=\"T_1675c_row5_col1\" class=\"data row5 col1\" >(300, 2)</td>\n",
       "    </tr>\n",
       "    <tr>\n",
       "      <th id=\"T_1675c_level0_row6\" class=\"row_heading level0 row6\" >6</th>\n",
       "      <td id=\"T_1675c_row6_col0\" class=\"data row6 col0\" >Transformed train set shape</td>\n",
       "      <td id=\"T_1675c_row6_col1\" class=\"data row6 col1\" >(210, 2)</td>\n",
       "    </tr>\n",
       "    <tr>\n",
       "      <th id=\"T_1675c_level0_row7\" class=\"row_heading level0 row7\" >7</th>\n",
       "      <td id=\"T_1675c_row7_col0\" class=\"data row7 col0\" >Transformed test set shape</td>\n",
       "      <td id=\"T_1675c_row7_col1\" class=\"data row7 col1\" >(90, 2)</td>\n",
       "    </tr>\n",
       "    <tr>\n",
       "      <th id=\"T_1675c_level0_row8\" class=\"row_heading level0 row8\" >8</th>\n",
       "      <td id=\"T_1675c_row8_col0\" class=\"data row8 col0\" >Categorical features</td>\n",
       "      <td id=\"T_1675c_row8_col1\" class=\"data row8 col1\" >1</td>\n",
       "    </tr>\n",
       "    <tr>\n",
       "      <th id=\"T_1675c_level0_row9\" class=\"row_heading level0 row9\" >9</th>\n",
       "      <td id=\"T_1675c_row9_col0\" class=\"data row9 col0\" >Preprocess</td>\n",
       "      <td id=\"T_1675c_row9_col1\" class=\"data row9 col1\" >True</td>\n",
       "    </tr>\n",
       "    <tr>\n",
       "      <th id=\"T_1675c_level0_row10\" class=\"row_heading level0 row10\" >10</th>\n",
       "      <td id=\"T_1675c_row10_col0\" class=\"data row10 col0\" >Imputation type</td>\n",
       "      <td id=\"T_1675c_row10_col1\" class=\"data row10 col1\" >simple</td>\n",
       "    </tr>\n",
       "    <tr>\n",
       "      <th id=\"T_1675c_level0_row11\" class=\"row_heading level0 row11\" >11</th>\n",
       "      <td id=\"T_1675c_row11_col0\" class=\"data row11 col0\" >Numeric imputation</td>\n",
       "      <td id=\"T_1675c_row11_col1\" class=\"data row11 col1\" >mean</td>\n",
       "    </tr>\n",
       "    <tr>\n",
       "      <th id=\"T_1675c_level0_row12\" class=\"row_heading level0 row12\" >12</th>\n",
       "      <td id=\"T_1675c_row12_col0\" class=\"data row12 col0\" >Categorical imputation</td>\n",
       "      <td id=\"T_1675c_row12_col1\" class=\"data row12 col1\" >mode</td>\n",
       "    </tr>\n",
       "    <tr>\n",
       "      <th id=\"T_1675c_level0_row13\" class=\"row_heading level0 row13\" >13</th>\n",
       "      <td id=\"T_1675c_row13_col0\" class=\"data row13 col0\" >Maximum one-hot encoding</td>\n",
       "      <td id=\"T_1675c_row13_col1\" class=\"data row13 col1\" >25</td>\n",
       "    </tr>\n",
       "    <tr>\n",
       "      <th id=\"T_1675c_level0_row14\" class=\"row_heading level0 row14\" >14</th>\n",
       "      <td id=\"T_1675c_row14_col0\" class=\"data row14 col0\" >Encoding method</td>\n",
       "      <td id=\"T_1675c_row14_col1\" class=\"data row14 col1\" >None</td>\n",
       "    </tr>\n",
       "    <tr>\n",
       "      <th id=\"T_1675c_level0_row15\" class=\"row_heading level0 row15\" >15</th>\n",
       "      <td id=\"T_1675c_row15_col0\" class=\"data row15 col0\" >Fold Generator</td>\n",
       "      <td id=\"T_1675c_row15_col1\" class=\"data row15 col1\" >StratifiedKFold</td>\n",
       "    </tr>\n",
       "    <tr>\n",
       "      <th id=\"T_1675c_level0_row16\" class=\"row_heading level0 row16\" >16</th>\n",
       "      <td id=\"T_1675c_row16_col0\" class=\"data row16 col0\" >Fold Number</td>\n",
       "      <td id=\"T_1675c_row16_col1\" class=\"data row16 col1\" >10</td>\n",
       "    </tr>\n",
       "    <tr>\n",
       "      <th id=\"T_1675c_level0_row17\" class=\"row_heading level0 row17\" >17</th>\n",
       "      <td id=\"T_1675c_row17_col0\" class=\"data row17 col0\" >CPU Jobs</td>\n",
       "      <td id=\"T_1675c_row17_col1\" class=\"data row17 col1\" >-1</td>\n",
       "    </tr>\n",
       "    <tr>\n",
       "      <th id=\"T_1675c_level0_row18\" class=\"row_heading level0 row18\" >18</th>\n",
       "      <td id=\"T_1675c_row18_col0\" class=\"data row18 col0\" >Use GPU</td>\n",
       "      <td id=\"T_1675c_row18_col1\" class=\"data row18 col1\" >False</td>\n",
       "    </tr>\n",
       "    <tr>\n",
       "      <th id=\"T_1675c_level0_row19\" class=\"row_heading level0 row19\" >19</th>\n",
       "      <td id=\"T_1675c_row19_col0\" class=\"data row19 col0\" >Log Experiment</td>\n",
       "      <td id=\"T_1675c_row19_col1\" class=\"data row19 col1\" >False</td>\n",
       "    </tr>\n",
       "    <tr>\n",
       "      <th id=\"T_1675c_level0_row20\" class=\"row_heading level0 row20\" >20</th>\n",
       "      <td id=\"T_1675c_row20_col0\" class=\"data row20 col0\" >Experiment Name</td>\n",
       "      <td id=\"T_1675c_row20_col1\" class=\"data row20 col1\" >clf-default-name</td>\n",
       "    </tr>\n",
       "    <tr>\n",
       "      <th id=\"T_1675c_level0_row21\" class=\"row_heading level0 row21\" >21</th>\n",
       "      <td id=\"T_1675c_row21_col0\" class=\"data row21 col0\" >USI</td>\n",
       "      <td id=\"T_1675c_row21_col1\" class=\"data row21 col1\" >a106</td>\n",
       "    </tr>\n",
       "  </tbody>\n",
       "</table>\n"
      ],
      "text/plain": [
       "<pandas.io.formats.style.Styler at 0x23b1547b670>"
      ]
     },
     "metadata": {},
     "output_type": "display_data"
    },
    {
     "data": {
      "text/html": [
       "<div>\n",
       "<style scoped>\n",
       "    .dataframe tbody tr th:only-of-type {\n",
       "        vertical-align: middle;\n",
       "    }\n",
       "\n",
       "    .dataframe tbody tr th {\n",
       "        vertical-align: top;\n",
       "    }\n",
       "\n",
       "    .dataframe thead th {\n",
       "        text-align: right;\n",
       "    }\n",
       "</style>\n",
       "<table border=\"1\" class=\"dataframe\">\n",
       "  <thead>\n",
       "    <tr style=\"text-align: right;\">\n",
       "      <th></th>\n",
       "      <th></th>\n",
       "      <th></th>\n",
       "    </tr>\n",
       "    <tr>\n",
       "      <th></th>\n",
       "      <th></th>\n",
       "      <th></th>\n",
       "    </tr>\n",
       "  </thead>\n",
       "  <tbody>\n",
       "    <tr>\n",
       "      <th>Initiated</th>\n",
       "      <td>. . . . . . . . . . . . . . . . . .</td>\n",
       "      <td>14:03:01</td>\n",
       "    </tr>\n",
       "    <tr>\n",
       "      <th>Status</th>\n",
       "      <td>. . . . . . . . . . . . . . . . . .</td>\n",
       "      <td>Loading Dependencies</td>\n",
       "    </tr>\n",
       "    <tr>\n",
       "      <th>Estimator</th>\n",
       "      <td>. . . . . . . . . . . . . . . . . .</td>\n",
       "      <td>Compiling Library</td>\n",
       "    </tr>\n",
       "  </tbody>\n",
       "</table>\n",
       "</div>"
      ],
      "text/plain": [
       "                                                                    \n",
       "                                                                    \n",
       "Initiated  . . . . . . . . . . . . . . . . . .              14:03:01\n",
       "Status     . . . . . . . . . . . . . . . . . .  Loading Dependencies\n",
       "Estimator  . . . . . . . . . . . . . . . . . .     Compiling Library"
      ]
     },
     "metadata": {},
     "output_type": "display_data"
    },
    {
     "data": {
      "text/html": [
       "<div>\n",
       "<style scoped>\n",
       "    .dataframe tbody tr th:only-of-type {\n",
       "        vertical-align: middle;\n",
       "    }\n",
       "\n",
       "    .dataframe tbody tr th {\n",
       "        vertical-align: top;\n",
       "    }\n",
       "\n",
       "    .dataframe thead th {\n",
       "        text-align: right;\n",
       "    }\n",
       "</style>\n",
       "<table border=\"1\" class=\"dataframe\">\n",
       "  <thead>\n",
       "    <tr style=\"text-align: right;\">\n",
       "      <th></th>\n",
       "      <th>Model</th>\n",
       "      <th>Accuracy</th>\n",
       "      <th>AUC</th>\n",
       "      <th>Recall</th>\n",
       "      <th>Prec.</th>\n",
       "      <th>F1</th>\n",
       "      <th>Kappa</th>\n",
       "      <th>MCC</th>\n",
       "      <th>TT (Sec)</th>\n",
       "    </tr>\n",
       "  </thead>\n",
       "  <tbody>\n",
       "  </tbody>\n",
       "</table>\n",
       "</div>"
      ],
      "text/plain": [
       "Empty DataFrame\n",
       "Columns: [Model, Accuracy, AUC, Recall, Prec., F1, Kappa, MCC, TT (Sec)]\n",
       "Index: []"
      ]
     },
     "metadata": {},
     "output_type": "display_data"
    }
   ],
   "source": [
    "clf = setup(data, target = 'Label',train_size = 0.7)\n",
    "top5_model = compare_models(sort = 'Accuracy', fold = 5, n_select = 5)"
   ]
  },
  {
   "cell_type": "code",
   "execution_count": 73,
   "metadata": {},
   "outputs": [
    {
     "data": {
      "text/plain": [
       "[SGDClassifier(alpha=0.0001, average=False, class_weight=None,\n",
       "               early_stopping=False, epsilon=0.1, eta0=0.001, fit_intercept=True,\n",
       "               l1_ratio=0.15, learning_rate='optimal', loss='hinge',\n",
       "               max_iter=1000, n_iter_no_change=5, n_jobs=-1, penalty='l2',\n",
       "               power_t=0.5, random_state=8601, shuffle=True, tol=0.001,\n",
       "               validation_fraction=0.1, verbose=0, warm_start=False),\n",
       " KNeighborsClassifier(algorithm='auto', leaf_size=30, metric='minkowski',\n",
       "                      metric_params=None, n_jobs=-1, n_neighbors=5, p=2,\n",
       "                      weights='uniform'),\n",
       " GaussianNB(priors=None, var_smoothing=1e-09),\n",
       " DecisionTreeClassifier(ccp_alpha=0.0, class_weight=None, criterion='gini',\n",
       "                        max_depth=None, max_features=None, max_leaf_nodes=None,\n",
       "                        min_impurity_decrease=0.0, min_samples_leaf=1,\n",
       "                        min_samples_split=2, min_weight_fraction_leaf=0.0,\n",
       "                        random_state=8601, splitter='best'),\n",
       " RandomForestClassifier(bootstrap=True, ccp_alpha=0.0, class_weight=None,\n",
       "                        criterion='gini', max_depth=None, max_features='sqrt',\n",
       "                        max_leaf_nodes=None, max_samples=None,\n",
       "                        min_impurity_decrease=0.0, min_samples_leaf=1,\n",
       "                        min_samples_split=2, min_weight_fraction_leaf=0.0,\n",
       "                        n_estimators=100, n_jobs=-1, oob_score=False,\n",
       "                        random_state=8601, verbose=0, warm_start=False)]"
      ]
     },
     "metadata": {},
     "output_type": "display_data"
    }
   ],
   "source": [
    "display(top5_model)"
   ]
  },
  {
   "attachments": {},
   "cell_type": "markdown",
   "metadata": {},
   "source": [
    "# STEP 4 : Test"
   ]
  },
  {
   "cell_type": "code",
   "execution_count": null,
   "metadata": {},
   "outputs": [],
   "source": []
  }
 ],
 "metadata": {
  "kernelspec": {
   "display_name": "base",
   "language": "python",
   "name": "python3"
  },
  "language_info": {
   "codemirror_mode": {
    "name": "ipython",
    "version": 3
   },
   "file_extension": ".py",
   "mimetype": "text/x-python",
   "name": "python",
   "nbconvert_exporter": "python",
   "pygments_lexer": "ipython3",
   "version": "3.10.9"
  },
  "orig_nbformat": 4
 },
 "nbformat": 4,
 "nbformat_minor": 2
}
